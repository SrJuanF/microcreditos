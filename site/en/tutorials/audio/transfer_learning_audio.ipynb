{
  "cells": [
    {
      "cell_type": "markdown",
      "metadata": {
        "id": "Cb4espuLKJiA"
      },
      "source": [
        "##### Copyright 2021 The TensorFlow Authors."
      ]
    },
    {
      "cell_type": "code",
      "execution_count": null,
      "metadata": {
        "cellView": "form",
        "id": "DjZQV2njKJ3U"
      },
      "outputs": [],
      "source": [
        "#@title Licensed under the Apache License, Version 2.0 (the \"License\");\n",
        "# you may not use this file except in compliance with the License.\n",
        "# You may obtain a copy of the License at\n",
        "#\n",
        "# https://www.apache.org/licenses/LICENSE-2.0\n",
        "#\n",
        "# Unless required by applicable law or agreed to in writing, software\n",
        "# distributed under the License is distributed on an \"AS IS\" BASIS,\n",
        "# WITHOUT WARRANTIES OR CONDITIONS OF ANY KIND, either express or implied.\n",
        "# See the License for the specific language governing permissions and\n",
        "# limitations under the License."
      ]
    },
    {
      "cell_type": "markdown",
      "metadata": {
        "id": "mTL0TERThT6z"
      },
      "source": [
        "<table class=\"tfo-notebook-buttons\" align=\"left\">\n",
        "  <td>\n",
        "    <a target=\"_blank\" href=\"https://www.tensorflow.org/tutorials/audio/transfer_learning_audio\"><img src=\"https://www.tensorflow.org/images/tf_logo_32px.png\" />View on TensorFlow.org</a>\n",
        "  </td>\n",
        "  <td>\n",
        "    <a target=\"_blank\" href=\"https://colab.research.google.com/github/tensorflow/docs/blob/master/site/en/tutorials/audio/transfer_learning_audio.ipynb\"><img src=\"https://www.tensorflow.org/images/colab_logo_32px.png\" />Run in Google Colab</a>\n",
        "  </td>\n",
        "  <td>\n",
        "    <a target=\"_blank\" href=\"https://github.com/tensorflow/docs/blob/master/site/en/tutorials/audio/transfer_learning_audio.ipynb\"><img src=\"https://www.tensorflow.org/images/GitHub-Mark-32px.png\" />View on GitHub</a>\n",
        "  </td>\n",
        "  <td>\n",
        "    <a href=\"https://storage.googleapis.com/tensorflow_docs/docs/site/en/tutorials/audio/transfer_learning_audio.ipynb\"><img src=\"https://www.tensorflow.org/images/download_logo_32px.png\" />Download notebook</a>\n",
        "  </td>\n",
        "  <td>\n",
        "    <a href=\"https://tfhub.dev/google/yamnet/1\"><img src=\"https://www.tensorflow.org/images/hub_logo_32px.png\" />See TF Hub model</a>\n",
        "  </td>\n",
        "</table>"
      ]
    },
    {
      "cell_type": "markdown",
      "metadata": {
        "id": "K2madPFAGHb3"
      },
      "source": [
        "# Transfer learning with YAMNet for environmental sound classification\n",
        "\n",
        "[YAMNet](https://tfhub.dev/google/yamnet/1) is a pre-trained deep neural network that can predict audio events from [521 classes](https://github.com/tensorflow/models/blob/master/research/audioset/yamnet/yamnet_class_map.csv), such as laughter, barking, or a siren.\n",
        "\n",
        " In this tutorial you will learn how to:\n",
        "\n",
        "- Load and use the YAMNet model for inference.\n",
        "- Build a new model using the YAMNet embeddings to classify cat and dog sounds.\n",
        "- Evaluate and export your model.\n"
      ]
    },
    {
      "cell_type": "markdown",
      "metadata": {
        "id": "5Mdp2TpBh96Y"
      },
      "source": [
        "## Import TensorFlow and other libraries\n"
      ]
    },
    {
      "cell_type": "markdown",
      "metadata": {
        "id": "zCcKYqu_hvKe"
      },
      "source": [
        "Start by installing [TensorFlow I/O](https://www.tensorflow.org/io), which will make it easier for you to load audio files off disk."
      ]
    },
    {
      "cell_type": "code",
      "execution_count": null,
      "metadata": {
        "id": "urBpRWDHTHHU"
      },
      "outputs": [],
      "source": [
        "!pip install tensorflow==2.15.0\n",
        "!pip install tensorflow-io==0.36.0\n",
        "!pip show tensorflow\n",
        "!pip show tensorflow-io\n"
      ]
    },
    {
      "cell_type": "code",
      "source": [
        "!pip uninstall tensorflow\n",
        "!pip uninstall tensorflow-io"
      ],
      "metadata": {
        "id": "J2AYZzn0qtLp"
      },
      "execution_count": null,
      "outputs": []
    },
    {
      "cell_type": "code",
      "source": [
        "!pip show tensorflow\n",
        "!pip show tensorflow-io"
      ],
      "metadata": {
        "id": "uHFzyBwIsDCv"
      },
      "execution_count": null,
      "outputs": []
    },
    {
      "cell_type": "code",
      "execution_count": 1,
      "metadata": {
        "id": "7l3nqdWVF-kC"
      },
      "outputs": [],
      "source": [
        "import os\n",
        "\n",
        "from IPython import display\n",
        "import matplotlib.pyplot as plt\n",
        "import numpy as np\n",
        "import pandas as pd\n",
        "\n",
        "import tensorflow as tf\n",
        "import tensorflow_hub as hub\n",
        "import tensorflow_io as tfio"
      ]
    },
    {
      "cell_type": "markdown",
      "metadata": {
        "id": "v9ZhybCnt_bM"
      },
      "source": [
        "## About YAMNet\n",
        "\n",
        "[YAMNet](https://github.com/tensorflow/models/tree/master/research/audioset/yamnet) is a pre-trained neural network that employs the [MobileNetV1](https://arxiv.org/abs/1704.04861) depthwise-separable convolution architecture. It can use an audio waveform as input and make independent predictions for each of the 521 audio events from the [AudioSet](http://g.co/audioset) corpus.\n",
        "\n",
        "Internally, the model extracts \"frames\" from the audio signal and processes batches of these frames. This version of the model uses frames that are 0.96 second long and extracts one frame every 0.48 seconds .\n",
        "\n",
        "The model accepts a 1-D float32 Tensor or NumPy array containing a waveform of arbitrary length, represented as single-channel (mono) 16 kHz samples in the range `[-1.0, +1.0]`. This tutorial contains code to help you convert WAV files into the supported format.\n",
        "\n",
        "The model returns 3 outputs, including the class scores, embeddings (which you will use for transfer learning), and the log mel [spectrogram](https://www.tensorflow.org/tutorials/audio/simple_audio#spectrogram). You can find more details [here](https://tfhub.dev/google/yamnet/1).\n",
        "\n",
        "One specific use of YAMNet is as a high-level feature extractor - the 1,024-dimensional embedding output. You will use the base (YAMNet) model's input features and feed them into your shallower model consisting of one hidden `tf.keras.layers.Dense` layer. Then, you will train the network on a small amount of data for audio classification _without_ requiring a lot of labeled data and training end-to-end. (This is similar to [transfer learning for image classification with TensorFlow Hub](https://www.tensorflow.org/tutorials/images/transfer_learning_with_hub) for more information.)\n",
        "\n",
        "First, you will test the model and see the results of classifying audio. You will then construct the data pre-processing pipeline.\n",
        "\n",
        "### Loading YAMNet from TensorFlow Hub\n",
        "\n",
        "You are going to use a pre-trained YAMNet from [Tensorflow Hub](https://tfhub.dev/) to extract the embeddings from the sound files.\n",
        "\n",
        "Loading a model from TensorFlow Hub is straightforward: choose the model, copy its URL, and use the `load` function.\n",
        "\n",
        "Note: to read the documentation of the model, use the model URL in your browser."
      ]
    },
    {
      "cell_type": "code",
      "execution_count": 2,
      "metadata": {
        "id": "06CWkBV5v3gr"
      },
      "outputs": [],
      "source": [
        "yamnet_model_handle = 'https://tfhub.dev/google/yamnet/1'\n",
        "yamnet_model = hub.load(yamnet_model_handle)"
      ]
    },
    {
      "cell_type": "markdown",
      "metadata": {
        "id": "GmrPJ0GHw9rr"
      },
      "source": [
        "With the model loaded, you can follow the [YAMNet basic usage tutorial](https://www.tensorflow.org/hub/tutorials/yamnet) and download a sample WAV file to run the inference.\n"
      ]
    },
    {
      "cell_type": "code",
      "execution_count": null,
      "metadata": {
        "id": "C5i6xktEq00P"
      },
      "outputs": [],
      "source": [
        "testing_wav_file_name = tf.keras.utils.get_file('miaow_16k.wav',\n",
        "                                                'https://storage.googleapis.com/audioset/miaow_16k.wav',\n",
        "                                                cache_dir='./',\n",
        "                                                cache_subdir='test_data')\n",
        "\n",
        "print(testing_wav_file_name)"
      ]
    },
    {
      "cell_type": "code",
      "source": [
        "testing_costo = \"/content/DataAudios/Testing/costo.wav\"\n",
        "testing_pago = \"/content/DataAudios/Testing/pago.wav\"\n",
        "testing_pedido = \"/content/DataAudios/Testing/pedido.wav\"\n",
        "testing_pendiente = \"/content/DataAudios/Testing/pendiente.wav\""
      ],
      "metadata": {
        "id": "DoBiOShERFEB"
      },
      "execution_count": 3,
      "outputs": []
    },
    {
      "cell_type": "markdown",
      "metadata": {
        "id": "mBm9y9iV2U_-"
      },
      "source": [
        "You will need a function to load audio files, which will also be used later when working with the training data. (Learn more about reading audio files and their labels in [Simple audio recognition](https://www.tensorflow.org/tutorials/audio/simple_audio#reading_audio_files_and_their_labels).\n",
        "\n",
        "Note: The returned `wav_data` from `load_wav_16k_mono` is already normalized to values in the `[-1.0, 1.0]` range (for more information, go to [YAMNet's documentation on TF Hub](https://tfhub.dev/google/yamnet/1))."
      ]
    },
    {
      "cell_type": "code",
      "execution_count": 6,
      "metadata": {
        "id": "Xwc9Wrdg2EtY"
      },
      "outputs": [],
      "source": [
        "# Utility functions for loading audio files and making sure the sample rate is correct.\n",
        "\n",
        "@tf.function\n",
        "def load_wav_16k_mono(filename):\n",
        "    \"\"\" Load a WAV file, convert it to a float tensor, resample to 16 kHz single-channel audio. \"\"\"\n",
        "    file_contents = tf.io.read_file(filename)\n",
        "    wav, sample_rate = tf.audio.decode_wav(\n",
        "          file_contents,\n",
        "          desired_channels=1)\n",
        "    wav = tf.squeeze(wav, axis=-1)\n",
        "    sample_rate = tf.cast(sample_rate, dtype=tf.int64)\n",
        "    wav = tfio.audio.resample(wav, rate_in=sample_rate, rate_out=16000)\n",
        "    return wav"
      ]
    },
    {
      "cell_type": "code",
      "source": [
        "@tf.function\n",
        "def load_wav_16k_monoR(filename, noise_std=0.005):\n",
        "    \"\"\"Carga audio, lo convierte a mono 16kHz, y añade ruido gaussiano.\"\"\"\n",
        "    file_contents = tf.io.read_file(filename)\n",
        "    wav, sample_rate = tf.audio.decode_wav(file_contents, desired_channels=1)\n",
        "    wav = tf.squeeze(wav, axis=-1)\n",
        "    sample_rate = tf.cast(sample_rate, dtype=tf.int64)\n",
        "    wav = tfio.audio.resample(wav, rate_in=sample_rate, rate_out=16000)\n",
        "\n",
        "    # Añadir ruido gaussiano\n",
        "    noise = tf.random.normal(shape=tf.shape(wav), mean=0.0, stddev=noise_std)\n",
        "    wav = wav + noise\n",
        "    wav = tf.clip_by_value(wav, -1.0, 1.0)  # Para evitar saturación\n",
        "\n",
        "    return wav\n",
        "\n"
      ],
      "metadata": {
        "id": "wlDVgQnbLHlF"
      },
      "execution_count": 60,
      "outputs": []
    },
    {
      "cell_type": "code",
      "execution_count": 61,
      "metadata": {
        "id": "FRqpjkwB0Jjw",
        "outputId": "bf6904e4-e4de-4fe7-9a70-785882f8010a",
        "colab": {
          "base_uri": "https://localhost:8080/",
          "height": 506
        }
      },
      "outputs": [
        {
          "output_type": "stream",
          "name": "stderr",
          "text": [
            "WARNING:tensorflow:Using a while_loop for converting IO>AudioResample cause there is no registered converter for this op.\n"
          ]
        },
        {
          "output_type": "execute_result",
          "data": {
            "text/plain": [
              "<IPython.lib.display.Audio object>"
            ],
            "text/html": [
              "\n",
              "                <audio  controls=\"controls\" >\n",
              "                    <source src=\"data:audio/wav;base64,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\" type=\"audio/wav\" />\n",
              "                    Your browser does not support the audio element.\n",
              "                </audio>\n",
              "              "
            ]
          },
          "metadata": {},
          "execution_count": 61
        },
        {
          "output_type": "display_data",
          "data": {
            "text/plain": [
              "<Figure size 640x480 with 1 Axes>"
            ],
            "image/png": "[encoded data removed]"
          },
          "metadata": {}
        }
      ],
      "source": [
        "testing_wav_data = load_wav_16k_monoR(testing_costo)\n",
        "\n",
        "_ = plt.plot(testing_wav_data)\n",
        "\n",
        "# Play the audio file.\n",
        "display.Audio(testing_wav_data, rate=16000)"
      ]
    },
    {
      "cell_type": "markdown",
      "metadata": {
        "id": "6z6rqlEz20YB"
      },
      "source": [
        "### Load the class mapping\n",
        "\n",
        "It's important to load the class names that YAMNet is able to recognize. The mapping file is present at `yamnet_model.class_map_path()` in the CSV format."
      ]
    },
    {
      "cell_type": "code",
      "execution_count": 10,
      "metadata": {
        "id": "6Gyj23e_3Mgr",
        "outputId": "5f33f492-ea7e-48aa-c46b-ca5254e94bdf",
        "colab": {
          "base_uri": "https://localhost:8080/"
        }
      },
      "outputs": [
        {
          "output_type": "stream",
          "name": "stdout",
          "text": [
            "Speech\n",
            "Child speech, kid speaking\n",
            "Conversation\n",
            "Narration, monologue\n",
            "Babbling\n",
            "Speech synthesizer\n",
            "Shout\n",
            "Bellow\n",
            "Whoop\n",
            "Yell\n",
            "Children shouting\n",
            "Screaming\n",
            "Whispering\n",
            "Laughter\n",
            "Baby laughter\n",
            "Giggle\n",
            "Snicker\n",
            "Belly laugh\n",
            "Chuckle, chortle\n",
            "Crying, sobbing\n",
            "...\n"
          ]
        }
      ],
      "source": [
        "class_map_path = yamnet_model.class_map_path().numpy().decode('utf-8')\n",
        "class_names =list(pd.read_csv(class_map_path)['display_name'])\n",
        "\n",
        "for name in class_names[:20]:\n",
        "  print(name)\n",
        "print('...')"
      ]
    },
    {
      "cell_type": "markdown",
      "metadata": {
        "id": "5xbycDnT40u0"
      },
      "source": [
        "### Run inference\n",
        "\n",
        "YAMNet provides frame-level class-scores (i.e., 521 scores for every frame). In order to determine clip-level predictions, the scores can be aggregated per-class across frames (e.g., using mean or max aggregation). This is done below by `scores_np.mean(axis=0)`. Finally, to find the top-scored class at the clip-level, you take the maximum of the 521 aggregated scores.\n"
      ]
    },
    {
      "cell_type": "code",
      "execution_count": 12,
      "metadata": {
        "id": "NT0otp-A4Y3u",
        "outputId": "b8d589ec-f532-4dd3-a81a-4da4ad065697",
        "colab": {
          "base_uri": "https://localhost:8080/"
        }
      },
      "outputs": [
        {
          "output_type": "stream",
          "name": "stdout",
          "text": [
            "The main sound is: Speech\n",
            "The embeddings shape: (4, 1024)\n"
          ]
        }
      ],
      "source": [
        "scores, embeddings, spectrogram = yamnet_model(testing_wav_data)\n",
        "class_scores = tf.reduce_mean(scores, axis=0)\n",
        "top_class = tf.math.argmax(class_scores)\n",
        "inferred_class = class_names[top_class]\n",
        "\n",
        "print(f'The main sound is: {inferred_class}')\n",
        "print(f'The embeddings shape: {embeddings.shape}')"
      ]
    },
    {
      "cell_type": "markdown",
      "metadata": {
        "id": "YBaLNg5H5IWa"
      },
      "source": [
        "Note: The model correctly inferred an animal sound. Your goal in this tutorial is to increase the model's accuracy for specific classes. Also, notice that the model generated 13 embeddings, 1 per frame."
      ]
    },
    {
      "cell_type": "markdown",
      "metadata": {
        "id": "fmthELBg1A2-"
      },
      "source": [
        "## ESC-50 dataset\n",
        "\n",
        "The [ESC-50 dataset](https://github.com/karolpiczak/ESC-50#repository-content) ([Piczak, 2015](https://www.karolpiczak.com/papers/Piczak2015-ESC-Dataset.pdf)) is a labeled collection of 2,000 five-second long environmental audio recordings. The dataset consists of 50 classes, with 40 examples per class.\n",
        "\n",
        "Download the dataset and extract it.\n"
      ]
    },
    {
      "cell_type": "code",
      "execution_count": null,
      "metadata": {
        "id": "MWobqK8JmZOU"
      },
      "outputs": [],
      "source": [
        "_ = tf.keras.utils.get_file('esc-50.zip',\n",
        "                        'https://github.com/karoldvl/ESC-50/archive/master.zip',\n",
        "                        cache_dir='./',\n",
        "                        cache_subdir='datasets',\n",
        "                        extract=True)"
      ]
    },
    {
      "cell_type": "code",
      "source": [
        "import zipfile\n",
        "\n",
        "with zipfile.ZipFile('/content/DataAudios/Audio.zip', 'r') as zip_ref:\n",
        "  zip_ref.extractall('/content/DataAudios')"
      ],
      "metadata": {
        "id": "JhIglOJOTI0_"
      },
      "execution_count": null,
      "outputs": []
    },
    {
      "cell_type": "markdown",
      "metadata": {
        "id": "qcruxiuX1cO5"
      },
      "source": [
        "### Explore the data\n",
        "\n",
        "The metadata for each file is specified in the csv file at `./datasets/ESC-50-master/meta/esc50.csv`\n",
        "\n",
        "and all the audio files are in `./datasets/ESC-50-master/audio/`\n",
        "\n",
        "You will create a pandas `DataFrame` with the mapping and use that to have a clearer view of the data.\n"
      ]
    },
    {
      "cell_type": "code",
      "execution_count": null,
      "metadata": {
        "id": "jwmLygPrMAbH"
      },
      "outputs": [],
      "source": [
        "esc50_csv = './datasets/ESC-50-master/meta/esc50.csv'\n",
        "base_data_path = './datasets/ESC-50-master/audio/'\n",
        "\n",
        "pd_data = pd.read_csv(esc50_csv)\n",
        "pd_data.head()"
      ]
    },
    {
      "cell_type": "markdown",
      "metadata": {
        "id": "7d4rHBEQ2QAU"
      },
      "source": [
        "### Filter the data\n",
        "\n",
        "Now that the data is stored in the `DataFrame`, apply some transformations:\n",
        "\n",
        "- Filter out rows and use only the selected classes - `dog` and `cat`. If you want to use any other classes, this is where you can choose them.\n",
        "- Amend the filename to have the full path. This will make loading easier later.\n",
        "- Change targets to be within a specific range. In this example, `dog` will remain at `0`, but `cat` will become `1` instead of its original value of `5`."
      ]
    },
    {
      "cell_type": "code",
      "execution_count": null,
      "metadata": {
        "id": "tFnEoQjgs14I"
      },
      "outputs": [],
      "source": [
        "my_classes = ['dog', 'cat']\n",
        "map_class_to_id = {'dog':0, 'cat':1}\n",
        "\n",
        "filtered_pd = pd_data[pd_data.category.isin(my_classes)]\n",
        "\n",
        "class_id = filtered_pd['category'].apply(lambda name: map_class_to_id[name])\n",
        "filtered_pd = filtered_pd.assign(target=class_id)\n",
        "\n",
        "full_path = filtered_pd['filename'].apply(lambda row: os.path.join(base_data_path, row))\n",
        "filtered_pd = filtered_pd.assign(filename=full_path)\n",
        "\n",
        "filtered_pd.head(10)"
      ]
    },
    {
      "cell_type": "code",
      "source": [
        "#Dataset own\n",
        "# Ruta al directorio \"Audios\"\n",
        "audio_dir = '/content/DataAudios/Audio'\n",
        "# Listas para almacenar archivos y clases\n",
        "files = []\n",
        "classes = []\n",
        "# Diccionario para mapear nombres de clases a valores numéricos\n",
        "class_mapping = {\n",
        "    'Costos': 0,\n",
        "    'Pagos': 1,\n",
        "    'Pedidos': 2,\n",
        "    'Pendientes': 3\n",
        "}\n",
        "# Recorrer las carpetas y agregar archivos y clases a las listas\n",
        "for class_name in os.listdir(audio_dir):\n",
        "    class_dir = os.path.join(audio_dir, class_name)\n",
        "    if os.path.isdir(class_dir):\n",
        "        for file_name in os.listdir(class_dir):\n",
        "            file_path = os.path.join(class_dir, file_name)\n",
        "            files.append(file_path)\n",
        "            classes.append(class_name)\n",
        "# Crear un DataFrame\n",
        "df = pd.DataFrame({'file_path': files, 'class': classes})\n",
        "# Reemplazar nombres de clases por valores numéricos\n",
        "df['class'] = df['class'].map(class_mapping)\n"
      ],
      "metadata": {
        "id": "8MHVjPHYTC6M"
      },
      "execution_count": 13,
      "outputs": []
    },
    {
      "cell_type": "code",
      "source": [
        "# Suponemos que tu DataFrame original se llama df\n",
        "# Y que tiene una columna 'label' que indica la clase\n",
        "\n",
        "# Crear un nuevo DataFrame para ir acumulando los resultados\n",
        "train_df = pd.DataFrame()\n",
        "val_df = pd.DataFrame()\n",
        "test_df = pd.DataFrame()\n",
        "\n",
        "# Para cada clase\n",
        "for class_label in df['class'].unique():\n",
        "    class_data = df[df['class'] == class_label]\n",
        "\n",
        "    # Mezclar aleatoriamente los datos de esta clase\n",
        "    class_data = class_data.sample(frac=1, random_state=42).reset_index(drop=True)\n",
        "\n",
        "    # Calcular los tamaños\n",
        "    n_total = len(class_data)\n",
        "    n_train = int(n_total * 0.75)\n",
        "    n_val = int(n_total * 0.15)\n",
        "    n_test = n_total - n_train - n_val  # Lo que quede\n",
        "\n",
        "    # Dividir\n",
        "    train_df = pd.concat([train_df, class_data.iloc[:n_train]], ignore_index=True)\n",
        "    val_df = pd.concat([val_df, class_data.iloc[n_train:n_train + n_val]], ignore_index=True)\n",
        "    test_df = pd.concat([test_df, class_data.iloc[n_train + n_val:]], ignore_index=True)\n",
        "\n",
        "# Concatenar todo en el orden requerido\n",
        "final_df = pd.concat([train_df, val_df, test_df], ignore_index=True)\n",
        "\n",
        "# Listo: final_df contiene los 160 datos organizados como pediste\n",
        "print(final_df)"
      ],
      "metadata": {
        "id": "cIJP0HP_D8e8",
        "outputId": "fa4ffb63-ad39-4974-9917-a32c75a7ad82",
        "colab": {
          "base_uri": "https://localhost:8080/"
        }
      },
      "execution_count": 14,
      "outputs": [
        {
          "output_type": "stream",
          "name": "stdout",
          "text": [
            "                                             file_path  class\n",
            "0    /content/DataAudios/Audio/Costos/Apr 3, 10.03 ...      0\n",
            "1    /content/DataAudios/Audio/Costos/Apr 3, 10.00 ...      0\n",
            "2    /content/DataAudios/Audio/Costos/Apr 23, 10.31...      0\n",
            "3    /content/DataAudios/Audio/Costos/Apr 3, 9.59 A...      0\n",
            "4    /content/DataAudios/Audio/Costos/Apr 3, 10.00 ...      0\n",
            "..                                                 ...    ...\n",
            "155  /content/DataAudios/Audio/Pagos/Apr 7, 9.07 AM...      1\n",
            "156  /content/DataAudios/Audio/Pedidos/Apr 7, 9.47 ...      2\n",
            "157  /content/DataAudios/Audio/Pedidos/Apr 7, 9.45 ...      2\n",
            "158  /content/DataAudios/Audio/Pedidos/Apr 23, 10.2...      2\n",
            "159  /content/DataAudios/Audio/Pedidos/Apr 7, 9.48 ...      2\n",
            "\n",
            "[160 rows x 2 columns]\n"
          ]
        }
      ]
    },
    {
      "cell_type": "code",
      "source": [
        "# Suponiendo que ya tienes tu DataFrame 'df' barajado\n",
        "n = len(final_df)\n",
        "\n",
        "# Calcular índices de corte\n",
        "n1 = int(0.75 * n)\n",
        "n2 = int(0.90 * n)  # 75% + 15% = 90%\n",
        "\n",
        "# Crear la columna 'fold' con valores por defecto\n",
        "final_df['fold'] = 0  # valor temporal\n",
        "\n",
        "# Asignar los valores de fold según los porcentajes\n",
        "final_df.loc[:n1-1, 'fold'] = 1\n",
        "final_df.loc[n1:n2-1, 'fold'] = 2\n",
        "final_df.loc[n2:, 'fold'] = 3\n",
        "\n",
        "# Mostrar el DataFrame barajado\n",
        "print(final_df)"
      ],
      "metadata": {
        "id": "MhTpVE5QyFOz",
        "outputId": "a99e2d51-722c-4847-d909-d15d7522bfc7",
        "colab": {
          "base_uri": "https://localhost:8080/"
        }
      },
      "execution_count": 15,
      "outputs": [
        {
          "output_type": "stream",
          "name": "stdout",
          "text": [
            "                                             file_path  class  fold\n",
            "0    /content/DataAudios/Audio/Costos/Apr 3, 10.03 ...      0     1\n",
            "1    /content/DataAudios/Audio/Costos/Apr 3, 10.00 ...      0     1\n",
            "2    /content/DataAudios/Audio/Costos/Apr 23, 10.31...      0     1\n",
            "3    /content/DataAudios/Audio/Costos/Apr 3, 9.59 A...      0     1\n",
            "4    /content/DataAudios/Audio/Costos/Apr 3, 10.00 ...      0     1\n",
            "..                                                 ...    ...   ...\n",
            "155  /content/DataAudios/Audio/Pagos/Apr 7, 9.07 AM...      1     3\n",
            "156  /content/DataAudios/Audio/Pedidos/Apr 7, 9.47 ...      2     3\n",
            "157  /content/DataAudios/Audio/Pedidos/Apr 7, 9.45 ...      2     3\n",
            "158  /content/DataAudios/Audio/Pedidos/Apr 23, 10.2...      2     3\n",
            "159  /content/DataAudios/Audio/Pedidos/Apr 7, 9.48 ...      2     3\n",
            "\n",
            "[160 rows x 3 columns]\n"
          ]
        }
      ]
    },
    {
      "cell_type": "markdown",
      "metadata": {
        "id": "BkDcBS-aJdCz"
      },
      "source": [
        "### Load the audio files and retrieve embeddings\n",
        "\n",
        "Here you'll apply the `load_wav_16k_mono` and prepare the WAV data for the model.\n",
        "\n",
        "When extracting embeddings from the WAV data, you get an array of shape `(N, 1024)`  where `N` is the number of frames that YAMNet found (one for every 0.48 seconds of audio)."
      ]
    },
    {
      "cell_type": "markdown",
      "metadata": {
        "id": "AKDT5RomaDKO"
      },
      "source": [
        "Your model will use each frame as one input. Therefore, you need to create a new column that has one frame per row. You also need to expand the labels and the `fold` column to proper reflect these new rows.\n",
        "\n",
        "The expanded `fold` column keeps the original values. You cannot mix frames because, when performing the splits, you might end up having parts of the same audio on different splits, which would make your validation and test steps less effective."
      ]
    },
    {
      "cell_type": "code",
      "execution_count": null,
      "metadata": {
        "id": "u5Rq3_PyKLtU"
      },
      "outputs": [],
      "source": [
        "filenames = filtered_pd['filename']\n",
        "targets = filtered_pd['target']\n",
        "folds = filtered_pd['fold']\n",
        "\n",
        "main_ds = tf.data.Dataset.from_tensor_slices((filenames, targets, folds))\n",
        "main_ds.element_spec"
      ]
    },
    {
      "cell_type": "code",
      "source": [
        "filenames = final_df['file_path'].values\n",
        "targets = final_df['class'].values\n",
        "folds = final_df['fold'].values\n",
        "\n",
        "main_ds = tf.data.Dataset.from_tensor_slices((filenames, targets, folds))\n",
        "main_ds.element_spec"
      ],
      "metadata": {
        "id": "ATqBBgZMTicf",
        "outputId": "d758dcbf-8625-46ea-b0ce-5641a89ca383",
        "colab": {
          "base_uri": "https://localhost:8080/"
        }
      },
      "execution_count": 16,
      "outputs": [
        {
          "output_type": "execute_result",
          "data": {
            "text/plain": [
              "(TensorSpec(shape=(), dtype=tf.string, name=None),\n",
              " TensorSpec(shape=(), dtype=tf.int64, name=None),\n",
              " TensorSpec(shape=(), dtype=tf.int64, name=None))"
            ]
          },
          "metadata": {},
          "execution_count": 16
        }
      ]
    },
    {
      "cell_type": "code",
      "execution_count": 17,
      "metadata": {
        "id": "rsEfovDVAHGY",
        "outputId": "cdc50429-34bd-44e1-fa87-5b4f19226166",
        "colab": {
          "base_uri": "https://localhost:8080/"
        }
      },
      "outputs": [
        {
          "output_type": "stream",
          "name": "stderr",
          "text": [
            "WARNING:tensorflow:Using a while_loop for converting IO>AudioResample cause there is no registered converter for this op.\n"
          ]
        },
        {
          "output_type": "execute_result",
          "data": {
            "text/plain": [
              "(TensorSpec(shape=<unknown>, dtype=tf.float32, name=None),\n",
              " TensorSpec(shape=(), dtype=tf.int64, name=None),\n",
              " TensorSpec(shape=(), dtype=tf.int64, name=None))"
            ]
          },
          "metadata": {},
          "execution_count": 17
        }
      ],
      "source": [
        "def load_wav_for_map(filename, label, fold):\n",
        "  return load_wav_16k_mono(filename), label, fold\n",
        "\n",
        "main_ds = main_ds.map(load_wav_for_map)\n",
        "main_ds.element_spec"
      ]
    },
    {
      "cell_type": "code",
      "source": [
        "def load_wav_for_map(filename, label):\n",
        "    return load_wav_16k_mono(filename), label\n",
        "\n",
        "main_ds = main_ds.map(load_wav_for_map)"
      ],
      "metadata": {
        "id": "Nl0FRIVTT76q"
      },
      "execution_count": null,
      "outputs": []
    },
    {
      "cell_type": "code",
      "execution_count": 18,
      "metadata": {
        "id": "k0tG8DBNAHcE",
        "outputId": "68f28cd8-b20d-460a-d47f-59659691d80a",
        "colab": {
          "base_uri": "https://localhost:8080/"
        }
      },
      "outputs": [
        {
          "output_type": "execute_result",
          "data": {
            "text/plain": [
              "(TensorSpec(shape=(1024,), dtype=tf.float32, name=None),\n",
              " TensorSpec(shape=(), dtype=tf.int64, name=None),\n",
              " TensorSpec(shape=(), dtype=tf.int64, name=None))"
            ]
          },
          "metadata": {},
          "execution_count": 18
        }
      ],
      "source": [
        "# applies the embedding extraction model to a wav data\n",
        "def extract_embedding(wav_data, label, fold):\n",
        "  ''' run YAMNet to extract embedding from the wav data '''\n",
        "  scores, embeddings, spectrogram = yamnet_model(wav_data)\n",
        "  num_embeddings = tf.shape(embeddings)[0]\n",
        "  return (embeddings,\n",
        "            tf.repeat(label, num_embeddings),\n",
        "            tf.repeat(fold, num_embeddings))\n",
        "\n",
        "# extract embedding\n",
        "main_ds = main_ds.map(extract_embedding).unbatch()\n",
        "main_ds.element_spec"
      ]
    },
    {
      "cell_type": "code",
      "source": [
        "# applies the embedding extraction model to a wav data\n",
        "def extract_embedding(wav_data, label):\n",
        "  ''' run YAMNet to extract embedding from the wav data '''\n",
        "  scores, embeddings, spectrogram = yamnet_model(wav_data)\n",
        "  num_embeddings = tf.shape(embeddings)[0]\n",
        "  return (embeddings, tf.repeat(label, num_embeddings))\n",
        "\n",
        "# extract embedding\n",
        "main_ds = main_ds.map(extract_embedding).unbatch()\n",
        "main_ds.element_spec"
      ],
      "metadata": {
        "id": "DFsCHF5aUCzf"
      },
      "execution_count": null,
      "outputs": []
    },
    {
      "cell_type": "code",
      "source": [
        "\"\"\"for embeddings, labels, indices in main_ds:\n",
        "    print(\"Embeddings shape:\", embeddings.shape)\n",
        "    print(\"Label:\", labels.numpy())\n",
        "    print(\"Index:\", indices.numpy())\"\"\""
      ],
      "metadata": {
        "id": "iVK9G0yXdarx"
      },
      "execution_count": null,
      "outputs": []
    },
    {
      "cell_type": "markdown",
      "metadata": {
        "id": "ZdfPIeD0Qedk"
      },
      "source": [
        "### Split the data\n",
        "\n",
        "You will use the `fold` column to split the dataset into train, validation and test sets.\n",
        "\n",
        "ESC-50 is arranged into five uniformly-sized cross-validation `fold`s, such that clips from the same original source are always in the same `fold` - find out more in the [ESC: Dataset for Environmental Sound Classification](https://www.karolpiczak.com/papers/Piczak2015-ESC-Dataset.pdf) paper.\n",
        "\n",
        "The last step is to remove the `fold` column from the dataset since you're not going to use it during training.\n"
      ]
    },
    {
      "cell_type": "code",
      "execution_count": null,
      "metadata": {
        "id": "1ZYvlFiVsffC"
      },
      "outputs": [],
      "source": [
        "cached_ds = main_ds.cache()\n",
        "train_ds = cached_ds.filter(lambda embedding, label, fold: fold < 4)\n",
        "val_ds = cached_ds.filter(lambda embedding, label, fold: fold == 4)\n",
        "test_ds = cached_ds.filter(lambda embedding, label, fold: fold == 5)\n",
        "\n",
        "# remove the folds column now that it's not needed anymore\n",
        "remove_fold_column = lambda embedding, label, fold: (embedding, label)\n",
        "\n",
        "train_ds = train_ds.map(remove_fold_column)\n",
        "val_ds = val_ds.map(remove_fold_column)\n",
        "test_ds = test_ds.map(remove_fold_column)\n",
        "\n",
        "train_ds = train_ds.cache().shuffle(1000).batch(32).prefetch(tf.data.AUTOTUNE)\n",
        "val_ds = val_ds.cache().batch(32).prefetch(tf.data.AUTOTUNE)\n",
        "test_ds = test_ds.cache().batch(32).prefetch(tf.data.AUTOTUNE)"
      ]
    },
    {
      "cell_type": "code",
      "source": [
        "cached_ds = main_ds.cache()\n",
        "train_ds = cached_ds.filter(lambda embedding, label, fold: fold == 1)\n",
        "val_ds = cached_ds.filter(lambda embedding, label, fold: fold == 2)\n",
        "test_ds = cached_ds.filter(lambda embedding, label, fold: fold == 3)\n",
        "\n",
        "# remove the folds column now that it's not needed anymore\n",
        "remove_fold_column = lambda embedding, label, fold: (embedding, label)\n",
        "\n",
        "train_ds = train_ds.map(remove_fold_column)\n",
        "val_ds = val_ds.map(remove_fold_column)\n",
        "test_ds = test_ds.map(remove_fold_column)\n",
        "\n",
        "train_ds = train_ds.cache().shuffle(120).batch(8).prefetch(tf.data.AUTOTUNE)\n",
        "val_ds = val_ds.cache().batch(8).prefetch(tf.data.AUTOTUNE)\n",
        "test_ds = test_ds.cache().batch(8).prefetch(tf.data.AUTOTUNE)"
      ],
      "metadata": {
        "id": "mJTPMeOo0ajE"
      },
      "execution_count": 19,
      "outputs": []
    },
    {
      "cell_type": "code",
      "source": [
        "# Filtrar el dataset en 4 subconjuntos según la clase\n",
        "class_datasets = {\n",
        "    1: cached_ds.filter(lambda embeddings, label, index: (index >= 0) & (index <= 39)),\n",
        "    2: cached_ds.filter(lambda embeddings, label, index: (index >= 40) & (index <= 79)),\n",
        "    3: cached_ds.filter(lambda embeddings, label, index: (index >= 80) & (index <= 119)),\n",
        "    4: cached_ds.filter(lambda embeddings, label, index: (index >= 120) & (index <= 159))\n",
        "}\n"
      ],
      "metadata": {
        "id": "fAbUPHvEhhWp"
      },
      "execution_count": null,
      "outputs": []
    },
    {
      "cell_type": "code",
      "source": [
        "split_ratios = {'train': 0.75, 'val': 0.15, 'test': 0.10}\n",
        "splitted_datasets = {}\n",
        "\n",
        "for label, ds in class_datasets.items():\n",
        "    ds_size = ds.cardinality()\n",
        "\n",
        "    ds_size = ds.cardinality().numpy()\n",
        "\n",
        "    train_size = int(split_ratios['train'] * ds_size)\n",
        "    val_size = int(split_ratios['val'] * ds_size)\n",
        "    test_size = ds_size - train_size - val_size  # Asegurar que todas las muestras se usan\n",
        "\n",
        "    ds_shuffled = ds.shuffle(ds_size)  # Aleatorizar antes de dividir\n",
        "\n",
        "    train_ds = ds_shuffled.take(train_size)\n",
        "    val_ds = ds_shuffled.skip(train_size).take(val_size)\n",
        "    test_ds = ds_shuffled.skip(train_size + val_size)\n",
        "\n",
        "    splitted_datasets[label] = {'train': train_ds, 'val': val_ds, 'test': test_ds}"
      ],
      "metadata": {
        "id": "ADdpo2-Jh0HB"
      },
      "execution_count": null,
      "outputs": []
    },
    {
      "cell_type": "code",
      "source": [
        "for label in splitted_datasets:\n",
        "    splitted_datasets[label]['train'] = splitted_datasets[label]['train'].map(lambda embeddings, label, index: (embeddings, label))\n",
        "    splitted_datasets[label]['val'] = splitted_datasets[label]['val'].map(lambda embeddings, label, index: (embeddings, label))\n",
        "    splitted_datasets[label]['test'] = splitted_datasets[label]['test'].map(lambda embeddings, label, index: (embeddings, label))"
      ],
      "metadata": {
        "id": "JO-1r5_xnk4F"
      },
      "execution_count": null,
      "outputs": []
    },
    {
      "cell_type": "code",
      "source": [
        "final_train_ds = tf.data.Dataset.sample_from_datasets(\n",
        "    [splitted_datasets[label]['train'] for label in range(1, 5)]\n",
        ").cache().shuffle(120).batch(8).prefetch(tf.data.AUTOTUNE)\n",
        "\n",
        "final_val_ds = tf.data.Dataset.sample_from_datasets(\n",
        "    [splitted_datasets[label]['val'] for label in range(1, 5)]\n",
        ").cache().batch(4).prefetch(tf.data.AUTOTUNE)\n",
        "\n",
        "final_test_ds = tf.data.Dataset.sample_from_datasets(\n",
        "    [splitted_datasets[label]['test'] for label in range(1, 5)]\n",
        ").cache().batch(4).prefetch(tf.data.AUTOTUNE)"
      ],
      "metadata": {
        "id": "e_VV5ur3psEC"
      },
      "execution_count": null,
      "outputs": []
    },
    {
      "cell_type": "markdown",
      "metadata": {
        "id": "v5PaMwvtcAIe"
      },
      "source": [
        "## Create your model\n",
        "\n",
        "You did most of the work!\n",
        "Next, define a very simple [Sequential](https://www.tensorflow.org/guide/keras/sequential_model) model with one hidden layer and two outputs to recognize cats and dogs from sounds.\n"
      ]
    },
    {
      "cell_type": "code",
      "source": [
        "for embeddings, labels in train_ds.take(1):  # Un batch\n",
        "    for i in range(min(10, embeddings.shape[0])):  # hasta 10 muestras\n",
        "        print(f\"Embedding {i}:\")\n",
        "        print(embeddings[i].numpy())  # Muestra el vector\n",
        "        print(f\"Label: {labels[i].numpy()}\")\n",
        "        print(\"-\" * 40)\n"
      ],
      "metadata": {
        "id": "1ZnRrZJG7Ggd"
      },
      "execution_count": null,
      "outputs": []
    },
    {
      "cell_type": "code",
      "source": [
        "my_classes = ['Costos', 'Pagos', 'Pedidos', 'Pendientes']"
      ],
      "metadata": {
        "id": "Qb5_7OOg9jLn"
      },
      "execution_count": 20,
      "outputs": []
    },
    {
      "cell_type": "code",
      "execution_count": 62,
      "metadata": {
        "id": "JYCE0Fr1GpN3",
        "outputId": "74e51133-80e5-4bf8-b5be-c559e3ddacdd",
        "colab": {
          "base_uri": "https://localhost:8080/"
        }
      },
      "outputs": [
        {
          "output_type": "stream",
          "name": "stdout",
          "text": [
            "Model: \"my_model\"\n",
            "_________________________________________________________________\n",
            " Layer (type)                Output Shape              Param #   \n",
            "=================================================================\n",
            " dense_32 (Dense)            (None, 512)               524800    \n",
            "                                                                 \n",
            " dense_33 (Dense)            (None, 4)                 2052      \n",
            "                                                                 \n",
            "=================================================================\n",
            "Total params: 526852 (2.01 MB)\n",
            "Trainable params: 526852 (2.01 MB)\n",
            "Non-trainable params: 0 (0.00 Byte)\n",
            "_________________________________________________________________\n"
          ]
        }
      ],
      "source": [
        "\n",
        "my_model = tf.keras.Sequential([\n",
        "    tf.keras.layers.Input(shape=(1024), dtype=tf.float32, name='input_embedding'),\n",
        "    tf.keras.layers.Dense(512, activation='relu'),\n",
        "    tf.keras.layers.Dense(len(my_classes))\n",
        "], name='my_model')\n",
        "\n",
        "my_model.summary()"
      ]
    },
    {
      "cell_type": "code",
      "source": [
        "my_model = tf.keras.Sequential([\n",
        "    tf.keras.layers.Input(shape=(1024,), dtype=tf.float32, name='input_embedding'),\n",
        "\n",
        "    tf.keras.layers.Dense(512, activation='relu'),\n",
        "    #tf.keras.layers.BatchNormalization(),#Normaliza la activación por batch, acelera entrenamiento y estabiliza la red.\n",
        "    #tf.keras.layers.Dropout(0.3),\n",
        "\n",
        "    tf.keras.layers.Dense(250, activation='relu'),\n",
        "    #tf.keras.layers.BatchNormalization(),#Normaliza la activación por batch, acelera entrenamiento y estabiliza la red.\n",
        "\n",
        "\n",
        "    tf.keras.layers.Dense(len(my_classes))\n",
        "], name='robust_audio_model')\n",
        "\n",
        "\"\"\"tf.keras.layers.Dense(412, activation='swish'),\n",
        "    tf.keras.layers.BatchNormalization(),\n",
        "    tf.keras.layers.Dropout(0.3),\n",
        "\n",
        "    tf.keras.layers.Dense(700, activation='relu', kernel_regularizer=tf.keras.regularizers.l2(0.001)),\n",
        "    tf.keras.layers.Dropout(0.2),\n",
        "\n",
        "    tf.keras.layers.Dense(512, activation='tanh'),\n",
        "    tf.keras.layers.BatchNormalization(),#Normaliza la activación por batch, acelera entrenamiento y estabiliza la red.\n",
        "    tf.keras.layers.Dropout(0.3),\n",
        "\n",
        "    tf.keras.layers.Dense(700, activation='tanh'),\n",
        "    tf.keras.layers.BatchNormalization(),#Normaliza la activación por batch, acelera entrenamiento y estabiliza la red.\n",
        "    tf.keras.layers.Dropout(0.3),\n",
        "    \"\"\""
      ],
      "metadata": {
        "id": "FqC-L8rS9kPP",
        "outputId": "12043eea-e5b3-4e07-8fe0-c9aa5d2bf518",
        "colab": {
          "base_uri": "https://localhost:8080/",
          "height": 105
        }
      },
      "execution_count": 114,
      "outputs": [
        {
          "output_type": "execute_result",
          "data": {
            "text/plain": [
              "\"tf.keras.layers.Dense(412, activation='swish'),\\n    tf.keras.layers.BatchNormalization(),\\n    tf.keras.layers.Dropout(0.3),\\n\\n    tf.keras.layers.Dense(700, activation='relu', kernel_regularizer=tf.keras.regularizers.l2(0.001)),\\n    tf.keras.layers.Dropout(0.2),\\n\\n    tf.keras.layers.Dense(512, activation='tanh'),\\n    tf.keras.layers.BatchNormalization(),#Normaliza la activación por batch, acelera entrenamiento y estabiliza la red.\\n    tf.keras.layers.Dropout(0.3),\\n    \\n    tf.keras.layers.Dense(700, activation='tanh'),\\n    tf.keras.layers.BatchNormalization(),#Normaliza la activación por batch, acelera entrenamiento y estabiliza la red.\\n    tf.keras.layers.Dropout(0.3),\\n    \""
            ],
            "application/vnd.google.colaboratory.intrinsic+json": {
              "type": "string"
            }
          },
          "metadata": {},
          "execution_count": 114
        }
      ]
    },
    {
      "cell_type": "code",
      "execution_count": 115,
      "metadata": {
        "id": "l1qgH35HY0SE",
        "outputId": "bad1c56a-6ca0-425b-f495-282a497afab7",
        "colab": {
          "base_uri": "https://localhost:8080/",
          "height": 53
        }
      },
      "outputs": [
        {
          "output_type": "execute_result",
          "data": {
            "text/plain": [
              "\"callback = tf.keras.callbacks.EarlyStopping(monitor='loss',\\n                                            patience=20,\\n                                            restore_best_weights=True)\""
            ],
            "application/vnd.google.colaboratory.intrinsic+json": {
              "type": "string"
            }
          },
          "metadata": {},
          "execution_count": 115
        }
      ],
      "source": [
        "my_model.compile(loss=tf.keras.losses.SparseCategoricalCrossentropy(from_logits=True),\n",
        "                 optimizer=\"adam\",\n",
        "                 metrics=['accuracy'])\n",
        "\n",
        "\"\"\"callback = tf.keras.callbacks.EarlyStopping(monitor='loss',\n",
        "                                            patience=20,\n",
        "                                            restore_best_weights=True)\"\"\""
      ]
    },
    {
      "cell_type": "code",
      "execution_count": 116,
      "metadata": {
        "id": "T3sj84eOZ3pk",
        "outputId": "5fe4fd47-305e-44d4-cf11-d128b6ee7b8a",
        "colab": {
          "base_uri": "https://localhost:8080/"
        }
      },
      "outputs": [
        {
          "output_type": "stream",
          "name": "stdout",
          "text": [
            "Epoch 1/150\n",
            "69/69 [==============================] - 1s 5ms/step - loss: 1.2153 - accuracy: 0.5499 - val_loss: 1.9325 - val_accuracy: 0.2087\n",
            "Epoch 2/150\n",
            "69/69 [==============================] - 0s 4ms/step - loss: 1.3474 - accuracy: 0.4410 - val_loss: 1.8371 - val_accuracy: 0.2261\n",
            "Epoch 3/150\n",
            "69/69 [==============================] - 0s 4ms/step - loss: 1.3170 - accuracy: 0.4864 - val_loss: 1.9270 - val_accuracy: 0.2174\n",
            "Epoch 4/150\n",
            "69/69 [==============================] - 0s 4ms/step - loss: 1.3129 - accuracy: 0.5154 - val_loss: 1.7194 - val_accuracy: 0.2522\n",
            "Epoch 5/150\n",
            "69/69 [==============================] - 0s 4ms/step - loss: 1.2143 - accuracy: 0.5172 - val_loss: 1.5031 - val_accuracy: 0.4435\n",
            "Epoch 6/150\n",
            "69/69 [==============================] - 0s 4ms/step - loss: 1.1105 - accuracy: 0.5372 - val_loss: 1.6275 - val_accuracy: 0.3652\n",
            "Epoch 7/150\n",
            "69/69 [==============================] - 0s 4ms/step - loss: 1.0786 - accuracy: 0.5662 - val_loss: 1.3764 - val_accuracy: 0.4087\n",
            "Epoch 8/150\n",
            "69/69 [==============================] - 0s 4ms/step - loss: 0.9627 - accuracy: 0.6116 - val_loss: 1.6333 - val_accuracy: 0.4435\n",
            "Epoch 9/150\n",
            "69/69 [==============================] - 0s 4ms/step - loss: 1.0763 - accuracy: 0.5554 - val_loss: 1.0646 - val_accuracy: 0.5739\n",
            "Epoch 10/150\n",
            "69/69 [==============================] - 0s 3ms/step - loss: 0.8911 - accuracy: 0.5898 - val_loss: 1.0557 - val_accuracy: 0.5391\n",
            "Epoch 11/150\n",
            "69/69 [==============================] - 0s 4ms/step - loss: 0.8042 - accuracy: 0.7042 - val_loss: 1.2822 - val_accuracy: 0.4957\n",
            "Epoch 12/150\n",
            "69/69 [==============================] - 0s 4ms/step - loss: 0.7745 - accuracy: 0.6860 - val_loss: 1.5401 - val_accuracy: 0.4609\n",
            "Epoch 13/150\n",
            "69/69 [==============================] - 0s 4ms/step - loss: 0.8506 - accuracy: 0.6316 - val_loss: 1.3416 - val_accuracy: 0.4957\n",
            "Epoch 14/150\n",
            "69/69 [==============================] - 0s 4ms/step - loss: 0.7374 - accuracy: 0.7114 - val_loss: 1.2724 - val_accuracy: 0.5217\n",
            "Epoch 15/150\n",
            "69/69 [==============================] - 0s 4ms/step - loss: 0.6912 - accuracy: 0.7114 - val_loss: 1.3099 - val_accuracy: 0.4870\n",
            "Epoch 16/150\n",
            "69/69 [==============================] - 0s 4ms/step - loss: 0.6409 - accuracy: 0.7223 - val_loss: 1.2500 - val_accuracy: 0.5652\n",
            "Epoch 17/150\n",
            "69/69 [==============================] - 0s 3ms/step - loss: 0.6403 - accuracy: 0.7024 - val_loss: 1.2077 - val_accuracy: 0.6000\n",
            "Epoch 18/150\n",
            "69/69 [==============================] - 0s 4ms/step - loss: 0.5824 - accuracy: 0.7459 - val_loss: 1.3395 - val_accuracy: 0.5391\n",
            "Epoch 19/150\n",
            "69/69 [==============================] - 0s 4ms/step - loss: 0.5366 - accuracy: 0.7804 - val_loss: 1.4743 - val_accuracy: 0.5478\n",
            "Epoch 20/150\n",
            "69/69 [==============================] - 0s 4ms/step - loss: 0.4916 - accuracy: 0.7913 - val_loss: 1.6097 - val_accuracy: 0.5478\n",
            "Epoch 21/150\n",
            "69/69 [==============================] - 0s 4ms/step - loss: 0.4878 - accuracy: 0.8022 - val_loss: 1.2942 - val_accuracy: 0.6000\n",
            "Epoch 22/150\n",
            "69/69 [==============================] - 0s 4ms/step - loss: 0.3931 - accuracy: 0.8421 - val_loss: 1.3302 - val_accuracy: 0.6000\n",
            "Epoch 23/150\n",
            "69/69 [==============================] - 0s 3ms/step - loss: 0.3535 - accuracy: 0.8548 - val_loss: 1.3094 - val_accuracy: 0.5826\n",
            "Epoch 24/150\n",
            "69/69 [==============================] - 0s 3ms/step - loss: 0.3740 - accuracy: 0.8530 - val_loss: 1.4743 - val_accuracy: 0.5826\n",
            "Epoch 25/150\n",
            "69/69 [==============================] - 0s 3ms/step - loss: 0.2813 - accuracy: 0.8802 - val_loss: 1.4828 - val_accuracy: 0.6087\n",
            "Epoch 26/150\n",
            "69/69 [==============================] - 0s 4ms/step - loss: 0.2489 - accuracy: 0.8984 - val_loss: 1.5719 - val_accuracy: 0.5826\n",
            "Epoch 27/150\n",
            "69/69 [==============================] - 0s 4ms/step - loss: 0.2630 - accuracy: 0.8857 - val_loss: 1.5632 - val_accuracy: 0.5913\n",
            "Epoch 28/150\n",
            "69/69 [==============================] - 0s 4ms/step - loss: 0.2388 - accuracy: 0.9020 - val_loss: 1.6240 - val_accuracy: 0.5913\n",
            "Epoch 29/150\n",
            "69/69 [==============================] - 0s 4ms/step - loss: 0.1841 - accuracy: 0.9256 - val_loss: 1.6451 - val_accuracy: 0.6174\n",
            "Epoch 30/150\n",
            "69/69 [==============================] - 0s 4ms/step - loss: 0.1933 - accuracy: 0.9201 - val_loss: 1.7485 - val_accuracy: 0.6000\n",
            "Epoch 31/150\n",
            "69/69 [==============================] - 0s 4ms/step - loss: 0.1453 - accuracy: 0.9365 - val_loss: 1.7088 - val_accuracy: 0.6435\n",
            "Epoch 32/150\n",
            "69/69 [==============================] - 0s 7ms/step - loss: 0.1341 - accuracy: 0.9365 - val_loss: 1.6721 - val_accuracy: 0.6435\n",
            "Epoch 33/150\n",
            "69/69 [==============================] - 0s 7ms/step - loss: 0.1189 - accuracy: 0.9474 - val_loss: 1.6678 - val_accuracy: 0.6609\n",
            "Epoch 34/150\n",
            "69/69 [==============================] - 0s 4ms/step - loss: 0.1065 - accuracy: 0.9619 - val_loss: 1.5484 - val_accuracy: 0.6696\n",
            "Epoch 35/150\n",
            "69/69 [==============================] - 0s 3ms/step - loss: 0.0926 - accuracy: 0.9601 - val_loss: 1.8058 - val_accuracy: 0.6435\n",
            "Epoch 36/150\n",
            "69/69 [==============================] - 0s 3ms/step - loss: 0.1152 - accuracy: 0.9583 - val_loss: 1.8193 - val_accuracy: 0.6522\n",
            "Epoch 37/150\n",
            "69/69 [==============================] - 0s 4ms/step - loss: 0.0912 - accuracy: 0.9637 - val_loss: 1.7921 - val_accuracy: 0.6783\n",
            "Epoch 38/150\n",
            "69/69 [==============================] - 0s 4ms/step - loss: 0.0817 - accuracy: 0.9691 - val_loss: 1.6585 - val_accuracy: 0.6696\n",
            "Epoch 39/150\n",
            "69/69 [==============================] - 0s 3ms/step - loss: 0.0625 - accuracy: 0.9782 - val_loss: 1.8804 - val_accuracy: 0.6957\n",
            "Epoch 40/150\n",
            "69/69 [==============================] - 0s 3ms/step - loss: 0.0606 - accuracy: 0.9746 - val_loss: 1.6854 - val_accuracy: 0.6870\n",
            "Epoch 41/150\n",
            "69/69 [==============================] - 0s 4ms/step - loss: 0.0570 - accuracy: 0.9764 - val_loss: 1.7032 - val_accuracy: 0.6957\n",
            "Epoch 42/150\n",
            "69/69 [==============================] - 0s 4ms/step - loss: 0.0480 - accuracy: 0.9782 - val_loss: 1.9070 - val_accuracy: 0.6522\n",
            "Epoch 43/150\n",
            "69/69 [==============================] - 0s 3ms/step - loss: 0.0785 - accuracy: 0.9728 - val_loss: 1.7905 - val_accuracy: 0.7130\n",
            "Epoch 44/150\n",
            "69/69 [==============================] - 0s 4ms/step - loss: 0.0512 - accuracy: 0.9782 - val_loss: 1.7495 - val_accuracy: 0.6957\n",
            "Epoch 45/150\n",
            "69/69 [==============================] - 0s 4ms/step - loss: 0.0701 - accuracy: 0.9691 - val_loss: 2.4219 - val_accuracy: 0.6174\n",
            "Epoch 46/150\n",
            "69/69 [==============================] - 0s 3ms/step - loss: 0.1338 - accuracy: 0.9619 - val_loss: 1.6160 - val_accuracy: 0.7043\n",
            "Epoch 47/150\n",
            "69/69 [==============================] - 0s 3ms/step - loss: 0.0774 - accuracy: 0.9800 - val_loss: 1.4522 - val_accuracy: 0.7478\n",
            "Epoch 48/150\n",
            "69/69 [==============================] - 0s 3ms/step - loss: 0.0439 - accuracy: 0.9819 - val_loss: 1.4759 - val_accuracy: 0.7565\n",
            "Epoch 49/150\n",
            "69/69 [==============================] - 0s 4ms/step - loss: 0.0356 - accuracy: 0.9855 - val_loss: 1.5197 - val_accuracy: 0.7391\n",
            "Epoch 50/150\n",
            "69/69 [==============================] - 0s 4ms/step - loss: 0.0374 - accuracy: 0.9800 - val_loss: 1.5795 - val_accuracy: 0.7217\n",
            "Epoch 51/150\n",
            "69/69 [==============================] - 0s 4ms/step - loss: 0.0330 - accuracy: 0.9855 - val_loss: 1.6278 - val_accuracy: 0.7304\n",
            "Epoch 52/150\n",
            "69/69 [==============================] - 0s 4ms/step - loss: 0.0289 - accuracy: 0.9837 - val_loss: 1.6306 - val_accuracy: 0.7652\n",
            "Epoch 53/150\n",
            "69/69 [==============================] - 0s 4ms/step - loss: 0.0292 - accuracy: 0.9837 - val_loss: 1.7550 - val_accuracy: 0.7130\n",
            "Epoch 54/150\n",
            "69/69 [==============================] - 0s 4ms/step - loss: 0.0291 - accuracy: 0.9855 - val_loss: 1.7685 - val_accuracy: 0.7304\n",
            "Epoch 55/150\n",
            "69/69 [==============================] - 0s 4ms/step - loss: 0.0579 - accuracy: 0.9710 - val_loss: 1.7842 - val_accuracy: 0.6957\n",
            "Epoch 56/150\n",
            "69/69 [==============================] - 0s 4ms/step - loss: 0.0385 - accuracy: 0.9764 - val_loss: 1.6774 - val_accuracy: 0.7304\n",
            "Epoch 57/150\n",
            "69/69 [==============================] - 0s 4ms/step - loss: 0.0342 - accuracy: 0.9837 - val_loss: 1.7245 - val_accuracy: 0.7391\n",
            "Epoch 58/150\n",
            "69/69 [==============================] - 0s 4ms/step - loss: 0.0307 - accuracy: 0.9800 - val_loss: 1.7774 - val_accuracy: 0.7217\n",
            "Epoch 59/150\n",
            "69/69 [==============================] - 0s 4ms/step - loss: 0.0263 - accuracy: 0.9873 - val_loss: 1.8012 - val_accuracy: 0.7217\n",
            "Epoch 60/150\n",
            "69/69 [==============================] - 0s 3ms/step - loss: 0.0304 - accuracy: 0.9764 - val_loss: 1.8288 - val_accuracy: 0.7304\n",
            "Epoch 61/150\n",
            "69/69 [==============================] - 0s 4ms/step - loss: 0.0256 - accuracy: 0.9855 - val_loss: 1.8405 - val_accuracy: 0.7217\n",
            "Epoch 62/150\n",
            "69/69 [==============================] - 0s 4ms/step - loss: 0.0215 - accuracy: 0.9873 - val_loss: 1.9584 - val_accuracy: 0.7217\n",
            "Epoch 63/150\n",
            "69/69 [==============================] - 0s 4ms/step - loss: 0.0288 - accuracy: 0.9855 - val_loss: 1.8646 - val_accuracy: 0.7304\n",
            "Epoch 64/150\n",
            "69/69 [==============================] - 0s 4ms/step - loss: 0.0330 - accuracy: 0.9819 - val_loss: 1.8557 - val_accuracy: 0.7217\n",
            "Epoch 65/150\n",
            "69/69 [==============================] - 0s 4ms/step - loss: 0.0259 - accuracy: 0.9855 - val_loss: 1.9244 - val_accuracy: 0.7217\n",
            "Epoch 66/150\n",
            "69/69 [==============================] - 0s 3ms/step - loss: 0.0237 - accuracy: 0.9837 - val_loss: 1.9315 - val_accuracy: 0.7391\n",
            "Epoch 67/150\n",
            "69/69 [==============================] - 0s 4ms/step - loss: 0.0230 - accuracy: 0.9855 - val_loss: 1.9667 - val_accuracy: 0.7130\n",
            "Epoch 68/150\n",
            "69/69 [==============================] - 0s 4ms/step - loss: 0.0297 - accuracy: 0.9855 - val_loss: 1.9677 - val_accuracy: 0.7217\n",
            "Epoch 69/150\n",
            "69/69 [==============================] - 0s 6ms/step - loss: 0.0292 - accuracy: 0.9819 - val_loss: 1.9535 - val_accuracy: 0.7304\n",
            "Epoch 70/150\n",
            "69/69 [==============================] - 0s 5ms/step - loss: 0.0210 - accuracy: 0.9909 - val_loss: 1.9422 - val_accuracy: 0.7043\n",
            "Epoch 71/150\n",
            "69/69 [==============================] - 0s 5ms/step - loss: 0.0212 - accuracy: 0.9891 - val_loss: 2.0011 - val_accuracy: 0.7304\n",
            "Epoch 72/150\n",
            "69/69 [==============================] - 0s 3ms/step - loss: 0.0200 - accuracy: 0.9855 - val_loss: 2.0042 - val_accuracy: 0.7130\n",
            "Epoch 73/150\n",
            "69/69 [==============================] - 0s 4ms/step - loss: 0.0178 - accuracy: 0.9927 - val_loss: 2.0290 - val_accuracy: 0.7217\n",
            "Epoch 74/150\n",
            "69/69 [==============================] - 0s 4ms/step - loss: 0.0202 - accuracy: 0.9873 - val_loss: 2.0530 - val_accuracy: 0.7391\n",
            "Epoch 75/150\n",
            "69/69 [==============================] - 0s 4ms/step - loss: 0.0226 - accuracy: 0.9855 - val_loss: 2.0248 - val_accuracy: 0.7391\n",
            "Epoch 76/150\n",
            "69/69 [==============================] - 0s 4ms/step - loss: 0.0215 - accuracy: 0.9855 - val_loss: 2.0159 - val_accuracy: 0.7217\n",
            "Epoch 77/150\n",
            "69/69 [==============================] - 0s 4ms/step - loss: 0.0188 - accuracy: 0.9891 - val_loss: 2.0566 - val_accuracy: 0.7304\n",
            "Epoch 78/150\n",
            "69/69 [==============================] - 0s 4ms/step - loss: 0.0179 - accuracy: 0.9909 - val_loss: 2.0768 - val_accuracy: 0.7304\n",
            "Epoch 79/150\n",
            "69/69 [==============================] - 0s 4ms/step - loss: 0.0167 - accuracy: 0.9891 - val_loss: 2.0718 - val_accuracy: 0.7043\n",
            "Epoch 80/150\n",
            "69/69 [==============================] - 0s 4ms/step - loss: 0.0189 - accuracy: 0.9909 - val_loss: 2.1049 - val_accuracy: 0.7217\n",
            "Epoch 81/150\n",
            "69/69 [==============================] - 0s 4ms/step - loss: 0.0169 - accuracy: 0.9891 - val_loss: 2.0902 - val_accuracy: 0.7304\n",
            "Epoch 82/150\n",
            "69/69 [==============================] - 0s 4ms/step - loss: 0.0244 - accuracy: 0.9891 - val_loss: 2.2091 - val_accuracy: 0.7217\n",
            "Epoch 83/150\n",
            "69/69 [==============================] - 0s 4ms/step - loss: 0.0230 - accuracy: 0.9873 - val_loss: 2.0983 - val_accuracy: 0.6957\n",
            "Epoch 84/150\n",
            "69/69 [==============================] - 0s 3ms/step - loss: 0.0429 - accuracy: 0.9909 - val_loss: 2.1482 - val_accuracy: 0.6870\n",
            "Epoch 85/150\n",
            "69/69 [==============================] - 0s 4ms/step - loss: 0.0253 - accuracy: 0.9837 - val_loss: 2.3493 - val_accuracy: 0.7478\n",
            "Epoch 86/150\n",
            "69/69 [==============================] - 0s 4ms/step - loss: 0.1419 - accuracy: 0.9474 - val_loss: 3.7121 - val_accuracy: 0.5304\n",
            "Epoch 87/150\n",
            "69/69 [==============================] - 0s 4ms/step - loss: 0.3501 - accuracy: 0.9056 - val_loss: 1.5997 - val_accuracy: 0.6783\n",
            "Epoch 88/150\n",
            "69/69 [==============================] - 0s 4ms/step - loss: 0.1560 - accuracy: 0.9619 - val_loss: 2.5660 - val_accuracy: 0.5913\n",
            "Epoch 89/150\n",
            "69/69 [==============================] - 0s 4ms/step - loss: 0.1109 - accuracy: 0.9546 - val_loss: 2.1676 - val_accuracy: 0.6348\n",
            "Epoch 90/150\n",
            "69/69 [==============================] - 0s 4ms/step - loss: 0.0744 - accuracy: 0.9673 - val_loss: 1.9339 - val_accuracy: 0.6870\n",
            "Epoch 91/150\n",
            "69/69 [==============================] - 0s 4ms/step - loss: 0.0483 - accuracy: 0.9819 - val_loss: 1.9106 - val_accuracy: 0.7391\n",
            "Epoch 92/150\n",
            "69/69 [==============================] - 0s 4ms/step - loss: 0.0269 - accuracy: 0.9891 - val_loss: 1.8986 - val_accuracy: 0.7304\n",
            "Epoch 93/150\n",
            "69/69 [==============================] - 0s 4ms/step - loss: 0.0234 - accuracy: 0.9909 - val_loss: 1.9398 - val_accuracy: 0.7391\n",
            "Epoch 94/150\n",
            "69/69 [==============================] - 0s 4ms/step - loss: 0.0186 - accuracy: 0.9891 - val_loss: 2.0223 - val_accuracy: 0.7043\n",
            "Epoch 95/150\n",
            "69/69 [==============================] - 0s 4ms/step - loss: 0.0225 - accuracy: 0.9873 - val_loss: 1.9736 - val_accuracy: 0.6957\n",
            "Epoch 96/150\n",
            "69/69 [==============================] - 0s 3ms/step - loss: 0.0192 - accuracy: 0.9927 - val_loss: 2.0132 - val_accuracy: 0.7130\n",
            "Epoch 97/150\n",
            "69/69 [==============================] - 0s 4ms/step - loss: 0.0160 - accuracy: 0.9927 - val_loss: 2.0296 - val_accuracy: 0.7304\n",
            "Epoch 98/150\n",
            "69/69 [==============================] - 0s 4ms/step - loss: 0.0176 - accuracy: 0.9927 - val_loss: 2.1098 - val_accuracy: 0.7130\n",
            "Epoch 99/150\n",
            "69/69 [==============================] - 0s 4ms/step - loss: 0.0209 - accuracy: 0.9891 - val_loss: 2.0328 - val_accuracy: 0.7130\n",
            "Epoch 100/150\n",
            "69/69 [==============================] - 0s 4ms/step - loss: 0.0152 - accuracy: 0.9927 - val_loss: 2.0743 - val_accuracy: 0.7304\n",
            "Epoch 101/150\n",
            "69/69 [==============================] - 0s 4ms/step - loss: 0.0159 - accuracy: 0.9927 - val_loss: 2.1094 - val_accuracy: 0.7130\n",
            "Epoch 102/150\n",
            "69/69 [==============================] - 0s 4ms/step - loss: 0.0191 - accuracy: 0.9891 - val_loss: 2.0783 - val_accuracy: 0.7217\n",
            "Epoch 103/150\n",
            "69/69 [==============================] - 0s 4ms/step - loss: 0.0158 - accuracy: 0.9891 - val_loss: 2.1267 - val_accuracy: 0.7130\n",
            "Epoch 104/150\n",
            "69/69 [==============================] - 0s 4ms/step - loss: 0.0181 - accuracy: 0.9909 - val_loss: 2.0756 - val_accuracy: 0.7130\n",
            "Epoch 105/150\n",
            "69/69 [==============================] - 0s 5ms/step - loss: 0.0153 - accuracy: 0.9891 - val_loss: 2.1617 - val_accuracy: 0.7217\n",
            "Epoch 106/150\n",
            "69/69 [==============================] - 0s 6ms/step - loss: 0.0153 - accuracy: 0.9927 - val_loss: 2.1232 - val_accuracy: 0.7217\n",
            "Epoch 107/150\n",
            "69/69 [==============================] - 0s 6ms/step - loss: 0.0136 - accuracy: 0.9927 - val_loss: 2.1461 - val_accuracy: 0.7217\n",
            "Epoch 108/150\n",
            "69/69 [==============================] - 0s 4ms/step - loss: 0.0136 - accuracy: 0.9927 - val_loss: 2.1661 - val_accuracy: 0.7043\n",
            "Epoch 109/150\n",
            "69/69 [==============================] - 0s 4ms/step - loss: 0.0174 - accuracy: 0.9909 - val_loss: 2.1628 - val_accuracy: 0.7130\n",
            "Epoch 110/150\n",
            "69/69 [==============================] - 0s 3ms/step - loss: 0.0155 - accuracy: 0.9909 - val_loss: 2.1748 - val_accuracy: 0.7217\n",
            "Epoch 111/150\n",
            "69/69 [==============================] - 0s 3ms/step - loss: 0.0149 - accuracy: 0.9927 - val_loss: 2.2162 - val_accuracy: 0.7130\n",
            "Epoch 112/150\n",
            "69/69 [==============================] - 0s 4ms/step - loss: 0.0155 - accuracy: 0.9927 - val_loss: 2.1552 - val_accuracy: 0.7130\n",
            "Epoch 113/150\n",
            "69/69 [==============================] - 0s 4ms/step - loss: 0.0157 - accuracy: 0.9927 - val_loss: 2.2521 - val_accuracy: 0.7217\n",
            "Epoch 114/150\n",
            "69/69 [==============================] - 0s 4ms/step - loss: 0.0207 - accuracy: 0.9909 - val_loss: 2.1586 - val_accuracy: 0.7130\n",
            "Epoch 115/150\n",
            "69/69 [==============================] - 0s 4ms/step - loss: 0.0124 - accuracy: 0.9927 - val_loss: 2.2173 - val_accuracy: 0.7130\n",
            "Epoch 116/150\n",
            "69/69 [==============================] - 0s 4ms/step - loss: 0.0133 - accuracy: 0.9909 - val_loss: 2.2280 - val_accuracy: 0.7130\n",
            "Epoch 117/150\n",
            "69/69 [==============================] - 0s 3ms/step - loss: 0.0121 - accuracy: 0.9927 - val_loss: 2.2323 - val_accuracy: 0.7130\n",
            "Epoch 118/150\n",
            "69/69 [==============================] - 0s 4ms/step - loss: 0.0176 - accuracy: 0.9873 - val_loss: 2.4221 - val_accuracy: 0.6870\n",
            "Epoch 119/150\n",
            "69/69 [==============================] - 0s 4ms/step - loss: 0.0164 - accuracy: 0.9909 - val_loss: 2.2622 - val_accuracy: 0.7130\n",
            "Epoch 120/150\n",
            "69/69 [==============================] - 0s 4ms/step - loss: 0.0416 - accuracy: 0.9819 - val_loss: 2.2110 - val_accuracy: 0.6870\n",
            "Epoch 121/150\n",
            "69/69 [==============================] - 0s 4ms/step - loss: 0.0496 - accuracy: 0.9764 - val_loss: 2.0642 - val_accuracy: 0.6957\n",
            "Epoch 122/150\n",
            "69/69 [==============================] - 0s 4ms/step - loss: 0.0320 - accuracy: 0.9891 - val_loss: 2.2872 - val_accuracy: 0.6870\n",
            "Epoch 123/150\n",
            "69/69 [==============================] - 0s 4ms/step - loss: 0.0242 - accuracy: 0.9873 - val_loss: 2.1352 - val_accuracy: 0.6957\n",
            "Epoch 124/150\n",
            "69/69 [==============================] - 0s 3ms/step - loss: 0.0191 - accuracy: 0.9909 - val_loss: 2.0814 - val_accuracy: 0.7217\n",
            "Epoch 125/150\n",
            "69/69 [==============================] - 0s 4ms/step - loss: 0.0159 - accuracy: 0.9909 - val_loss: 2.0877 - val_accuracy: 0.7304\n",
            "Epoch 126/150\n",
            "69/69 [==============================] - 0s 4ms/step - loss: 0.0166 - accuracy: 0.9946 - val_loss: 2.0710 - val_accuracy: 0.7130\n",
            "Epoch 127/150\n",
            "69/69 [==============================] - 0s 4ms/step - loss: 0.0107 - accuracy: 0.9964 - val_loss: 2.1318 - val_accuracy: 0.7304\n",
            "Epoch 128/150\n",
            "69/69 [==============================] - 0s 4ms/step - loss: 0.0149 - accuracy: 0.9927 - val_loss: 2.2169 - val_accuracy: 0.7043\n",
            "Epoch 129/150\n",
            "69/69 [==============================] - 0s 4ms/step - loss: 0.0209 - accuracy: 0.9909 - val_loss: 2.1440 - val_accuracy: 0.7304\n",
            "Epoch 130/150\n",
            "69/69 [==============================] - 0s 4ms/step - loss: 0.0123 - accuracy: 0.9909 - val_loss: 2.1878 - val_accuracy: 0.7217\n",
            "Epoch 131/150\n",
            "69/69 [==============================] - 0s 4ms/step - loss: 0.0129 - accuracy: 0.9927 - val_loss: 2.1789 - val_accuracy: 0.7217\n",
            "Epoch 132/150\n",
            "69/69 [==============================] - 0s 4ms/step - loss: 0.0134 - accuracy: 0.9964 - val_loss: 2.1907 - val_accuracy: 0.7043\n",
            "Epoch 133/150\n",
            "69/69 [==============================] - 0s 4ms/step - loss: 0.0144 - accuracy: 0.9909 - val_loss: 2.2063 - val_accuracy: 0.7304\n",
            "Epoch 134/150\n",
            "69/69 [==============================] - 0s 4ms/step - loss: 0.0115 - accuracy: 0.9946 - val_loss: 2.2248 - val_accuracy: 0.7217\n",
            "Epoch 135/150\n",
            "69/69 [==============================] - 0s 4ms/step - loss: 0.0103 - accuracy: 0.9946 - val_loss: 2.2915 - val_accuracy: 0.7391\n",
            "Epoch 136/150\n",
            "69/69 [==============================] - 0s 4ms/step - loss: 0.0125 - accuracy: 0.9927 - val_loss: 2.4463 - val_accuracy: 0.6783\n",
            "Epoch 137/150\n",
            "69/69 [==============================] - 0s 4ms/step - loss: 0.0402 - accuracy: 0.9873 - val_loss: 2.1544 - val_accuracy: 0.6870\n",
            "Epoch 138/150\n",
            "69/69 [==============================] - 0s 4ms/step - loss: 0.2298 - accuracy: 0.9401 - val_loss: 2.6980 - val_accuracy: 0.6348\n",
            "Epoch 139/150\n",
            "69/69 [==============================] - 0s 4ms/step - loss: 0.3512 - accuracy: 0.9074 - val_loss: 2.0477 - val_accuracy: 0.6261\n",
            "Epoch 140/150\n",
            "69/69 [==============================] - 0s 4ms/step - loss: 0.1865 - accuracy: 0.9437 - val_loss: 2.1471 - val_accuracy: 0.7130\n",
            "Epoch 141/150\n",
            "69/69 [==============================] - 0s 5ms/step - loss: 0.0419 - accuracy: 0.9837 - val_loss: 2.1762 - val_accuracy: 0.7130\n",
            "Epoch 142/150\n",
            "69/69 [==============================] - 0s 6ms/step - loss: 0.0474 - accuracy: 0.9837 - val_loss: 2.3197 - val_accuracy: 0.6609\n",
            "Epoch 143/150\n",
            "69/69 [==============================] - 0s 4ms/step - loss: 0.0312 - accuracy: 0.9891 - val_loss: 2.1709 - val_accuracy: 0.7043\n",
            "Epoch 144/150\n",
            "69/69 [==============================] - 0s 4ms/step - loss: 0.0198 - accuracy: 0.9927 - val_loss: 2.2288 - val_accuracy: 0.7217\n",
            "Epoch 145/150\n",
            "69/69 [==============================] - 0s 4ms/step - loss: 0.0219 - accuracy: 0.9873 - val_loss: 2.0810 - val_accuracy: 0.7391\n",
            "Epoch 146/150\n",
            "69/69 [==============================] - 0s 4ms/step - loss: 0.0132 - accuracy: 0.9927 - val_loss: 2.0835 - val_accuracy: 0.7391\n",
            "Epoch 147/150\n",
            "69/69 [==============================] - 0s 4ms/step - loss: 0.0105 - accuracy: 0.9964 - val_loss: 2.1588 - val_accuracy: 0.7304\n",
            "Epoch 148/150\n",
            "69/69 [==============================] - 0s 4ms/step - loss: 0.0127 - accuracy: 0.9946 - val_loss: 2.1272 - val_accuracy: 0.7304\n",
            "Epoch 149/150\n",
            "69/69 [==============================] - 0s 4ms/step - loss: 0.0127 - accuracy: 0.9927 - val_loss: 2.1650 - val_accuracy: 0.7304\n",
            "Epoch 150/150\n",
            "69/69 [==============================] - 0s 4ms/step - loss: 0.0118 - accuracy: 0.9964 - val_loss: 2.1658 - val_accuracy: 0.7391\n"
          ]
        }
      ],
      "source": [
        "history = my_model.fit(train_ds,\n",
        "                       epochs=150,\n",
        "                       validation_data=val_ds)\n",
        "                       #callbacks=callback)"
      ]
    },
    {
      "cell_type": "markdown",
      "metadata": {
        "id": "OAbraYKYpdoE"
      },
      "source": [
        "Let's run the `evaluate` method on the test data just to be sure there's no overfitting."
      ]
    },
    {
      "cell_type": "code",
      "execution_count": 117,
      "metadata": {
        "id": "H4Nh5nec3Sky",
        "outputId": "5f958958-91be-4083-c4f7-13bf2511085f",
        "colab": {
          "base_uri": "https://localhost:8080/"
        }
      },
      "outputs": [
        {
          "output_type": "stream",
          "name": "stdout",
          "text": [
            "9/9 [==============================] - 0s 2ms/step - loss: 1.6499 - accuracy: 0.7639\n",
            "Loss:  1.6498994827270508\n",
            "Accuracy:  0.7638888955116272\n"
          ]
        }
      ],
      "source": [
        "loss, accuracy = my_model.evaluate(test_ds)\n",
        "\n",
        "print(\"Loss: \", loss)\n",
        "print(\"Accuracy: \", accuracy)"
      ]
    },
    {
      "cell_type": "markdown",
      "metadata": {
        "id": "cid-qIrIpqHS"
      },
      "source": [
        "You did it!"
      ]
    },
    {
      "cell_type": "markdown",
      "metadata": {
        "id": "nCKZonrJcXab"
      },
      "source": [
        "## Test your model\n",
        "\n",
        "Next, try your model on the embedding from the previous test using YAMNet only.\n"
      ]
    },
    {
      "cell_type": "code",
      "source": [
        "testing_wav_data = load_wav_16k_monoR(testing_costo)\n",
        "# Play the audio file.\n",
        "display.Audio(testing_wav_data, rate=16000)"
      ],
      "metadata": {
        "id": "BEFDSR-r3XTY",
        "outputId": "c75b7afc-d8dd-44f0-d105-8be900ac8f0c",
        "colab": {
          "base_uri": "https://localhost:8080/",
          "height": 76
        }
      },
      "execution_count": 120,
      "outputs": [
        {
          "output_type": "execute_result",
          "data": {
            "text/plain": [
              "<IPython.lib.display.Audio object>"
            ],
            "text/html": [
              "\n",
              "                <audio  controls=\"controls\" >\n",
              "                    <source src=\"data:audio/wav;base64,UklGRiQYAQBXQVZFZm10IBAAAAABAAEAgD4AAAB9AAACABAAZGF0YQAYAQA8/8sBJQHB/q4B1wBt/+n/MgAwATYAyf7c/1IAwQDy/7gAw/+q/qX/EwA2AYAB1v9M/63/X/43AGP/ef+1/rX/5f9c/cIAiP5AABMBjv4dAbX/fwC7/14Bg/8hAFEA0v7JAA3/rf9RADcAk/9o/nz/wv+G/gX/JgHO/KsAQgCl/xb/UgFr/r4AUf6p/n8ACgB3/80BBQEtAQv+f//mAa7+nAHi/lsAEABgAAQDTwFFADoAsv6jALr/w/9UAEz/7v9kADMBAQHBAcP/CQGa/oP/jf9A/6D/vv5C/07/pf+I/+UAagEcAD0BUQD0/2QA8gAIASYAMQDk/x3+2f8jAez+qAD6/4b/JQBfART/YwDEAEoBmQCV/iIACQAfAF4A8v5MAJ//YQB6/+r//P7x/2P/q/5+/yoAJP8PAUf/DgE+/8n/GwCyACL/j/6RAcT+0QChAGQAJQDi/HAA2gGb/0YAzP8bAGT/LAH1/+b/h/6L/sn+zP/A/sD/CwCn/97/9wCu/4QAJgGi/qH+uwC7/hb+l/4N//IAjADQAWAB2wCZ/n3/4wHP/80AYAFCANYArf/E/iT/RADDAPv+rwCJAET/HwCyAJj/tf+P/hj/rQBl/z7/xf78//X/Af8D/wEAF/8HAIUAlgAq/83+Zv+eAWwBYP8ZABQBzf8y/1oChgAtAjUBCP9M/+sBQwDLAOoAKv9G/zUAxP/W/7YBTQDx/9H/af/5/rYA2f4pASoAqf8n/z//EAAw/5cB1f4RAO7/xf/GAEr/3QEUAKcBBgBO/8YBDf5mAAcAhP8w/4z/swBJ/1L/kQDkAJD/nQH5/t0ATgCp/on/K/+GAID/owCXAID/pwCd/ukAKwBN/5gAFgB4AY39KQH3/qIB9v9W/1H/EwFd/6f/0gA0Aa8Ad/5G/03/hgAw//QABf6AAHgAzf42ALMAqAAaAWEBQf+V/+7/lwAt/p7+dv+5/XT/6P7h/mH+zAD8APUApAAKAFH+fACjATb+7P/jAD3/pP8S/1wBQAEWATr/VQBTAQUBHgBIAMr9igLeAe7+9v2Z/tD/1/4K/+QAUP57/u//EgDz/Zn9pQC0/jX/3AKPAfkAwQAM/10AXv94AdMAbAGFACf/vAAZ//3+TP/t/oz/lv7uAYUBmP6p/wQB2f8NAbr/TP+Z//H/Lf8e/8kAqv6e/hr/Yf/E/p8A9gGY/in/bf6AAfX9ff+J/or+T/9A/wAAXv7A/+EAwABDAR3+QwDb/94ACv6x/4IAfgBx/u/9cgCyAAwAuwAIAHAAEQCr/7wAswI1/1QAhQD8/34BHQFE/z0Bff+SAVL/ov8o/67/GAANAEMAfgEfAIEAYAAO/xQAMgEr/bMA8/9+AIgBegC2AX/9ff6/ADEBvgDp/u3/6P4+ADgAW/8NASgBqf9F//QAUwGw/mYAm/+m/mv/AADe/gwASgB0AXkBav83AA0AnwAF/2D/jv4YAbv+IgHs/8n/LQIoAYwAtP+d/+r/lf51/owAYAFK/vr/WwBuAHwAZP8JAfz+Cf9hAGQAaP/CAQkDqgABAVz+fwAdAZf/NgEC/4f/0P9VAU//If/XAMgB9P5OAAsEHwF4/0n+s//n/w7+lP8BAJAAtgFqAMsAqgHtAR4BpACh/hEAFwHU/vwA9gHp/2MAUAHDAOgARf8cAHb/nAHL//8AM//HAEUAUwEE/pj/Fv/4AIf/5QDZ//L/hv4OAi8AMwDG/woAVQAp/47/UwDU/RMBGgCaAan/fwBqANAAuf7f/t7/OgEE/6oAFf9lAbn/oP+QAWX/sf68AOP/Wv8H/yYA0f1x/1T/fv9pAAz+wf/gALz/z/8MAJj9l/5NAdv/CAIPAP7/A/+MAMsA4wE8/4T/FQAn/of+CgH7ANL/Xf+P/pD/Iv9w/y4ADgGiAIgA1gAIAID/gv9rAHv/agC+AHUA5wG3/zf/MQBk/8kAyv7h/0sAIwFCAFMBKf+0/yoBbAENAG0AFv+0/3gA//7I/+f//f8/AbQA/f/7/6T/lP8yAQcCHwCTAPACbADgAAj/OP9FAMP//wBGAAABpv9bASL+AwDfAGYCy/+F/x7/agD7AOn/uP4YAl4BVgDs/zUA8gDIACT9UQABACkA+f4i/2//yf6C/8n+1/7q/i//gv/v/5EA8P/DAcP9uf6rAfX/RwD5ABgAoQBGAa7+EgBgABv/uf+TAIv/Ev+V//j8vv////AAfwDD//z/dQIjAKoBSQC8/0kBWADHAEwAxwCg/3EAFgCsAe7+mP/m/gz/LQHC/1gBoP/S/dAAFgA4ADP/vwCVAMj/pAAbAXn/1/8t/yYAVwAO/z0CoP62AGsAbABjAdYAvQLd/pb/K/+3/yr+f/6HAW7/MgGAAAIBdgC/AAgAMgG1AJf+k/8M//3/XP9a/7H9k//QAAD/d/63AIUAJ/+J/wAACgHS/oT/0f32/wD/0f/rAEYAoP+d/+gAlQCMALP/ywELAfz/4QBVATf/gf/0/ff/LgB2ALMAOQCM/+X/qQHZAAoAl/+C/0sAxP6x/0cAcv/yAJr/DQDJ/oj/gAJw/hr/FgEQ/xH/4gAbAU3/1wB6AFEBbf8bAkoAHQAkAHL/aQBv/qEAYwCRAD//zf8SAAgBCf5+Ac0BIwCm/1v/HgCd/9n+yP/9/zYAav8JALH/jQCx//UBZgAX/yj/CwH7AMD/0v8JAVT/cQHp/1QAOQHw/zIBWABEAOn/zQIP/4n/Hf/T/v7/sP9T/3gAVv8PADkBhwAb/ysBLwCj/3j/uv+6APwARAKRAPT+3ACEAGUCJwCV/x7//wD4/zoA0/3d/k3+pwAc/6QAeQL7/Yv/TwCo//n/Zf8k/i4BWP/U/vD+Xf2DAFoAPwH2//P+cgHnAM4C4P+oAEX+bADv/03/nwCN/woA+AE0AucAHwJoAo4Apv+M/8D/lwDe/r7/fgDaAKQBcv7UAagA5v4x/sAB6v5m/2YAggCL/sgAtv+P/0n+pf/J/6T/+v/5AF8Abv8n/q7/yP8nASwA1f2i/mr+Pf+K/y4CrAD5ABEA4v8uAJ8AEgCyAG0BCgGV//D/KP48/1oBuwD0/k3+MAIKAncAwwD7/xMBDQDuAQr/ewDPAJn+lf0+/0wAuAA2/n7+OADFAs7//gBZ/7L+QQCq/RoA1wB9/37+Yf8J/+gA/v6h/iQA1f2GAHL+PwJm/rkA6vzI/dL97f6W/2MA/v8k/m39RACD/0P/mwB5AJ0AAgDq/hj/vP+yAaIAegCyAZj/+gDfALgA8AGRAVkBEwLbAswA4AF3AY4A6wDFAaMAPf9QAKwBzgEOA94BlgFl/z3/JADf/r3/pfuD/gz9c/01/HX8jv+0/p//WP8k/9T7N/9p/p7/pf9yAJH+dv57AFf/gv/CAKQA8QD/AT8BKAJRADYD1wJ9AYMDtADYAnkAz//0/o4AfwCF/90Alf7m/7cBgQGHAMIANABt/67/h/7v/53+pf/k//D/1/6w/kMA6f7q/1z98v0t/qH+ZP3q/Tv+4f4SAJX9tP1c/r79ef/b/iH/sP8gAWcCY//QAksBbgHmAD0A6QBNACkEdwO2AE3/FwH+/ggAMwEfAoj/5v/nAdgAJACH/4MAmP/q/tj+MP9C/5H/EwA//7MBeADdAG4Bzf9bAM0AOQCa/8z9g/9QAAgAcP7V/3v9kv43/s3/Nv/v/VkAQv83/9X9Qv/hAH8AAgEVAjoAGAA4AHMA/gAUAC0BaQMM/wIAGAIFAv4AJQGXAg0CQQE2AnEBvgDnAeEACgNP/xUCZv6h/yj/TwFP/0L/EP6H/t79d/8YAbX/7P90AQUA3P0iABD/6v6zAGQAnP5O/zL96/0A/pf+rv/o/sD/dv/X/nb9oABnAW8AjACBAcX/1P+HAf0BBwDKAPT/6wBZ/4UB7wDmAL4Ayf8BAWH/FQGGAJH/ngGE/4YBHwKtAJz+aADzATUCJAPl//sAswAJAEMA+AATAUf/If4w/Fz+1ADr/Zv8zv4L/f/+RfsY/lT9v/7E/Vj/Av5R/5b+qP7X/b4Acf/z/ov+gf5+AD0BagEUAOIAvgJq//n/VQCMASMBBgCaAND/OQD0Acf/nABsAnr+T/+Z/yYALv/N/hcCiv81AfABqQIcAuQBBwEMArMAWAFR/mT/ef+Z/zoB1ACr/kj+hAAh/pj/6v/M/bz+QQAmAH8AJwAzAfr/V/+4/RcBtgB0/3P/AwAFAEcBsf8IAdr+wP6v//H9qf0NAPL/kP/nALj/sQE5AID/0P9I/9sAQQDp/64BIQFhAhgBjQH7AYL/Q/9q/7z+iv8jAC4A6P9zAlMC1wD5AP3/W/+Q//UBof/r/qsAAAAiAUwAQADK/Ej/cgAL/xr/tAD//iv9vP7b/in/oP83/aP/RABO/xX/fP/5AJz/SQDsABr/S/2wAZX/dP/6/b3/PgAFASb/gACM/wICrwGhAVv/ZQHsAgYD0wDwAJQB8QEkA04B1wBwAW7/8P5x/wf/iv+x/w4CqAALAI7/F/+R/3EAkf8h/8z/Fv+u/2z+nf59/Y39af2H/nD/6v/h/6wAwf6w/ykAKQDJ/woB6v+IANn/9QAiAQUAjQEEADsCrf6cAgUChgI/AJIAcQAD/7IARv9pAIYAKALN/78AFgAAAGL/RwBK/aIAe/8N/p7/bv5v/z8AvP7C/6r/xAAT/xUB3P/JAFL+BgBHAAv/bgCDAPT/ZQCD/yz/bf+//67/xP/V/sn++f+ZANcAKv+E/W39Nv+W//D/j/8bAcT/gAGq/tIBlgDOAH4Bjf9p/+z/3v9sAMQA9wDb/8v/kP+K/pP9k//d/0oA+AIYAgUBAwL+/9UAzgCr/5b/lP4PAJf+7f7H//n+LP6S/yIBPADt/TQAH//D/3kBEADDATYA2QC5AHcAyv98AOj/2wAWAGv+of9PACoA0f7SAKMAcf8QATUA1f/p/zj+QP0wAO4BBP8X/yMC7v83Af/+OQHB/2P/Lf3IAKwAkgFWArYBtv6q/38CcP92AKEADADhADwA0gCGAUAAUP8kAEEBcf+o/Rf/qADZ/b4AEQCk/UMAYP+D/93+rf9C/33/K/9HAAn/Cv+v/z4AvP7A/4P/KwKrAR0AjwDz/v0Ay/8iAeoBT/4l/hMBzP+j/3r/xQBiAMj+UgGy/nT+pP5yAK0AIwDzAbkAZAHJALgAPv4nAdgAlv1oAJj/8wDV/8IAdAGR/1r//gDtARP/iP/a/1j/3f3j/+T+SQDHARABqP+t/8X+Ef8cATYA0f6g/RUABwBn/1f9yACE/r8AfgAoAXABgAAB/qz/qgDP/zQA4P8VAs4BHQHh/+v/Yv+zAC8CJQEQ/6b/lACHABv/sAEe/6YAjv+2/tX/z/+l//P/zP3T/7IAoQGJ/37+bAA3AJr+yv9EAGX/AwBS/5EAsP7w/VH/HwA/ANf/E/+y//D9QgFXACQCnABxAHb/xgDg/tAAwwCk/8b+mv9O/1IANf9ZAPgAvf+vAaEAfQC8ApEBAABX/+EARAJNAOgAzv8KAEoBCwBn/87/GALNAdsATf5N/z7/IgEL/vL/+vyL/fIA1f7e/Yb/X/3u/q8Anv5i/h7+uf9oAJ7/QgL0/wH/LP+dAtMAWgIgAhL+VQB5AOABJf+4AaYAkQAoAZcB9wCM/zEAgv/r/58BBgG6//j+D/88AEH+0/7M/cUAav8mAB7/EQE7/3L9zwBT/v/+h/8P/4v/WQA1AAwAoAAa/xMC9AAtAH//n/7E/h//6//1AYUBWABxAX//oP4uAUIBRgGT/4j/kP9YAPD+VQBh/t//Nv+qAI7/qQGv/qX/nP/A/7kAJP+E/rf/5wC+AYT/twFhAIgA6v89AHgAFwDQAUMCvgA9AhIC/QOUAGH/wf/5ACUBgv86AWH/EP9j/jj+cv+s/ZP+yv5hAFD/IP3A/6D+EQKAAL/+Zf3lACz/Cf6Z/uT9A/8H/1z+Uf9O/9P/r/6y/zb+d/8r/wIBrv5oAmkBUQE0AGEBBABjAaUAmwB1/jUCV/9ZADoAQv8zAqsASv9pALQB4gGT/tsA5wG1/rkA7f8mAPb/SQFf/0f/1wATAUr/AwHx/rP/KQBb/1ABbv9v/nT9e/+H/yYBH/9o/RcBQP+H/5L/Iv7m/hX/LwDs/93+bAC1/0H+KACw/jMAo/8HAhcCY/63AFr/nP8aACMBJwK0//kB9ABvAF4BhQIBAZEAEQEjAAUBav5D/6sBOf40/6f8mQBuAEP+JwIE/t//yv6F/6j/w//vAAwBLAAY/00AOP71/sH+Df6c/Fr9ef7y/RD/I/8tAZv+V/5OAN//Vf9Y/lb/qv+WAcIAaQK5AZv/n/+6ABUAf/9YASkBIwIW/30BEACiAbv+1f9D/p0A7AFZ/3IB2QEe/2cB4v6VAOEAhQCU/3MBzQB4/+MAmP+6/5D/Af4lAK/+aAFE/+X+nv8bAD0A5v6Q/uL89f7r/jMA0v3T/cD/Tf/fADkAYgDd/0gAuv+kAW4AOwFh/8IArwKvAeX+W/9VAfn/UADR/7b/CgLrApL/WAB0AREA4v8cAN78//24/eX+6v2q/Sj/zgA3AKj/m/73/wMEoP+7/4L/4wDQADz+tv8j/XD/n/+E/jf9r/5w/Cz/wf6l/uAAvP0R/3r/XP6O/7P/AAD6/1UBAgSTAAcEvQT7AGIEyQHPAqgB6gFQAIj/vwDUAQ0Be/8VAIP9/P+A/qz/5v97/uT/JAB+AYcBZv+3ABMA5v5BASoARwEMAysB+v5IABQAa/+5/vX+Zv/J/Uf/OgFOAnr/BgF8Aj8BWv/U/6D+g/4JAI7+Q/4h/0gDFgAe/jD+vv9//3H+SP7n/qsAE/+W/SgAkwFaAOEAQAGxATIAogE0AEQCBgJ6Ak4Bt/9wAHwB3v+e/9P/8/5WAHgA/f6OAAcABAHd/0sBjwDGALIBTQDE/1sBFAEvAIgAjf7TAo/+pP6n/vn9UQAHAbn/WP+4AG//T/66//r+YP3SAMf9B/wP/pr/pf9q/dz9d/4jACgCKv9zAisAhgDNAKEASgA3AfsA+/59AGgB//73/yoAugDTAEgAKwCL/1kAvf3S+3j+Yv88/04BBwGy/6UBHwHfAtwAugLxAeACAwEB/68BGQAkABX/Qf/Z/hv/0gB5/eP+2P4E/zkAqv4hAa4A7wGb/+//vgB2AUL++/3V/jAASQG6/dD8b/3c/ub/QADf/o3+iQHo/7D+gAFqAvcAfgEeAAgBBQENAMIAVf9cAOwCQQCZ/kT/Sf4m/1r+LADGAKoAFv9n/0oCZAHCAbYB9wALAV0BAgFZAfL/Y/6uAXj+9Py9+9j+2f47//f+bf4W/8ACT//U/oQAvgHQAXsBGwAo/wUBg/+Q/1L8VgBO/9b8nv2W/V/9oP7uACkBNwHU/k0BxwKcA4MDhwI4ACIC8f9Z/k8A6P8K/5X/pf3M/gH/ef/S/Uj+3fzN/gT/fAHt/90AtgEUBYIDowEbAqgAHADwADgBMf5/AIf+CPxw/lv9iP9sAbwAbAG1AAAAJwF4AUgCkgAzACgD3QDh/7cBDwDs/7MAVAHw/wD+wf6IAPT/wQA3/lX9cAHt/2cA9QIHAWgCvwFf/nUBjQCZAKz/9gDN/rP+0f2A/yj/Tv3+/sL/kf6W/7YB3P8oANcBZv+PABAAiAApApz/zf6m/wf+ZPwA/r36tvpj/LL9zv9c/+X/cgJZAfID4AQNA3gBdgOSA80C0QFM/xUAbf+x/uD8E/3I/4P9wPzz/av/uAFyAYkCBAJfAGcCZQJ+ASIC8f8T/ncAdv9kAbj/DADp/+b8Bv5a/bv8gv+N/qX9wwBo/dQB4gCxAZcBGgK9AP0BTAIT/8D9q/83/57+Ff9j/cT+4P/a/Tj++P92APwBtP4tAkECEQKSAA3/xAA+AHMAgP8L/4oA5f30/mb9UQBU/tH8U/6Y/Tj/WP+oAGgBVAF9ArwB4f/0/vwBf/92/mwAWQFo/1H/Gv+F/dL+dPwv/aP+3P0F/koBcAHK/5H+8P9mAAz///8PAZIB7QCnAXwAqf4B/70AFf/a/jX/Pf0HABz/BQF5/+wCGAPmAjkDygGrAMoA6QCAAPwAlP47/QsAYQCl/tT/AALGAAYBPP8lAWwCtgIcAtEDzQF+ADsDJAIOAhwBY/8NAJMAUwFF/sP9hP72/CH8uP0a/JP9z/y0/aD/p/4AAB0BAwFbAKoAOgNiBOkBlQBsAdP/zwBQ/8n+8QDE/u79e/+F/+YBmQDS/zL/N/+YAaQBpwJG/y0AAgAn/+4Ajv8//yUA8v4i/rr/rv35/kj+kP4WAIv+W/8CAXEBk/8K/1f+Iv91ALf/Vv3j/+H+SwHo//D+p/8o/3cAfP8RAAj/lP7GAGgCq/8h//UB4gHfAFwCEgHrAncALAAc/1X/FgDp/eX9Mv70/Vf89f+qAQsCKwFjAcABBwGMAmYDPARXAvwCRAGb/mH+Rf4MAEj+1/+yAMX/Fv9T/Kn+rwBsAC8ACgJSAeEBvgHiAOkCWQBtAET/EP+A/TT+l/zN/AT+4v2T/qr+dPvV/Tr89v/Z/VcACgHi/pEA4QH1At8BAgGN/+H/Jv5LAUn/m/97/7oA/P5q//z+NgGyAH3/5v99AGoCagHtAYYDGAFQAuP/7/7A/U4B5P7t/dH+MP4gAAj/AP9U/oD+//9W/pr/hwAs/h3/sP5V/9T+nQDH/z3/nQBx/6P/W/7L/uz+Iv+6/or9mf72/wH/KgLtAycDKAK3Ag4ANgFiAecAuf+R/3v/2v5vAAYBQ/9I/k7+s/4AAOoBBQCAAfECpwFEAJgBeQGuAb4AuQKQAJj/UgAwAPP9sP9S/UX9bP3I/6D/+P7u/2oBdQPuAbkAAABu/sIA7AHJArsBgQA+/x0AcAFu/33/MPxV/Q7+1/7N+yr+I/8E/0sABv9k/4YAKgAn/3oA1//mARkAUwH+/Rn/Nv1r/a7+XP7I/jj9Uv9//zz/IQHAAEAAM//ZAf8A5QIAAkQBNQADAPgAhv+o/w//CP5C/47/m/3f/UP/OgCeADwAJAJaAdj/OgDc/uwBwgDTARoAbwFyAKQB/v4eAKH8Cv6I/00AwgCOAYYBFgMFAGkALAD2AKAA0QHPAF4EOwLRAAn/gAAx/sUA/v8mAacBbwR6/8j+6f3p/lv/VgCx/m4AW///AusALwBdAV8CV/9m/3X9OQE3/8X+Qv4T/n79e/82/tH+UgBZ/Uz+oP52/wf/Rv6k/cYAhP6O/mb/2f4O/xP+EP/Y/loA1f3A/cL9dACHAaT/CQDq/1gCCwGCAKoCqwEwAH8CRQK1AbYBkwAIAS/+3v7oALj/0QGg/qgBdAHSAK8BMAC5/S7/LQBq/3H/VQBOAfD/mf6U/UP9n/5xAeT/+AAQAN7/+/3y/4j+bP6s/2UC5wKfAf4BFQHa/5T+YP81AeD/jAF/ARECpgGYAHz+tf93/Hb+xgD5AWgAmgLF/5UA8P8oACoAQQKK/5wAMf/uAEgAA/4u/tn+UAAZAF//Uv93Adz94v8DADj+3v/g/y0ApwDU/gf/iABb/RD/mwC8/4X/uP7j/XT/2P7J/3cAbP8wAOD/R//7/pz+jf4cAVv/PAGL/UkByQBnAVUAZv8s/wT/oP9tAU8A6f+///wA4wClATkBRAKhATcCgAEmAsoBLwEK/6D/Fv7+ACoBmAGF/74BsP7U/gn/+/61/isBKv5AAI4AvP/0ADEAn/3sAFEA3v5c/5D/QP9j/6j/s/3t/+39sABAAWwA2QBzAdABSP9/AZb/KgHNAN8ALQJFAXECI//5ABP/Rf5pACsAOAFa/40A2gB4/7v8mv5K/lYAZf/9/h//VwENAvn+5vzl/YL/Tf5z/xMBewDA/REAM/9tANL+4P5L/lQB6wDiAJ0CdACQ/9UBjAKOAO7/e/4O/zIBeAE7Ae3/wP7J/qP/GP+UAGYBFwACATT/sgCw/9cAvP41/+3+rv4m/Wn/bAEBAEMAW/1jAbEAoQDPAEAAHgHRANUAfgKaABQA6v6UAIb/Tv98AZb+nP+RAPD/mACkAFQBpgG//5P/cgGlAMf/WwAh/y7/5AG3ACH/uP9r/QH/IgBZ/5D/y/5pAOf+OACgAEUBiQDMAYj+9v5h/yL/eQGvAIQBNwBU/uv+VQBo/vD/PP91/p4AvgDMAjX+Zv/6AML/7/5M/mIA2f4UASkBFgDB/vP9XP65/2b/5f+r/z4Azv1V/fj9MQAIAYwBeAD9/nr/jAKnAewAof/M/xIBHAHWAaIBAgBG/+j/vP/b/3EBtwHH/kX/fP/B/20AyP/WAREBgwAqAP7+jP0//8r+KgGLAJEAJAHp/vz+eADd/VQBygCtAOb9+f/CALj+Uf/5/hb/XP+lAIYAAwDJ//kAnAAv/5H/VAFzAKgCFP8c//T/IACZAOX+I//M/sL+/wDz/aMANP+OAcP++P1d/rkAugCl/5L/e/9PAiT+pf+3/zX/8wFBAIkAWQI7AsUAyv72/jb/gv2XAH//xf8w/zkAQf+KAMH+bQKF/94AZgJLAYIBawC8/swAzf0n/9H9NQFJ/7b+GgCoADv+ZP+F//H/4/0p/8X/HABL/rb/UgBdAFv/FQAeAiMClf+I//sAaABtAbwBoQALAVD/g//5/jcAkADV/y7+rwDN/UoAoP4HALYAjf7B/SP/av7O/nMA//72AZ0B4QDq/vz/kf9HAeYAS/9XAH7/xv9x/3D/3P6Z/6v/qv2+/ZoBxwBTAM0ATgAO/xX/5QA9/3wAzfxMAL7/xf92/oMAIAHI/6r+Nf97ADYC6v4dARwBy/+/APn/VAACAegBPv9gAcUBtgGF/jj/dP9mAYMAm/8NAJH/Mv4t/oX+YQFzAMj/D/3VAH/+CQF0ADQADwDsAKoBXQCo/0EC1QCC/5kAewGK/8P+5wCl/fD+OP4c/yoAQP9K/awAP/+XAQIBOQBdANoAnv5i/0UAvALiANsAlgD6/7L/TQCBAd3+Vf5RAR3/If43/uP98P3B/5r92P9x/xL+hv+G/2j/1P+zAK0A/wBC/p8DmgINAdAArAAgAawA+wCTAV0BuQC5/+r9MP66AOP/0v45/0f/ngGx/xoAOP7G/gcBBv+1AM7+JAHh/00Aav7k/dn+2gDA/1j/EgESAYn/sf4TAI0AZ/9C/0QBIwG7/pQAFgB7AU8AEgCZAHYAqP43AML9dwADANf9CgCh//8AuwDFARMDKgB2ADP+Ff/G/9P/1P+G/8oB6P7w/x3/NgBcATwA2ADD/iz/YP9jAvoA2gDT/nP+r/8CADr/ff7nAS//3/2P/3L/tgDfAM0BmwB9AEIAH/+CAO8AGgGXAMH/Pf83/mkBAf9B/zX/LwBt/kz+4v+T/6f+YQBn/9EA+v/BAQoAFf8oAJL/aAJYAL7/OwABADgBEAFr/sUC1wCJAZYAEQBH//b9nwCT/5T92f8HAOH9tf+a/Dn/iACL/kj/0gBk/oT/twEGANb/If/h/ikAlP6dAT4BdP/JABIB4wCu/+X/QwGNAB//j/5B/tr99/7V/rb+hwDQ/Vn/hv8wAJL/hgERAGj/WwAUAA4CzgB1AcMAngIIApn/jQCgAOv/zgFvASQBlwClAaABXgFW/4gAMwBr/rf/Y/8d/1T+k/7T/4D/yP4kAdn/EAB7/zEAPP8ZAPsAwADPAdP9JP/R/ur/mgCEAHj+FP9RACT+TgBxAJ7+bQHP/woA8f8j/xL/swBp/if/4/7SAQ8BUAE0/6UB0gExAYQAsQAaAMEA7QEJAK0A5wAzAKL/r/5PAPT9VP5M/sP/wAE8AAD+J////vj+4wCNAJ/9EP5S/+X/tP/E/1AAif5eAXQAaAC3AScBlAEW/4YAJwCX/20BhAFo/mQAQv/h/9gAgP7c/zkASP9f/6f9SQDX/vL9Y//o/roAsAAk/wcAQ/9sASADmQAWAJ8BSgLv/z0Avv/oAd8A9QDV/gMA5v9YAcT/6v7B/1oA9/9N//T/qf7d/98AtQDAAOAAZP7L/w4AUAGv/tP9gf6dAIIABQFS/mIBUgAM/kT/qP+T/ksAT//KAGMA1QAeAVQBwQAi/5P+tgD3AHQAnwCxAAUCfwBCAKMAVP++A5r/sP4SAYD/hP8yAGL/dv9ZAQ8C6f9SAC38KwKc/7b9IwEyALgBcP7J/Sn/FgHn/nv+Z//U/VP+Gv+G/yIANP+0ACkCJwGSAFQA4P4z/k3/MwHP/wkAu/31AbEA9QDLAPP+tP/fAMP+AABDAeEBWAAp/z8ADv/4/9AAp/0bAbb9cf/GAFz/d//E/noAxv6mATgAWgHAADT/I/6l/k8BGQCt/6n+pv+S/bT+AABSANv/FwDu/j3/bv/g/nj+b/6O/bf+gwDf/gUALv5J/qYAWQDX/VL/DwI2/IP/qQHv/0UBNAG3/h3/cv2O/+cBcAASACACYgEP/9EAFwCxAE4B1//kAMACGQFIAqkCMwAo/7X/7f+OAFoBRv6L/3r/WgEQ/jb9RAAc/xP/fAFE/67/CP8kASsA4QCvADYAyv/U/7H9HP/gACYALf/rANT+9/8oAE/9xwCmAW7+9v7PABAAk/5p/2r+QgHr/7P9GP++/y7+3P5hAdwApgBLALkA0f+zAdb/vwAf/kP+If64AZP/VP+c/l0ANQBdALwAG/6iAJMAoP9dAJ4BIgBj/yj/Pf+2/3v/s/3B/9v+YAAB/3j9iv71/UX+8f3t/gD+i/+j/uf+9/2t/cr/GAHP/9L/gAAzAUkBpQGuAb8AywE4/p4AEgK/APMB1QBaATgCEwGtAUD/ywBbABD/AwAfAOcADgAB/57+JgBs/iYAtwD9/RT/AwCOAMf9tv2l/cL+3P1A/Zf/zwAb/2b+yADn/63/2P8k/2oAjP+/AKD/ngH4/z/+XAEK/1wB6AFuAbb/Zv5fAHr+n/+h/7n+yAFyAab/FgHM/7n+FAEz//b+UwGbAYsAp/92AbP/DP8qAED/EwFp/oP+Kv+0/rz+Jf01/5wAfgCF/qQAVQDW/+gAhP9aAWn/fP/q/7H+df68/zYCqv7T/+L/Af///R8AgwHC/rL+Yf6g/s0AbgA5Arz+dwCe/u3+V//v/zwA7v8F/0T+IgH1/9//9AHb/zsB9f4DAZ8AZAP0AfABlQIsAoYBZgE7ARMBmv5BAYoAUwHi/1n/RgB6/roAy/7Y/3P/4PzB/xUAQf2P/+H9lv0B/4b+Lv/l/JH/bv7y/nQArv4pAOsAGAJVApYBNAABATkAcwHjAF4BZQEpAmn/ugFuApcALwKfAewByQCjADoAyABRAPUB+/9PALQA1QGY//r+Lf5A/fP9SgFm/xr9FACI/aD+sADd/9n/uwAOACT+df1h/mT/Zf5e/yT/5/60AQQAmv2c/2f+3gEwAO0ACAHHAJUAPgCxAMIAuQD8ADgAbf5oAIUDJwA3/zUBwQFCAIQBngDFAL8Bzv4eAOD/XP/XADT///9x/9AA1wFHAKIAKgDZ/8oAVP/M/2cAJQBpAH//N/+l/6QAQgB3ANX+vfyS//T/Av++/t3+5v4eAHD+NP79/uH+HQFEAGv+3P81/17+mAGK/moBi/8MADb/dQEDAGEAnQCUAAUAAQCk/z4A4AC6AagAQgJnAcP/UACA/8oBawD8/wgAu/9iACcAw//aAAgBggETAO3/KgAeAZkAqv+cAGYCcwDvAO4B7gGw/zUAl//k/4r/K/9y/qj+WgCd//n/yv7i/pYAP/+m/w7/Zf6gAbcADQCLALQAnv7w/yQB5ACc/3EAWf/+ACwBMP+PAhwBSQLp/nIA/QBXADYAOQDl/wUAvQA8/tEAsf+U/x8A5QAz/4r/mv8U//3/A/8V/rP+NQAAAIX/J/57/+3+DQDh/qH/kf8V/0r9ewDH/3T/jwDe/pv+av+C/lv/2f8cAJgA+Pzf/3H/Fv8+AK7/jgCv/x8AiQF//QQBdQGwAQgAR/5MACH/8f68/1YCSgKLAF8BJAFnAe39lP9t/ycC8gArAFIAz//B/yMAUAA2ARj/WQAY/wsBqP5UAHL/awDOADYAQgJ1ANkAuv8g//0BPAIj/3EAAAALAFP/lP+1/zgA8/9p/+r/av/I/PgAYP9p/RUBFgBe/sMANv7w/9//fQEk//D/Jf+4AB3+JAD7AN3+UP7l/Z4AWAGiAJIBlwAiAEUABgH+AUn+2f3N/gkB1gBgAAIAKwKOAAIBSv/R/V4BWwGTAAf+tf9r/3f/Gv9X/5j/+f5yAPT+Ff5mAHcA4f92/TgAY//eAG3/LgFF/U4Asv8W/xcAaQH8/bABzf7o/v0Buf/f/oUBMwHlAE//GgG/AUwAJwCGASUB1f6kAG3/aQD9APsANgDxAcz/Kf+Q/ZIAFP8oAeb9JgA7/V8BRwJy/yMAZ/4j/wT/bwBkAJz/YwE8/50AvgAS/3gAhv/e/yr/4QCMASIAowEHAeIASwIoAUj/RAGUAJwAiAGU/4QCjP48/kj+Rv9iAD4A/P/5ABUAcQAGAPf/XAD3AHv/swDmAOj+HP5ZAWAAxP/C/37+0/+P/4P/Pf9QAUX/Zf8a/tD+7P6r/4AAHwAJ/z8A5P+dAI7/vf63AN/93QDm/mT/oQLbAKD/8QCWAK/+c/9rAPv+IgBy/r3+u/8CAIwABQKL/5kA8AFiAcMBFwHLAsMAbAGpAZoBqQBa/+YBnf9vAvz/9AFu/3QAoP+9AVIAVP/n/0oBrwBHAWUAGAEQ/33/p/4p/qj/Uv91/xsAS/9QAZn/OACKADcBhwAE/yb/1f34/YwB+f31/zf/r/+s//oATgI4/6gBVACF/1D/rv+P/4f/U/4CAbD/DwBc/xMAoQC0/9gA/v85AM7/7ACp/yIAVf93/8P/+f0sAWT/dwGl/1UBr/7i/lQBUf60/3EA0v+T/oX++AAc/woAdP81/2b/bv0WADH+2/5q/v/84P8k/6L/3/9V/g4Avv9V/nn/MACp/wMAtwBQAF0B4gDSAKQBMwJsApr/nf5uAg4AVP5YATEAlwFuAVEBWgFMAIYBpgEJAEX/QQLnAN7/wf4AAhcBrQBC/6EA5gCQABj/Y/9RAKj/VQAl/xcAtQFS/8b/Kv8pAan/Av6l/lT/hwGgAGcAwf/8Afv+WwBm/y//y//B/x4CR/5bADb/YwC2/4f/kv+fANj/ZABw/8n/Y/+IAPr9q/9b/97/vv+D/17/bAEiAiUD+/+nAD//OQLtAS79fQAsABsBLf/p/qkBtP9mAMsC9AD1AUoAvP41AcQCt/9VAFr/F/8S/vMAXgF2/9P/8v+y/tb9AQALAMv/Sf9d//H+5v0RAIL/Hv5LALEAiP/o/X0Apf/Q/9z/PP9bAbz+kv9qAXoA6gARAI7/3QDMAmgBiQBvAob/QQDvANP+AAJe/Qf/IAGU/joBBP8CANT+vAAiACsATP9rAlX/DP+w/hT+dAINARr/xf9qAJYAZgCs/7MBfwAHADj+qP7l/ysBwAAdAGv/lP/rADgBW/+3AQr/MwDp//YANgGVAPz/RwGZAdsAIwATACcBqwAQ/rr/7gEz/0AATACJ/8kAHwKC/2kAlgCaATIBDwHk/0UBnf5a/zn9kgBi/rP/hP0TAWYAggAw/0f+TwAMAS8ABwFIAXEAQv/QAIf+HgCLABsBXP89/4r/8f6WAuz+ov83/5T/ZP+Q//X/HQC1AGP/KgJfAD4AHgDo/0X//v/d/3r+4//JAM3/fAFq/gIADADL/pEArP6S/1MAvQBNAN0Aa/9XAU4AEP9K//P9x/9JARf/7f8r/8AAb/+5/jb+e/8vALf/BwBPAZMAo/+WAaMAmf7oALr+IgFP/zYBAACD/9j/MwCI/ywA0v5O/38Apv+Y/jz+xP91AJECYgAVACwAWgDGACcANv+7AGYBa/9b/h4CUf7tAHX/ywDEADoA/P/u/nr8LADW/rz9wv8E/6r8Ov4AAK/9EP8WAQIA3v9d/u8A0ABZ/2IAAwD4/m7/PwHbAQb/kAFnAu8BrADp/kIBGP+r/YMBuv8tAcn/CgK6ALX/DwHH/jX/MwL1/9v/FgFbAJL/Vf85ArkAhgChAD0BTv/y/jUBCAAUAMj/HAB2ARP/E/8bAE0BlP8d/sH+2P5W/6L+k/80/nT96v+Z/lf/qP44ANf/Pv5b/1MAlQLtAFAAJP8+/rz+8wFNAWwBt/7x/5z/fwAUAFv/jP5D/7gBQABlAZMAzAH1/1oAoAGDABwCX/91/m4AzAAPAbsAkP7MAJf/7f8iANIAfAGnAhL/+/+X/mgAnwBDAKcBRgCFAA0BJQCj/xcA4P4n/sP/b/97AOL+awCH/gkBJgANAFv+fP9n/OD/GwCf/qwB7v4dAioBrv+F/rkAIQHvAH4Amf88/2X/YQEJAXb/7P8YAb0BZwCjAmYA7wAV/j7+EP+H/3YAX//p/5kA9ABzAcn/Yv/c/kv/qv7F/34ALQEb/0b+KQBh/8H/Bf0q/yz/ywBl/hn/gP8VAUD/TQAoAUoAEACe/v7/iQBqAOf+aP/AAHX+4v4CARsASQC3/1cBHQDY/vP+NAHs/xgBk//q/74ARACn/zEBnf83Ae0Aa/4o/uMA6QHdAJkBBQHa/qcBTQAvAW//IgAz/yP+TwB1/3AA8wDhAWAAMwCz/rcASwGwALX+9ABl/z3+GADBAKkBm/+R/80AOAEr/3UAiAE9AKn+TP89/wf+w/5w/gn/2P/p/f4ALwG9/9j+xP+f/VT+TgBmAEj+Uv81AGH/5QEM/z//NgDF/8f+/P8R/83/6QFgAQECFgGmABwBugCUADoA8QH5/n8AgwAI/1L/t//m/rv+5gEnALUA4//H/mb/UQCs/mj/N/+0/4D/jf9DAOH/b/9bAD//FP9MAH4A7P5hAEz+nP/S/5EBbAFH/rQAgv+C/w8Agf6YAs8Ay/8WAAwAZwAyAVcBnALY/8f/hQB9AAQB/f9c/9kBkQCVAHEAiv/1/wIA2P7GAAEAcgCJ/sX+ywB0/xQA6AHGADj9nACK/zn/4v/5/6z/Y//j/5T/Hv9/Af7+uQCvAO4AyP6r/U3/XP9xAGL9UwERAXQAPwHw/hIA2f5e/noAsf58/9b/WQBA/wUBygAAAPb/PQGmAGgBKQBdAQMAzv7dAFUAqgCxAVn/AwHm/2D+xAGIAEMBKgFaAK3+WQD//hIABQGf/j3/t/8//4wA4v8AAAQBRQAj/a3/HP69AJEA5v7w/tL/BgAFAY7+lf7RABUAev9E/YgArwBm/icAfQD+//T/LwEzADT/vAAyAEcATf7S/3ABr/8I/iQAEf+KAX3/KAH//4MAIP0K/2AAhQIPAWf+aQDl/3kAwwDD/5/+OP+2AKoAff/u/5L/i//T/0sByf2U/04ARgAiAC3+T/8u/nr/DABW/6/++gAcAIsAxf/wAIP/LgCd/2sA2AHf/7sAUwGHAKkA0wA1AEgB4gH4AMoAdwATAHn/KwGtAdX/0v5//94AhP6M/+H+i/8x/Sj9t/5KABv/0/6zAVn9+P6b/pIAMwFS/wcA+ADU/kz+9wDyAFn/b/9e/40B9P4QALf+vv8nAaT/5gFg/i0A5v+X/8z+nwDC/yIBcP+7/67+yP9y/6MANv/j/47/jf4hAEEBZQCg/mUCSwFZ/t4AOQCj/3wA3ACeAcr/HwGY/ggAz/7U/k8Bsv9dAF0BQAFeAHL/cQBMAR8A7QBB/0cAvgA3AbwAKP8LAfb9Ef8R/9EAe/9//+0ARgCJ/7H/2gB9/2v+i/+D/cEAKgEj/+P/c/6A/n4Bt/6lAbcA0gABAPD/SP/mAVP/QgAqABr/gv8FAH0BPgC0AGIAav5+/4//2QDMAFoBdQBGAQAA2QAzABH/YgDr/q7/7gAu/7j+9f4v/gkBoADx/ggANwAH/3//4f8F/6T/C/76/j4AKACwAKn/TQGRADH/WgLO/ysAjv9kAIf/OQAaAOsAlAFO/77+sf6q/y4BRABHAPH+pf8EAVYB3v8q/9gBZ/8CAYwA+wDlAG0CSv9B/if+UAGT/43/EP/sAHz/fP8b/4L//v1f/ij/xQCBAd//AQD1/g8AyP0t/pUAC/4c/hz/TQD+/u//bQA5/9n+kgAjAfP+WgGA/kf/dgA0Aan/JwCUANMAiADwAF8AHwEx/58AUADl/gACm/3k/7r9C/1pAH7+twCJANX/fgD0Amf/DAGuAFwAJQDjACT/pv8PALn+HADX/wYB0f+6/9z/ZQG8/7QB4wDS/lIAn/9gAJoAvf6XAQj/1/7v/3P+8v7s/1b/1f43AG7+PgA4AYkB3/4zAX7+tP5RAQsBLP9y/v//AACjAC4A4v4uAp3+/AChAFUAoAG+/8n/4wGv/5oAFf+wAvQAhP8hA5AA4v+cAIYAdgB9/pAASAHP/0j/F/88AIQAff9/AJH9SQB9/jT/jABEAMP+mf8w/2z/7wCKAVgBtv/G/wQAMP8tAcj+rv9X/+IAsAAqAfL/tP///2EAvf8nAT4ClQDx/4wACgDIAUYBLAFk/8b+J//6Arf/BgJZ/icAif+pAEcAJAB+/y4B6f2cARIBwP4aAY3/Of/YAQgBJf7o/pD/tACPAAD/ev+e/hn/0gCpAhf/Mf+g/l4B7P7t/3b/gf8/AWQAPAFsAMn/Uv62AdT/ZwEuAEb+YQBGAL3/i//LAcn/Zf+zAYUAJf+vADP/ff+aAZMAuAHJAB0AaQDpAE7/DQCMAfcB6/34/SsAeACiAKj+qgAJAWP/jf2wANMARgEk/7b+wQDUAHj/iP9U/5//lP9pAA3+g/6V/wj/0P7//RwBPgGKAMz/vADAABsAfAD0/yUAKQDJ/0P/v/8nAUkB/P+EAIMA4v8uANn/8/3pAMj/pAE+AYsAGwG9AUQA6gDx/xX/CAGs/+z+yf8NAE7/fwBbAVAAAwDZ/zYAkgBxABsA8vxE/+P/Ov/rARYAdAExAWIArAB9Abz/tf2t/6D/v/+2/a0AOQDH/R7/qf9ZAGb/8QATAOQATv/A/xQBvwC2AccBZgB8/7AAI/+WAav/wAAyAIwCOwBu/1QA5/5AAbf/6/5PACkA9/44/nn/OQBDAen/ef/a/mMAPf/i/nv/gf8L/sT/1/6+/0wCLP8u/BgAMQCL/zv/IgDkAMkA+/4aAun/WADnAKf/6ABZ/0EAlADzAKoBdAB7/+//bQGuAdH+zv8BASIAxAC7ABYAtQBWAPgASgEjAf8BGADW/w8AXAHH/vf+Pf93ANX9PgKwAF0B//5JAAz/av9kAOgAjQCv/ub+Xv+V/tgBhQD7/jwBkQCL/+EAOABXALv/0/60/bj/RQAXALr+9f5n/6b+AQHB/s/9MgGIANr/Q/+L/x8CAwGwANIBZv+RAFkBmQC3AfP/yQBx/6cCof5+ArYALAHVAVIADf+9AHUA5f9fAIUAJQDkACb/wQBcAD8A7/4j/+n+OP4nAWn+UP/A/7D+mf9J/2P/rADx/7oA0QBXAa3/Uf4gAHr+JQBfAWMBmf6X/+0Aqf7QAHwBGAJN/wUAvQCp/j3/AAHy/w4C0v+SAQL/RwFbAQoAOv84AGIALf8WAb4A4gBuAIT/uQE+ACv9iv8WAFH/PABH/yn/3gGG/6P/lP6t/vT/3/31/gAAwf+t/68BSv9J/tAAqQBsAVr/owDe/zoACQAWAjgA8P76/v3/ef9NAIz/r/52/3//XQE2AqYC/AC3ATUCTQB/ASUArwJFAtP/JgB4/0wAqf9M/6QBnQDqAMYA5QDR/4oAIgFKAI//NwBLAJP+TADa/yj/uwD1AIj/2v82/vj/qf/f/jz+1f0E/4cB8v/q/d7+qP84AV79OP+X/jIAlQExAGD/OgBgALj+GAFA//MA1P9NAOkBY/+e/9kAj/9E/7ABNwAtAO8CSwBv/1cAwwCv/yQAgQGp/1EAzP4EAXgAt/40//wAG/8WAMcAMv/dAF4AGwGoAJ3/FAAC/wsBtv8IAHYAg/4u/6H9Qv5eAJ//Mf9h/9H+AgBlAQACL/+8APX/QgEWADUA/P7AABX/gP8w/5cC5wGjAZYAYgAKASUBmv9fAYr+eADY/+j+fADTAQYC1f+C/9cAlf9n/84Aj//+/2wA9/7O/un+qf4bAbP/kP9t/gcAoADu/2H/3v05/g4AWf/h/7sA5P8lAM//s/4tAAkBjACHAND/iwAF/4UACgBT/s3/n/9p/6UBZv4fAsn+0wE4AIb+PQHaAIkBSQCmACn/Cv4HAAAABP/1/xEBKAAqABABlP/v/rUALgD9AGsAYwGwAHoBh/0YAan+Gv81ASAAZf9E/zABW/8BAPz+MABr/yT/DAH3ACb+xv4PAAL+0QCr/1QAtP+m/+/+mP3N/7f+kf4VAIn/zv59/4D/eQDMAGgAcAF6/+r/p//u//L+CwEE/k8B8v+v/q0Au/6cALEAEwCmAL8BDABcAe7+mQBSAlz/FgAYAaX/cAFeAAL/5QAV/73+JACKAID/fP/G/o8AAf/j/g7+WP87/x0Ce//w/bv/9/9pAq/+AP/U/bf/YwFNAub+b//9/wUAYv8n/z7/bP8PAhMA9QDSAET+agCy/+b/jQDS/50BwP8UAfv9l/7TADYBLf8qAIkBiQAEAB//XQAbAGcA1/90AbD/mP8DALL/qv+I/wIAKQA//iQA3gHh/6f/JP9F/SD/TAEu/7X/AP/AAN7/vv8YAZkAOP/f/vf+A/+TAJAB0wE7/+n/HP+4/WT/rwE2AL//EwF+AIr/QACx/7b/5v+8ACT+o/7wAFr/gv/m/lkB7f85AF4BMP6yAIMAif7OAQEB3QANAdX/e/9UAAP/TP/jAFkCEgGbAIf+ov/e/sr/+gD0AHsA9QAM/jAAGv+7/1H/1//o/pn+O/+E/4r/XwA4AGkAdv4h/60AFf8A/t3/XP9+/7b+zgCj/0gBmgCEAED/GQEJ/xYAf/72/9sBpQCbALX+uABqAjAAX/9+/v0AiAEs/57+jAE0/xT/4v8g/3UBDv97AK0ASP/TAeb/WgAbAOr+Jf8a/1r+/wHT/xn/LwCN/8z/HgAs/1UAHgEDAJn/RwBJAHP/QwDsAcEATwGCAOb/3P98AcX/iwGtAowAsAJr/48BhAF+AngA4QGB/2UBHQEKAFr/zv9jAewAEf/cAN//IP8OAW7+G/+4/V//Nv70/cH+owBMAOD/mf9qAdH+8v8R/13+5P7F/0YAFAAT/xL/3wBAAMX/W//W/gcB3AAa/4AADP98/+AASQCnAMn+Rf4QAAoAMAGl/3X+MACM/oICPf9mANgB+gB4AIQAnABx/3EA9/82/qQBhAHa/zH/AQAUAUUAvgAaAOYA8AHzAKf+Dv+Z/1X/tQI+/9f+kAAaAaj+JADfAG4Ao/1c/6//vP/iAFgAU/8QAIj/bQBa/vv/Cv+PAGMAeP8PAOP/AgFiAWYAZAKRAJkC/QDxASsA1gGkADQAnf0V/2L+dgEO/+QAMwApAfkA3/+HAL3/i/9dAYj/KP/HANX/NADhAOP+mQCp/b7/0f7L/xoBFQDG/i4CTf/qAJD+2f+x/u7/IwAi/mgBBAAaAQQBlf7k/w0CVQBhAXH+2v46//X/K/8ZAOr/6//l/vT/NQBBAJ/+KwCVAUYBaABn/z8ASAOb/0wBrf7pAAf/AQI6AEcAjP4MAbMBGwGcAKL/CwBv/83/kgCf/9f+WwCl/+X90/+8/3P+j/1//l3/Vf7u/h0A3AGZ/7YAuP5E/kAAAQFf/ywACgFq/qkAbQFxAHoByv7N/kgABgEo/1AATf+0/3IBSAD1//T/Yv5QARIAs//OAaAAfgDc/a0AlwD7/w4At/9CANL+dwFyAZAA8P1Y/4D/9/63APABU/+J/8j/yf4eACQAf/8m/0cAjABJ/5z+FAA5/zb9SQDK//oAbv/MAL3/kQGy/Q0B0/8x/zAAo/+e/78B8gBCAVwA+ADx/9f/TwCa/+L/4//k/0oAgwDW/oj/ygCL/tUAA/4KAPwBBwIM/ycAbAGCAP3/RP7oALP/2gClAEwA4/0B/40AQgDq/An/jf60/7f/5P9hAL/+5/5g/yX/C/9SAvMAZwCU/bn/ff9P/vkAyP1R/xoCEgBr/9kAMgCHALv/nQFWAXz/BwD9AIYAkv4vAOb/af/JABYB1P8OAkP/KgD1ALT/AwG/AJEBGQDZ/gv/Ev2iAAgBif12/rUAOf/x/1f+RP9UAFMBxwAFAHb+y/9SAEX/agCW/lsBMgEjADL/yAC3/4gAiP/dAbb/dQHA/hgAewBEAFn+FACx/8P/GwAdAKj/d/9C/9j+IAKN/UwBSP+n/kP/8v/f/4YAYgA7/ywA1/8NAIH+i/7n/2cBEv/F/9AA/v/BAfP+ygE7AHb/9gD9/hoBwgGD/2cAqQAV/ycA+gAa/9AAlQGU/l7/RQA3ADwA6f9wAGMAGAH7AH///f+7/M3/8P68AI0Be//NAEj/if6qAG0AYABXABcAOgAb/xkA+P8o/rT+tQCFAXcA///H/9P/mADaAOcAewAi//f9t/8NAQwBIwCo/zn/FAAS/yj/9wDP/nz+0//o/7z/hv8pAI3/AADx/nUBa/3B/p/+bf5mAL//JgA+ALv+UgFGAEoABgKcAff9uP8xADEAnAC5/nv/twHH/1AABgDt/ngBqwD//o0D8v7y/XIAOAHFAM7+FAFWAOYAbgCu/n3/GQEM/z//+P3HAOH+EQDH/hsBxP0lABUAEv8eAUsAxf9SADkA5v4bAM/+9f7f/3wB2/9K/xQAlf+VAAL/JQD8/nAALQKnACgBcf+q/0sA3QH5/rIB8gDMAJz/D/+B/7j+wADQAeL/MwF6/6gA7P/2/3b+gADj/17/RAA0/skAif8KAab/nADKAJv+wAC+//r/e//p/j8A5QAa//7+NQBeAOkAH/+/AH3/Qv82/0oAAv+bABUAEgElAcD+XP7q/hEBrwADAPr+jABH/+//qAEOAJoA5f9L/wr/NwBmAJEA/v+1//b+5P/H/Sv/GwAs/lABGQC5ANP+fQC6/0//CQCWAIn/KwCAAJ//GQAyAbf/eP4UAHgC/v1FANn/7/5VACUAUf7V/xMAwQAMABv/Bv6K/nD+W/8VADv++P+oAeP+VAF5/vX/+P+T/vL/8/1PACwCxQBvAQ//EAD1/44AIv+n/y//8wBH/zgBEwGKAREBEwLD/17/HgG4/2L+tf4m/94ANQFV/6oBEQHp/uYA8QAXA2wAPwD7/gYBNv66/3sBEv8b/0QBjv+V/8wA6QDd/gcBG/5n/3b/xP8kAA4BkwB9/0MBLf8i//L/3/86AIn/8QAiAOUBjABU/pAAyADe/1z9WP6xAIwAOACAAKAB5AArAIb/P/1lAOv/XQDVAnABPQARAPH+e//5AJH/gv+9AW4ASwDOADQBTf9BALP+hgAPAU8A2gAS/2z/UwA0/0MA1f9J/zgAOgBcACEBFADHAKcALf8eAJMAS/4PAZv/y//0AasAUP92AWD/KQDgATgB9f/p/6r9CAAE/3T/wwCzACwAOAHu/9QAzv7cAS//Tv+4AU3/mwCBAVQAGf9tAGYA/v8A/v/+bwH5/ur+uACmAKr/XAD7/4z/ogH3/WD+6P+z/QMBJv+5/pz+5/8A/y0BBgHB/zcA8/4IAXf/pv9G/9gAjQBj/3YByQCoAav/uAHu/lkAPv9dAKn/FQA5ARUB+gD3/ngAOAEqAKEAlwMRAl4At/9H/64AzwExANYB2f8//xEAiwDL/q7/Kv+6AB//ov9UAEv/KQF7AcQAO/80AJf+tP+E/nv+BQBoAJAArwDqAcwAggGXAaH/LAA1AMD/9f/nAN7+wf8TAKkAHwArATX+LgA3/woBY//N/7j+sf/NACAAggDt/2oBbQGj/9//dv8zALwAMQDs/zT/Yvxp/+/+SwBiAHsAmP7q/W3/EQAdAGT/yQHkAJr/jv58/3kA2gCB/0f+fwA2/+f9NAExAGT/Af+2/jz+RQA+AOf/tf7E/9H+vf9RAKv/rAAYAfL/SQAdAgoBiAC1ANIAUgBxABoBHwJV/+wA9QA1AMYAmAAbAccB6gAZAUsAEf8VAKUAL/87/xD/PwBSAosAGAEXAPUA//5HAPT/ef88ABYA/v/E/hH++P4I/0wAzP9J/3EAxP3N/8n/yv/F/uX/Ef8g/s792/7TAEMBZv9UAMT9mf64AfsAwgGQAbf+zv61AaoCgAD4/00ACALP/yIA+wDKAAAAFAGWADQCBQDH/50A1QAUAIoAsAEAAJYARABtAXH/4f4SAH//eADT/ysA5P+EABYA5P7b/3L+1QDfAPEAWADIAD0CdQFbAHj/wwBs/9oAhwCoAC//QgEmABIAf/81A0f+IwCj/33/xf6bAHMBH/9l/wwCXABeAKoAHgCb/ykCPP8U/1H/X/7U/rAAzP9hAcUAHADY/5T/hv8aAM4A+f7Z//0AGgDw/eYADgFy/2AB1//y/5//kQC8/r7/uP+AAE7+QQFv/78AS/55AD0CyP52/iIAkv6TAKj/sgDC/hf/AQDZ/uf/QQAW/5EAhwBT/9IAgAAk/8cALgLCAnQAMv8EAQkBHQATAWr/mgCk/0ECt/2p/ywC0/5c/8IBzADLAf0AJv8pAvn/PP40AFoA5P+yAIcAVAA7/0oCn/88/37/T/9T/8f+6wDx/zkAsf/9AGkCL/+K/1QAXQAx/64A6AD6AGf/qgAHAL7+Nv5mAFkAQf/y/mX+xwDb/zb/QgB7AJ4AOv/n/1MAMQJM/0f/h/81ACkBwf9PARUBmP+yAK4AKQE+/7v+WQCBAQP/F/8lAFH/SP9r/7n/zAAmAVv/yP/Z/x3/zP9CAJEBvQB4AGr/nAGwAVoB1wAq/zYAKf7HABgBdQEbAHf/Rv2hAEf/5f58/+T/XwCDAYQAAAHJAFICJgBQAJwAfQCO/+3+sgCLAZkArQB7AbsAtgHW/k4BjQBvAf3/Ov4j/xP+OgDD/x4AKwEs/2UCa/9q/14AGQDZ/8cAwABE/4D/iP9kARL/nAB4/t39LgB8/sf/OACe/7AASQGn/9oB2f/BAKb/gP6J/r4B8AFnABkCIAGwAEsCCv8d/6f/AgIh/7P/4v7s/8L//v5vAGn+iQCW/34A9gDt/+wAcf9o/yD/HgJ2/yb+9f6jACoAev1w/yABWf9w/57/A//4AEn+lP64/WcAWgBr/5cAxP8F/4//rv/J/W7+9f9g/9YA6P45/+X/E/+EAcb/GQGbAAD/zQHVAJ0Atv0ZAHMBqgAfAB4Cmf79/0sBsAHpABT/xwBL/qf/WP8lANL/1wArAYP+0f51/t/+zQDl/ooALAEPAFQAq/6r/wL+8v4F/wz/uP/2/mYBeP6Z//AAmQCF/53+ZP/g/wf/If8bAOcAZQAuAIn+WQHq/wr/QwHz/18A7P9E/6oARABBAPUAdf9tAZ/9iQEf/5H/agBS/ocAj/2G/dT/Bv9K/5QAHwAWAfMB0wGSAFIAygCdALb/6/8YASf/GQBDAGUAcwCB/t4ALgGO//cBF/8r/4n+KwHGAIH/Of/a/4n96QEwAEP/9gBrASIBMgD9AKwAewCl/5X/TQJQADIBDAFTAOP/pwK5/m/8CwCMACj/NAFrAewAYQKq/wUAywC6AJwAsQCMAe7/JAOGAUQAuP7Y/n//5QBLAXMASf8iANr+rgDeAMr+nwFo/8wA5v60/uX+BP9V/hQApv9e/7T+aP8q/8/+WP4d/5sA7ACbAIABO/7L/4P9UAC5/3b/JgJgAeT+eP4SAjMA7/+b/wAA2P/sAMn+jAA2ADj/hv+u///+ywFV/oD/TgBMATT/vP9XAIYATf8zAib/YgHL/+T/q/8nA8T+m/7d/en+yf+m/y3+rv77/4D/jABXAOcABwKX/7UATgDdAbgAMQCP/3wDU/8vAdD/hv9JABYAOgC5/+4AngDS/0H/OwECAJ//kwB6AQf/ZQDGADQBfwEY/5wBlv8a/vf/SP+bABAAdACRAPMCof9c/yQAm/+r/zb/HgCz/tT+g/6OAG//+wAY/2P+Ff9t/uv/2P5t/yT++P8DACz+Ev8cAH3+fv3b/4j/wf88AKP/of+RAC0ADf9e/yoBNwHOAK0AJgGdASkA7P94/4UAMwLXAJMCrAGT/ksCgQDJ/6EAAAAJ/osBev+OAAoBEv8c/5j/Xf1j/07+///G/38ATv4l/oP/CwBtAZwA+/4Y/13/sv3S/5P++f9t/97+ggLa/1AAH/16AMT/wwCo/cAAlP8QACb+sf8BAPEBs/5B/3MAqwBy/qT+VAB4AYkAlQAf/3/+UQBWADIAwv8BAPsAawAxAWj/qf9MAP790f7R/zX+t/66AIn/Qv+dAGoApAH9AIQAnv/u//7+Cv/6/ScACQEs/xz/6QEj/3z/qABh//T/v/2+ANQAFwBG/jICH/93AIYA0P/qAOwB8v/5/gQBMgC5AHL/dwH3AHkAm/9K/1j/dv+t/qgACgCbAV4AnQBN/0L/NAAr/3z/8AAwAFT/Wv8dAKT/9wK0AOIClP/V//z+Ff+IAET+pQD9/lQA5P8SAEUAcgCl//v++gF2/g//6wAWALQAjP/r/lIAhQAh/97+7f/4/w3/I/+y/gAATf/o/dz+r//XAUcBUAHF/kUCc/8VAbT/SQHp/xABggIwAU4AiACtAMQAXf/q/2cBEAFN/nL+NP9WAUIBDQAhAlX+FwIlAVwAowE4/6r/uf50/n//rP/JAVcASgHw/mQA9f/AADUADv91AKf/cQCy/wsBOQBuAJv/PwI//53/BAF5/3kAD//IALwAw/9F/34AY/+6ANsB1QH9/lH/G/8+AxgADf5i/1X/6/9MAa8AjP5SAID+SwC8/yIAEQFXAJj/ov8x/zf91v4Y/x7+VQDc/s7/TgBo/lsA/wAKA/b/QP5D/pL/Gf8rARQAkwCoAIABEv+0/hYA6gCP/0wAbv4g/8QAtv5vACAB1P/X/4j+Rv7DAOsBqf9yA2YAswDgApcB9f8rAtMA/f2X//0Ar/+M/67/Hf9iAZQARf8nABUATv9EAP7/y/4x/5z93gGMAIT8GwAB/2n/9v7n/gIA9v3LAEMAl////jkADwCzAAAAmf1iAeEB+P8r/wX/Jf8GAG7/pf9RAAMAEwItAYH/nP/6ANQA+AF2AVgAjgAqACsAEABgAIsAHgGI/uMBWwDxAD7/HwAPAWz/xgDK/0AAigAnAf///P+F/07/lwBQ/pP+TwEK/9X+xQDM/jr/yf6a/4AAcf/a/uj+OwBu/9EAIgDI/lP/W//a/lb/+P9MAcD+BP/+/wz+4v5P/mj+3QFxAdYB1P8YAD8ATQCT/2H/CgFf/pr+HwD3AcQAVwDBAA8AkgCH//UA5wA8AdX/1f/S/3IAYQBnAFj+Pf+j/34Cwf+e/REAWv0LAdMA6P9c/sAAlQD2ABYBuf9R/0kA4gB4AIb/6f+5/gwA1P4J/mEA4wCu/uv/1//nAOIAiQDdAPcBJwBa//r/4QD//nECYP+SALsBPgHC/2v/BQHP/yMAKgG4AZMA5v+M/sEB9AFwADb/TgCjAav/5AG8/z7/pgKb/sj/vf/I/14AJ/6IAMb//P5V/7//ogE8/2f/0v8WAJP+WP5t/mf+xv/8/2L/2f6XAGD/3wDe/Q4CT//I/7IALf+w/soAnv9nALkAJQCr/zv/vP6l/2sAgAANAZ7+9wDAAfIAMACHAaYBeP89AJcAu//N/1QACAB8/vQAOf6d/+3+yP83/rX+uv8GACQAs/+k/SX/Vv9u/5r/1P9iAEH/rQCa/n3/XwCPALkAMP82Adf/AABqAM8AVQBuAI0AEAA4AD4B6P+5AG0AWv8bAAEClwFT/2n/G/53AKwAvgDn/+n+DQHMAE//FwFCAFH/3/8vAJD+3f9z/qf/BACrARUAkf/9AFX/IQAy/8f/BwBV/wMA+ADv/r4A5P9J/moA1/+PAGX/KgBT/9oBzf8V/tUB1v5a/wQB0v9kAe//wf84/gwARf8lAEQAcf+0/wYBIf8WACEAiP9YAWQBiP+3/zz/yP6wAIAAkAEdAlr/jQBsAGsANQECANAA9/9x/0n/+P9fAI7/CQBS/3//yf41AGX+5P/R/3P+wQB6/+z9p/6N/2wBMwGq/joBtvwf/ZL/m//U/iMAy/9S/of/UwB/AK3+tf+NAKH/XgBo/tX+5QACAPP/OQEgAPwA2v78AUABIwArASX/SgDcAbT/ZQDp/9IAAANUAFz/wgDvAE4AL/+8/4n/tP7F/gYBXf8mALwABwCX//T/kAC9AR8Brv+s/5MBw////+P/k/7t/ygA6v82AGz+ev+//9r/aP+z//r/xwCxAd4AHwBfAAz/sP9nANwBnQBlACoBWv5D/+kB1v+b/ywBZQD3/wEACwAoAIf/QAC3/5n/kP/ZAGn+5/6JAHb/0v8Y/kb+qP8o/3H/owBh/2ABJv/0AC0BlACN/4z/nv5JAYL/zv5A//f+UQEqAYT/FP7x/hUBlP8/AB8CHwHUAS3/uwAnAV8A/f69/wkAxwHL/zsBogBo/hkBYwEuAsf+4P7NAKQADwHv/s0Aov3d/18AvgDE/xsAtP65AO/9L/9b/Y393ACO/6sAUP1tAb8As/3G/5j/Ev7xAPn/+v/MALH/Af/1/aYBuf83AGD/AwAzAdAALAFQ/6D/4v9U/wwAoQBv/w0AMQBrAXL/uP4cABQB3v5KAYUBlQDL/lMBOgAfAdYATQCk/pb+xf+QAWABlf58AEgAQ/9NAJYAbv98AN4CEADJ/Z7+Yv6V/qT+oP/wAPL+HP+p/t//3//b/fz+bgBpAZ0AVQAG/zn/K//t/h4AaAEiA1oAfgGkABoAIQAD/wr/BgHh/ykBDABzAeAAIgKxAKkBfgEgATUBwAEwACoB5f+GAaL+cwHK/sf+1P/N/50ASf+oAMX/uP8I/z//sP4w/zz+2v9R/hgAZ/+E/8T+zABa/+n/af/7/Yb9j/4Y/wb+NQBeAKf+NgAS/mz//v+d/2z/EgFE/toAIgNcARUAEAERAC8AGwEb/6gAJwPZAfMAZv9wAPoAA/++AGQAsABoAA//qf9BA+D+8v7o/g7/k/+WAFH/x/6MANEAbQB9ANoCo/7xANj/lf/w/rEAmP/c/4X/HwAc/0UBZAEMAAQCjQCdAToB7/+T/8IArwAEAZL/PgCi/8H+rAAMAFUCQwBfAY0AkACkAPj/rf8vAIj/hP51/tD+0/+k//7+KwAN/uX/0AHTAOgAC/7zAAL/5P8xALEC9wA//1EB5v/f/1QCsf/Z/84AF/+HAe3/7P67/0cAYv76AP//VP+k/+j/jf81/W8Aq/4V/5f/nP5b/3z/Lv7AAID/1f3HAOP/o/74/uD+2//pAPj//f/k/1P/KwKHALcAmgDB/7ACKwHKAWj/tv/ZAZL/R/9UAfX/UP9DAHr/LgHT/z8AtgCf/w0B2f70AFMAsv/y/xb/4/4J/yMBvf45/3z/M/+0/8r/1/7A/mf+F/7CAHD+6P7Z/2UBIAAsASQA8f9tACoB4/1BAXj/uf8zAfoBUwCzAZr+HwD7/m//NABpAAcAiQCUADwA//7zAP7/jwA+/4H9RP/kAA8BDAG8/2v/1//f/3n/6AGW/ycArwFpAJz+sAFeAXAArAAY//P/QwFRAPT+SgCC/xD/9P/i/9b+xQBs/1EAsP6V/wwAGAE6/6P/v/9e/1oBbf6q/4z/jv47ASL++P7//sUAQv8mAE//oP6j/vH+f//+/nEA6gDd/toAlv38/jcA1ACh/VAA7QEQ/3gAn/1IAMT+g/9QARH/x/7n/mr+YgFqAqMAV//4/wYAdgCw/n8Baf+DAMQAPP9YAEACSv+r//f+c/+PAYwA+/8k/of/LgF4/TQAnP5sALEBKf4SADoBqgC6/zEAEAEKAEz/3ADSAA0BWQGa/wIAzQAiAKYBCgExABAApQAnAoz/IAD3ASgAV/9ZAFP/tP+qAAgB0v8bAHgA2/+VAFX/Sv9jAAsADADIAOQARQCD/1L+KgFIAHEAfP8fAGEBh/91/kMAf/4OALcApAH1/sL9OwDoABP/Z/4yAaMAz/+QAe3/dv/+/vIAm/8+AbUAov/+ABwAu/4o/00AaAB9Aa8AC/9y/1QAmQFRAX4CeALXAcP/5/9kANn+SP+3AREA/f72/kYAO/6D/9z/6/90AG8BpgBl////pv5UALX/aP7a/i7/mACAAA4AU/9RAIb+xACQAUsByAAQAEsBqQF6AvD/tP59/ukA1/1n/8z9pf9C/+P/EgBLADkBVP+K/RUAPQCdANj+DwHaAXv/0AED/94A+gCX//H9sf5WAGMABP6N/0n/5P0YAWYAgv6T/dYADQFM/8wAogGfALj/kgB4ATYCMAFW/jf/rQCU/7QAmv+iARMBDwEK/1kA4ADl/s7+4/7C/rsAPP69/qL/m/80AaD+nv7l/3z+mP82AA8B2//RAAoATQGY/igAAgAAAdUAZAJbALz/gv5QAV//7fzs/8r/fAEN/nr/CwDt/jAApv93/lP/ogCA/y7+5v5lAFT+sP5fACf/qP/nAFv9wgHa/bQBJQCF/2cAwAA8APsA3ABFAgMAhwDZAND/ggC6ALEApgFZAHsEgADVAPQB6//EAl0A+/4X/xIAJQBC/i//0P5dAWD/Ef+b/8UAY/+1/oH/U//m/0YAVf9V/ZX+SAG4/+j+z/9AAKD/Df6hAk3+DP/DAfL/DAEO/6QAzAEa/lYAMQGnAcT/3f2A/sz/0gDR/8X/qv+t/zn/Xv///6AAJQAHAf/+Kv6GAHr/dP4o/pX/b//WABUACP9GANAA+/82AIz+SQG/ANcA8wALA00CkwP2/yIBRQKi/1/+TAKUAEkB8f9tAEwA+ACuAAMCegAc/jEAhP5DAaH+6f5t/3ABBgD//hH/av7g/x8B7v2g/jn/DwBuAVD/1AHuAtQAKP9V/y8Aj//7/50A2QCE/zoBmQPLAGj/oAGPAOn/DwD0/oUCawBKAbT/8f6x/7P9Mv8n/jAAz/90/l0AZQBa/nv+qv3EAPz90v6LAdz/zv+P/wEAFAA1/zwAv/1OABwB+/4DAOn+xQAYAYMAkgATART/6//GAD//hAD1/rD/vf+sAHsAsv8+/g0AEwDo/3H/VQFiAMT/0ADMADwA2wC9AJoAsAC1ATwBpP6b/tEAVQBkAIX/mQBj/2z+iQC+ADIBFgAOAK8At//W/8UA8wAP/3IAigDw/Q8BTQD3/wP/ogA1/wcAvv8k/uQA9P9l/4f/lP6V/08Apf97AIwBZP0+/yICBQGMAFIAe/9OAVwBkP9AAQcAFwE5APP+EwHVAIL/rgGfAEb/2/7B/iwA/f9xANb+HAEeAV0B8P4yAKcA5/0e/dYAq/8qAOv+jf6c/vv+cv/mAM8AmP9vAPv/3/62/nL+AwAjAWz+hv96/+T/PgDhAQMAbwHu/54AWQF8AMv+YQDKAAQAogDjARv/TP+5AdEA6gBVAJr/yQFBAJP/+gCm/9QA9/6TAAYALv/G/VcAagDn/rD+nf70/v/+iAB3/hL+ZgBv/v79ZP+i/o7/MP+z/3n/1gGcAE7/HgDOAN7/CQKy/7T+ZQBcA5f/KwCQAMX/O/8RAfv+IQCs/xgAK/+4/QACHQGSAQABA/9mABkAMv+uAbX+8P/PAIj/ywEAAK//0/9lASIBMgHkAMz+ggAGAKr/Xv8JARgAy/8eAD3/KADf/6f/EAHx/qf/qP+lABsAi/9MAGQAIP/M//D/dgDa/uUA1P6CABQABQLGAKf++f/b/uH+fv3b/WACpgA6/5H/7P59/ir/Tf51AdMALgBn/4P/IQEYAsABjf9nAX/+2P/cAHoBXwAgAOj/0/8sALUADgBaAKMAhv/o/43+p/1j/+f+n/9GAP/+bAAv/p8AXv71/7L9DwD8/0j/kgB8/un/gP+c/rD+n/9gAIr+dQHJ/80ANgCHAAgAcP/I/3oB+gETAd//yv9CAVgBjv9F/1sChwDm/+0BTQF1AJj/2/8wAAYBmP5oAJz9jADS/vf/3wDV/oz+fv4UAOn9+//h/kX/AgDQ/oH9XwEq//f+5f7bAbkAMwBqAKAAhf6kAeIBoQAgAB/+pP9IA/EABgLL/6kALgE9AiH/RQCN/6D+2AD/AE0B6P+iAB4AAAD8/2f/KAG8/zf9MwLB/oIARgAt/wL/Cf/9Aa3/4ABeAFT/0P41ADQBXwBHAXsA4/4EAHH/rP75/7cACf/G//cAbAGF/1UACwLY/REA6v9nANf+YgB+/6/+UP6p/scAO/9HAJD+kf7K/of/8P8M/zf/8v4z/x7/mv/P/xgBLgDG/jkBygDXAOYAiv8DAgwBzQAmAi7+6ADOAE8BtP8O/3IA7f80ASoC/v9SACgBwwBlAND/JQAO/0UAoALE/oj+hv5GAFL/ef9o/3UBXQB9/e3+gQCYAeAAhP7M/pMA8P/gACn+AAFX/gACPwDiAFz/2QCjAgL/5P+VAE4AcgCxAO0Ag/8SAKIAUv/F/9oAAf9JAJ7/3P07AVQAv/58/z7/jv95/zn/9/6G/3cA1v5m/QIANQF7/8r+Cv+W/7j+iAD8/qgA+P+u/j4Adf7g/ZcAwP+uAb4ANQOBAQABZQKUAdcBtf+HAdP/xP6RAVABv/3sAK0AIf/o/17/awFsAK0BDQFX//UAdwFYAJ4Asv/8/jwCfQC3AEACvf3h/zP/sgBX/5oApv5P/wMCVf8yASYBtgD6AED/vgE7/tv+hQBEAHT/7P9cAOz/9v75AAEB4/2C/4f9SQDX/Nn/IAEWAKr/ef/e/jEAmv6Z/0T/UAARAMH/AAL7/2oBQgAkAbcAiP7IAJr91v5x/5/+l/0CAfj/Yv9KAPgBEgCm/mAACwECAUABAv7t/z8ACQENAekATQH3/2r+nv1K/ycAzf4y/2//Gf/Q/4b9jf/PAA3+zf5JAHX/dAD0/nH/rgELAcAAWP4d//H/a/8X/6EA6/+T/kkALABNAFgBdADjAcf/x//OAJECe/9lAKoCkQHv/xIBd/+DAN3/uwAjAH4ApP7D/osB5v5k/0wB/v+eAMH/WABzAHkAiAEBAcj//P5FACwAnv/6/73/jP+i/iQBMACxAOj95wDS/WUAFQHE/mn/Ov8H/xv/Pv8A/7X/X//AAVsAYf/6AJ//igGAAFQAzP8kAD8AHADn/jkAngCT/9H+9v+zAQYADQIpAGr/DgApASL+Lv9wAJQAYv/vAMr/ff+FAO//6P+rAn7/7v4TAn8APf+P/9QBSv8P/zf/DwF4/e4A+v5XANT/FgDd////cADW/vj/sP51/08Bs/4U/fn/lACg/fn+q/9+ABIACQFC/3L/1P9oARgBzv7F/1YAsgBeAFACUwD0Aev/wP++/08AZ/9PAcYB/ACXAIYA7f7n/5cA1AEWAD0BhP9ZAXb+SAJ6/TH/fP6F/1D//P3h/sYBm/+V/vf/df3xAJn/KQBBANn/9wAf/43+XwHl/rH/Jf+SAMv8ev9ZAAv/g/53AGz/Pf99ANoAoP/YAEn/Hf94/6cByQA6/VoAEwEbAMsA3P5xAaEAU/5JAUAAJQCuAAL/fAC/AGEAlQCNAGkABgDYAOwAe/8V/0r+IgHQ/S7+gf9rAfH/JgDe/k0Bvf/q/ub+ggH3/20AZP+S/6oAxwGm/6b/Gf7j/8T/6P2q/9v+8QDe/wAARQD6/8AAGQAh/vgAE/6e/9z/K/6r/joCav9aAOr/DABPADcBSwDDAIAB3QHOAX//EQL8/h3/3f+w/e8Abf8NAVsAnwGdACH/TgASAOr/rv48/+7/TQCBAHD+bgAg/3z+af/z/2b/sACp/3YALf9//9H+kf6f/tL+bQE2/zX+6f8I/UH/SQAaAOn/6gCLAEUCxv9JAL3/owCj/53/pgC2/1cAYwHy/vr/M/+g/5wAcgIIAokAuwD3/jgCyf45/ggAggCnAXn/a//uAegARgBT/0IBvv2TAeT/o/8Z/3P/BgGpAE7/pQDb/lX/Fv6G/30B2v4pARsCpP8OAZsAngCKAWkCu/70AN3+3/6Y/9f/bQEsAOv+Vf8CANMAc/6Y/+r/fv5Y/7b+2f2B/28AZf3L//f+7f+8/p3/5AB/AZ4AWQCy/aH+YwFu/xEAMAHl/5//FwC0AnYAaAKm/xD/UQCw/2r+eQEf/00ANgF6AAMAiv7j//UADAGE/+j+hP8SAF0BhgBTAWIBwgBV/hj/Ff9eAPj/egCo/xwAigFtAG7/d/4JAFX/wf44AWL+iwHD/xAA6ABz/ogBzQFOAakAhAAu/1H/sv7wAbgAGP9RAIUAmABBAUL/CgKL/owB3v+5/QQAWv98/wf/nv74Abv/CQId//QAp/8fAGAA2v6TANMBaf8dAEgArwFwADj/CgCP/7kB2wBoAN4Bkf81Anz/DwI//rIAH//M/qD+h/8m/xAAWAAWALj/5/9CAi4AKv/O/Xn/r/8F/4b+qf4g/pv+jwD1/X/+YP/z/4//SP53/6f+VP7F/xoAWv4s/wj/pgDPAHH/CwJWAGMAov4nAEMC+f5JAP7/uAAw/6YBif95/8sAL/8LASIBM/+eAH0C7AJuAsn/Wv+5AML+dgFC/1z/6P9K/1D+mQBoAKH9cQDG/iIAQv7B/wr/FgGE/2UBsP/b/bcAtgA3AaT/Cf9j/5n/N/9X/xP/Kf/vAGMAV/8c/hv/1/5U/1L+jf4DAMz+5/97/7oAGv+U/6b+Wv/2/YoAMwElACgBVQDiAMX9lgDZABYBaf86/84AXwDiAPH/uQHV/zkBlQFBAAMCQP75AHj/7gB+ARcBfP7S/7MC5wFvAln/WP8I/qv/vQBH/5H/2wAN/2n/mf89/nv/ZgC4/mQANgFS/4//6f3q/u0ApgB7AQkA6v41AI7/uv+XAbr/7QD8/z7/gv/r/w8ADgDMAdIBeADz/7YAYQKMARv/hAFEAgkBtwAU/hsAOf9XAiD/SAGnACsB/wAn/SIAQ/6nAIH/NQCY/pH/n/ydAGH9mf9nAcf/O/9WAdn/+v3w/fP/KgDQ/mgAzP+8/ykBsv83/mH/AAD8/3/+Bv+DACUATgBo/mH/5/2r/lYBcQD3/yb/VQCKAOsAXAAaAaMCugEPAC//PQBlAEIBYgA6/tj/ff9KAOv/QP/YARX/0f8SAAsC2QCCAM0Bzf4xARABXAAaAIP9rP6kANYAQgCFANL/Iv/R/+P+CwKl/TEAIv4fAK/+pwG///7/9/1N/fMAaP9p/4X/Mv9XAEf+cQAtAAQA3/8iAA4Avv+PAJEAGAAyAOQA/v///ikBFwChAHgAuP+/Ad//3P+VAVcAkALJAKYBOgCJAQABBwGM/wUAsAD0ACj+Bv1TAA7+CgDP/5sAzgC3/rf+ef0z/y4AV/5L/4L+DQEdAWUAZwD9/t0AgP+OAJ7/M/89AR3/VgAl/k7/q/8X/or/3//EAID/jf/W/sD/LwCVAHL/fv8V/6UAUQAbATb/IQA7AVL/ZADt/+v/UgBIAI4B1QCeAHsAUgE1AQoAbv1TANL+fQClATYAJP8mAdEAmP/Y/1z/l/7e/g8CFwGaAa8Ar/6hAOEANf8jAaH+fv9VABABhACUAPT/8AA+/239lP/4/3v/2v/8/6gAOQFTAl0BswDQ/WQB0/5sAKYA2f5QAWoB3AHB/zMA6AB1Aan/EQCN/9D/RAB+AAEAOwGkAKT+QAD8ANICTwGf//b/iv+X/uX+mQCb/6T+kP40/vkAnQCCAGz+R/7uAGMAsQDk/jEA2QAUAcL/cgIhAQQA0P9AAsQAxQGdAEUC4f6sAMAAiADDAC4Ay/4w/3kAYwDP/wEA9/22/+T/NwI5/uv/FwCn/2H+MgBJ/xEBgP5kALP9Vv5k/9/+mP9v/zH+l/+wABv+ngDRAI4AZwAT/d7/hQL7/jgAQf8vAAsCQAAIAcsAqgBU/7n/YgDMARsAawCK//EBDgDm/64BSgFgALEB9/4sAUQBCv/BAGr/mgDWAPEASQEg/87/nwHU/xEAkP95Af0AfgA5/hYB3/83/7r/z/+XAK0A3P48/5IAIP1h/1gAof0O/00Atv7F/7L/tQAR/y/9BP03/2b/gv8gAHr9d/8DABv/agCDAOH+wwAIAAEBLQJ2AQ8AEQE1AV0BlQJ/AHgC/wC1ANn/iv/9/03+Pf+oAHsBKAIcAKn/u/1gAMP/dgAaAHYAVf8C/0kCsP9AAN3/uABHAFT/pAA1ACr+aP5XATwAe/9rAeH/CwCBAlMAtgFeAVEAFv///xv/+AFSARwAQQB7AVsAnf8o/+b/AP8ZAfMA8QB4APsAsgAOAXIAIABIAXICJf/v/2kBAABaAFL9wv2MAND/FQBo/wL/WP5EAOj/EgGk/2UA1P34Afv/3f+g/hP/4/9W/1wA7/2J/1P/XwC9/j39gf7sABn/7P6Q/qcAyQDf/9P/KALfAJABRAD5AR7/Tf+9AWgAeADw/kQBb/8RAIQAAAD5/nH+mf9qAgcBzQAdAMX/XwDd//H/mwHa/3UA1//rAMACkQBTAJz/iwCf/vn+sf1H/m7/SP5m/zQAhf86/7L9ff/o/7UAZv6s/mX+swDK/8MAvP71/YH/I/+A/+H+kf7N/icAK/98/9n+RgCA/9IAPwAlAGT+AgDkAR0B0gDl/xMAof+tADL/NgCd/5cBBgEr/iwAtwDFAREA2f4qAekAMAIXATQBcAHvAEMA5ACrAez+dv5VAOQAPQG6AH7+hP/5/uwAlP6s/1P/hwBB/lL/q/84/q3/PwJU/90APwAYAHL/7P9LAL7/MwAP/93/qf8ZAVcAswKP/3L/YQD3/QAA0P/r/rP/M/7bAGj/WP/n/R7+r/++AFQARP5//jsARgHjARwArf9V/5D+zgA6AlwA0QD3AdL+r/+cANH+dQB5/fb+LgC4/9oAUv8c/lf/aABPACH+If/L/oD/VgHx/qQAXADpAdQB8QCB/wX/bP/A/5T+lAIsABQAfP/E/2QBN/8T/1cAl/93AesAyAFaAML+ZQJI//sAXf/i/1v/+/5XAXgAIgIO/8sBcACDAscA9QFt/cABHgDo/nr/DAD1/qX+bf8EABcABQAV/cP9zP+LADL+r/+z/5//jQBy/6r/I/+5AbwAr/+VAMz/Lv8dAB0A8v+DAGf9GP+k/nz/qQA1/u0ADwBk/+L+Rf0OAwYAVv++AHAAfAA+AJ3+zP/lAE8AXQAHALIAZf/P/hkAOgBgAekBkf6SAbMA3AAaAZUAnAHi/2EBrP9o/xACWf9c/lT/yv+y/88ANABEAEABGPwD/2j/Nf8d/4MAY/2JAFD9wAB+/wsAPQAC/yAAhf8D/0EBYgEX/yYBCAG//twA4/4YADj/VQBqAF0CLQEtAAQAWv1I/oz/JgHF/1b/awGYACj+Q//U/rIAy/80AGkBZACX/Uv/UgDFAF7/VwC7/sH/hQAE/xsA0v9zALQAOv/fAG4BS/8M/nIBqQC1AC4AQP8n/9j+IAAQAUMA1v9k/1n+FACY/13/+P7VAYwB4f5NAcEBBgD3/T4B//9SAMkAi/8YAYIBMQC+/9n/iv+N/icB7v9OAlQBO/8cAGP/wAGU/1UB+gDBAAAATAAPARMB1ADX/hgAV/3h/yr+BP4u/rv+mf/8/2P/RwBAABoCq/6d/zr+pPzT/7X/Hv7u/4oATf+N/xsBX/72/5AAGv8D/6f/Ov/vAOQAGQDk/2kBp/+T/gcC4QBjACQA0f51AMkAtv8r/loB0f+M/zoA+gCdARr/awCL//ABiP/p/ooBDP8pAa//awEp/sr/cf5YAO8A5P45/0f+sv8a/0QA9v8hAJYBjAANAdb+nQGNAKcB1v+HAMj+3wAvAP3+RwC6//3/cgECAZgAlgAjAt3/2f+cAS8AKgKrAE//FgBLAqX+Fv/6/5T+0f3j/eP/mgBP/47+lf8E/0T+CgAK/wn+BwLk/ub+UAHU/0f/2AD0AVUBjP84/wIAl//3AOL+Yv3x/YH+bf4aANb+Jf5M/+z+cgHOAGT/WAC0/ksA7//o/oP/FwDk/10B9f5ZAT4Cdv/1/ikA0QCzASwAfgCIAW8BRgBB/+f94v/E/iT/qv8A/5wAVAHt/TMCMAEkAMoBsv/hAEUBxwEEACT/IADJ/x7+Rv+8/zz+AwFSADYAtgDRAI//u/5R/qoBAQCP/xkAGQB9ANL+sQAjABcDRwBo/7T+4v/KAHIAwP+G/1cAkf4R/jL/fQGEANYAawGQ/X0BJACl/1D/EQHKABwB/v/9/9z/N/1n/kgAh/5G/50A8P4YALj/EP4t/+H+4f5kAEj/jwFD/4j+9/4rA/f+AgG1AdL/NQGKAMwAeP+yAb4AMv8//54Aq/0ZAd0AKADq/3j/iwFF/1r/Pv94AUn/yP7XAD4BwAABAUQAdQFIAZsAvv8QAQcA5//j/xP+XP6v/yT+GAC8/ywAGAB6AY4AfgAwATAC/gC2/4IAugHPAHj+Uv7E/8j9DP+S/83+mf00/x8C0v4tAUr+nf6I/6X+bgAdAC4A6QDG/qkAvf8jAID/agBLADT/uP/bAZcApAHEAE4BRwQgAIYBDAGs/nQBdwB5ABIAwQBQAKj9NAHeAWr/Ev+t/zwC0gEy/poA2v5AAqn/CQBR/8kA4wA6/0T/kf6j/x8AtP8sANf+V/8/AEn/b//R/xQAYQCa/t3/R/7x/wD/qf+y/rIA5f8g/9/+hABB/zwAcv9u/7kA7wH3AK7+rf4oAVYAxwBXAdn/bv+FAGQALwDMAYoClwNu/z0BkAE1Akb/BP5wAIX+vf3k/scBbf/o/pj9df91/kAA5/6W/3H/fwDG/n8AcP/EABcAzP8kAdj/7gFCAIwC7ADqAKb+rQBe/kj/QgAJAVQBTwGfAh4BJADaAoMAAgM6AVoB1/8IAWEA3AH0AIMAZgI7APoArP/b/ez/zf/5/joA8/+d//H9Qf9n/2P+wf0//5/+r/+Y/hsCI/80AVMB2/8KAB4CzwDqAFEAZwAAACv9XwKRAH39DQGK/1f/R/54APgAVwB9AJ8CwAB6ATABl/9dAKYAiQFr/xz9zvrH/rz91/0n/3QD3AR4CLwKmQiaCPEF7wGwAmH6CvTI8bfwi+3T7DvxA/bm+n4B/ATKCJoORBJnExUPPA0hDlAJMP4l+rv4CvMC7bjw3fVI84X2Vf0bBPwEUgS8CLoMmgiFBHoEFwKt/d34C/t092T3f/e1+27+pv5OApcGdwpLCa0GXgiUBfoBZP8oAED70fbM9eX3qPho+dr+XP+tAnEC4wSpCY4HMwWPA28DAgKA/zz8bvoX+Tz4mvqH+zn6dPtj/xwCFwB6A2oFnARWA+ADwAIfAzsBlwAE/aP+Af+x/Wr//P9YAJL+NwGs/loAhgBZAaj/lgCc/0kBEf4Z/dT/j/78/Tv9KADB/+r+PQGCAkYE7gDeA0MFkgZdBUkDHQKkAT/9AvwF+rH12fUY9jf35/hy+UD+KQSUArwETghQC4MGBgbLByoG9QBa/lD/1f6E+yD4r/02/Tz+vP2IAeUAzf1aApkCEQS2/XH9gP8l/tT5JvwR/pH99PzJ/xsC6ALEAS4C/APdA+ABKwEMBK39wv3N++0AU/3u/nz/6gBnAIT9ZwEdAaUCnwA6AhIDpf8iAN0B1gCR/Qj+df8d/2b+0/1+/zQAW/+1ACD/xgD3/7H/3/56AUr+7P8U/hz/Gv3g/YL9Y/77/l39/P8RAMsASP9dAVEFuwF5AswCBQMWA5sCPQKuAEsA4/9xAoQBtgCVAw4BJQMd/Y37Fv9I9p3zCfa58W3w8/RF+pb9VgHEB1UOwA4IEOESUhN5CcMCm//s/FP3XPEq84z0WvOm9xL7CgAtAgEEZAe+B1ADUAI3ApP8D/z992f6vvtu/c0DYgbvC/AN9w5aEzMPCgq1CCECkfmZ8TXswumI573ltele7u72nvz1BCUNbRC8ElsU9xJoEB4PXQs9AJn+sf18+rn2k/dh/E397vxMBI4FZwQGBLUCxQF4/wb4G/lJ+ub1IfVx+Gv8Bf1YASMFUwgQB2MHbQtlB8cC8QCV/ZX6wvpI+ij89/q/+4j9TQJAA9IC3QWDAxwEdwCN/DD+TvuT+5T74/8//7EBJgNrBYMCAwWkBLcDwgGe/tb9xPrP+J/5a/p0/N3/QAA0AvkGDQkxDFoHywVWBMn/p/rC+c32jfWz87L1Uvhl+xn/6wOABvsIfAh+BnoDfQGK+kb8a/cJ9jz2EfXV+rX8kwA+BZAGlQi7C/cL4gmcA7D/4vv69pL1SPOl8z34vfqF/kMEcghWCt0J1Qt8C2YJewLP/3X8J/wn96P37/d7/DH+NgN2A/oEawihB6oDhwJ7AGj7jvoG+fn5qvhg+4D9v/85AVIEVgRVBsoH2gPV/y7+Zf1w+Wz2HvV795X4MPmP/Kf9bQJnBOMFDAvuCSgLhg2JCmgE6AXYA/n+aP6B/Dz+Zfzf+nT75P5P+2P+kP/Z/nv+l/76/v/9C/yv/kQC4wEGARMDTQbnBHIFfQMxBEoC+PzA/x//efzU94b8q/xs+4z8Sf7HAHgA/wGUAVQAWP6H+1X+6v1i+r342QBuACAAiv72BCcCIAJBAoQEwP3d+gD7pv27+Qv5CPtb/iT+DP9jBMgGvwR4BY0JOweLAjACcwLfAaP7wvvU/9z9L/orAUsBBQHpAE4DBQWDA2z+cv+D/vX6Mvoa+b74MPqJ/NQBTAPzB7MHVwvnB1AKPwioBhwCEvz/9iD0ufEL7K3wVu+a9Ij4fv/FBOYIbwxOE0wSvRIvDdMM+gWl/JD5XfWc8JrwUO7a8BD0C/Z5+AL/iARWCb0OCRFJExoStBOpDYoJ/AOA/v77Y/U38pzt/e627Q/xQPQJ9t/8EwEKAFUG1gaVBfoF8QQbBjIFEQSyBe0FCgdJBooI4gkQCcMCQf4o+xX0oPKT8QnvPO3v8OH0mvnP+1YBogIMBsgHfAcBCq4I/gYCCdgEdAfGCUMJpAmiCPUIhQczA7UDbPxn+Uj02vGA77ruPOus7+Tx0vUO+94BCwjBCjIMVxFkEAEOVxHrDHYIHAXLA6UBzP97/Hj9T/nw91n5tfhp9X70ivNC9R/1lvUj+pL+VAGxBOEG6gqrCkIJYwzGBz8H+QXyAUv+VfsR/Fz6ivqE/GD89f4uAVoCiANmAyEE4v/k/Vj8qv3P/I37ovyc/vMAFAPNAwwHfAhNBr0HLgMxAWf/5/32+dT5Ufmv+N31VvkK/hP8M/3/AI0DWQRyBZYFDQW1A6YCzwJPAgABNQC6AIoAAwAI/qf+n/93/2X7mvrk+YD6yvnd/JL8mvy5AJ0CIQNGB34HhAdGB7kHIwfpBjoECgEPAtv+Q/wZ+1765/uC+xv9k/1m+xz+bP3C/HH8Tf16/I77Cf15/af/2gDY/7UA9QKYA3gCVAMcBssCcANTA0cEDASlAl8CS/8fADn+DP8X/VL6nfnD+Bb8OvnX+Qb6af7T/5AAvwDQAIoDyQCiAsABKAOfA9QDWwPBBTwDrwQtBaEDsgN1AgsABABcAEz/R/5m/Gr6vPqj/aD9ifsF/pj8fvy5/Fz+y/s0/H/+0/03/yH//QCOAfQEpwMRBpcIxQUFBzIHIQgzB4IFCgODAjsBJgEuASgCogD4/0cB1v/BAaEBkv6VABz/UwATAtoAlgJIBgcGWQeaCNsJXwtyCWEIuQU6BK8Azv1l+e335PVd8qPxEvA07+zsRvAv7lzwHu1L7VntWu117nru/vEH8MjzYPeE+n7+mAA5AeMERwdWC/ULpw2FEDINJA6TCNAGYgRGAvn9Ofla97byavBm8uTvKPEe8tTzyvvv/LoBLgnpDU8S7hVMGX8d3R4sH5YhQyAiHssefR57HC4ZVxbcE0UPOQswBx8Ct/97++H3qfRp857wc+8Q8erwGPE+8bvwgvLu9c/2hfis+EX36fgU+QL8IPus+xH97PpL/OH7QPyq/DH9Mv9u/D39gfxZ/4T9ff/i/l/8Mvvl+3H8zfoc/CP7kfxr+in8dv1T/lL/BQFY/bH+xf4GAO/9Ovy+/Cf9zvqU+3j6Wv25/eP/dAOAAqABCgTmAQoEngQzBGoBlwM/A0UBpAGcAdgAif7b/m3/y/3U/ub+LP+8/8cBWv8b/yYBxAEKACcBr/3v/I760flz+az2c/jZ+Xf6P/0aAMYDiwTqBsAJFgwYDNIM1AymC58NqAleB6cJ2gbiB90KXws8D14PkRLTFXEW9hinFg0XlxO6DZYGywCD+4L2CPEI8HDuy+wC7s3vW/I19kb42vlp+q789voZ+jr2KPWy8kTwZ+917n/tuu2d7ovt6+808tL1rPdT+TD88Pyy/aP+T/+pAa4BQgJfATUEDgL6/sb9gv4u/ET60vk8+CL5gfdl+8T7ZP97A/EG9wXVCXYNwwzADMIHVQX5BJL+tPu7+7n2Y/Vr853xpvOi873yWfZM+dz9DQeBEbgYZiMbK4k380OhVcVgo2oEamxhsVVUSetA+zBqGtn7mN4qxq60QKZkm7qUApM+lvGaw6JDrtLDoNQu2wfibev29XT/eQTzCP4ROxVDGV0bqyHJKz0wRi1vJuAgEB7pF2kOOgVY/7n2QO476O/nuurt7TfuyuwX7vf0+/dC+br5//7u/nD8TvySAPwFOgq6CSYI7QlsDlwOaBHID18Png2pCOQFygQsB98GhgaJBYQG3AcTCNUCYAGa/En4LfLK6W/kG+H83sTdS9tN3bXjCucS7FLvzvZI/rAGCxHlGx8mazD0O7dKFl9pdf9/kH7jfF50EmrnXbZFGSMf++rX/LkXou2LMIeaiV2IeovGiReNDaHPtN7FAc4e0nTe4ew49wgAxAsWGesmbjSpQM5OSGHQapluOWfaXhJTUkE7KVoQIPgW3NvACq1poxafe54Rnweo2LXgxXXVNOQz9pwDYA/rE2Ib+iBsKscnWSWYIzghXh35GYoWMBOZDa8GxgBt+6H6lfw6+NX4D/rI+0L9JP7TANUCUAIzASX8mPqR9vb2hvQc87jyC/O790n68PpT/i0BDQOMAQ0CJgTFAq77UPzw+qf3G/3yCJcW3SjUPSlTYWNgcpd4e3eUd31pQ1S9ONgWSvUk1v2+5avSm2uPsIiljVaXHaNLp8WvrLrNwsrGy8cXzVTXld7p6Q/zRgWrG+Qt3jzkTlleq2uwbO1npl4pUNg4xB9uBJjtqtroyeS4TLDXroOyJLnwww/L09pt5eLxjPk8A64KlRBHFUYUeBVWGOsVKhQ9Ea4MJAqVBY0A3f3+++v5tfiG+V/8wgFhAysH0gYwB50IMATK/sP8mPXM81Hta+t565Pr4+lX6u7mVOwU7Ezw2/Kr+IUDrhVNJjY3ckyIZVV6Ln7ge458knuHe158AGrNRcsfefXY0T6vuJFNg7eEfYLAhD+FoYOmhNmGvpKPnfWlf7Cxwe/TlOae/E0TvSvvQk9YtGhNeX15IXxneY9pYVnCRBAtxhEJ+r/jxdH1wwK8NrRxr4+ugK8LtM63ar+bxyjSjN2H5qb2kQOKEQMb9iX2K+0uMy/CMOUrQSRZHxoY5w8QCaoExwRIA9kCagMWAx8GgwTMBMgE+P9C/A75e/UO9uf2fvhH/Cb/l/40AmcDnAGzAagCQv4U/gL4I/Vc87/vmfDy73nxk/CF7qvtTu7R7w3zjfV/ADQP5x6yLdU4zkZeXSxyinysfOFyWmSrXqxKIjKvE5z8quW60Xm6vKtrp3upoqP/mgmW/Zdqnq6hUJ/cn8ikGK59uJXGo9mA8cIIgxtALlo+RVPRX7NnKGUjYZlZEEwNOjMrEB4lEFf9h+5C4LjWD9QB0a7Jw8a6xtnGOMql0pTb7eKI6fLuwfNx+wcDvgkNCmsMBQ4wETAS7RPSFGYVzBVUExMXsxdvGbcYoheeElMOwAqqBa0CxP5J+er11u7f6xntUu167K3tHu3U8Gr1cfcd+UYAvgUwCygPeA/iD8cRABJ+Fm0jbC9FOYVAhUYIUflbMV5fVp9N2D6fLv4Wd/zj5H/XTMyKt6+mQp0epG+lcqYqpQipuLPAuKC3srkExgPVDeIb53fxBgRGGqYoIzKHOZZBmkjvRyJDNj4kPMcw9x5bEZ0GNAIK+evsXOPs26DZGdeX0r7SBtbz2G/dnt0s5dLxv/mh/mb/IgVWDt8PzQ/BEIUTCxE+DsQKuQpYDAIPrQzCBhALrAq3C+kJWgb/BugDvwGd/4L8b/6z/GT7lvr1+bj7xvzS/Fv6OfdQ+Hf34PeM+i/+fP6N/Db+ZgDwA4QGxAZlBnsFeQVLBE0EogcREcodZSzxOTZC2UtTUHVSDE9tRYk3ByW6EtP/fu+h45XaG8+6yDLBWbmZtQe1+rIsr2up36Y1qmOv4bWVw3jRtOf2/GIQOSZ6NIlBs0o2S0hHzUBWPGo0FCt0He0TqA7XCB8BtPxs99fxhOm75XXfCd1W31raKdwa3zzjOevy8D/yMPf7+Ib9RfzN/SUCqgJbBFgDUgOtB2gLsQ7DDkUPNw51DgALDwikCBIJtQJNBNwALgAZ/5L8+fwX/mr9Tf4r/RL/Jv72/c/5dPNH8oXw2e9g7ZDvm/Q2AVwTOiCrL1RDA1P2YFVnaGj0YQhapEwxPJ4pKBaWAi/6jupB3TXR88h+wLW2oqwYooaa7pZclquUuJm6pXy068YL1/nnr/niDIoZMyVmMKg5pEAnROREfUbSSGJG5UDuOM0vRSXUFgsH4vZS76HlV9rj0mfRDtJB1lPYbdnA3yLkGuRR5tft5/Ly9fj3cvqeADoKBAzyD8cQHBIiECkQKhDCDb0Spg8uDxoMbQ4MDhULBAnaAj4A8vrH9Z3v2uxn64LnbeXM4k/l/OS/5oDnAeow6jHrvOo76/zux/Jd+3kCvg/sIMEzWUGQT3hklnaof7B69XAGZrFZeE7AO3gmWhFSAKzzweIO0kzF07uPsBmhm5ZAj+aM84yMkh+UV6FIsFS+as/83CPt3/yECegTsBt3J0cvijm6PldEEUrjSSxMs0WcP/Y2vSfzGOAJWP6D9fPr1uJe4Cvf493w3CfbxdoB3BjdrNut2lXhN+cN6mbt3/Pn+JMA4AUBC90MVA9cEosRDRXKFl0Y7xkDGAMY7Rj0FvESoA1oDLsH9ATZAZf+/PyW+rX4YfaN8eHuBOhG5eDf9d+Z4a7hkuFq5Ivl5uh061HsqOzp9IsCvBBKIJorRDteTCRh+2++c11vKGRJW6ZUHEkaNRQeRhC8BJ/5hOn43MfSyMZLu/aq0aB9m6Oe654enK2draoou+PGTtIA3OjoAvJX+L0AAQ0uGtcmfi83OP1ASUmBSUJDHTqdM+cogRtSDoEFK/6v9hjtU+Yc5Q3gpNme1gHTYM9JzBfLl8pQz2jXGOL96NbxvAEwCoQSGBv4IVEqJy/kMS4ybjbzNr406DGHKtklpR+hFsgMcQgsAfn5cPX18Pbta+nj5Rzgm9oy15HXGtVA04XUQ9tY3XPiPea26wbwSPJz9e33i//wCJ0SjB/UKyo4IEYbUfpbImJyXSNQ+0K4NbAsjyTiGFEJlAD89MrqSeTM24DRR8EWsieo4aVBpROjQaeWrZ648cGB0UDduOqq9Tb8OQFdCd4YiiU7Kx4wzTVzQNpC9j4KOh05XDUfL64nFSQLJpQoayhrItoaOR0iF2UKzwGE+Knxvum63STZm9do1gXSO8rey8fM+MyRzW/L8srz0v3Yc9xU4j7pru6C9Mz2J/wv//cDLQOuAsoGzwcLCbQJLQrjC6wLxwlaCdcIGgotCSMHlwTvAvIFcAT/APz8m/5MAYL9Xf9DBLoMShfGHSMj0C2tOtZGZUdRQIM92ENHSdU/oDPILLcrwijPGdgL4AS//mf1GOZL1tbMBskkwmW2tK29rkm29bZeti64FcAayCXS2tXv4EHth/nF/5kBkwu0FaAZ/xn+FycY5iDvIe8eeRgfGH0YdBi1D9oMAAikB7wBgvln89rzlfRw8YDoq+iq6nrss+uw6cLqZ++H9Pn2+PrF/Y0EdQq2DfQSThboF/8a3hXpFkgYGBoyF+QSCxOkEgEPBgynB6sByf4n92bwGu9n7FLsfOo36uXqj+zj7b/reOtp7kXtqfEy76H11/prBasO4xfVHPwjcyeoLCYwvDVFNfcu1SpKL4k0vjBFKUgjkR48Gr8TrAm/ACP4X++z5rvd3NZT15jUC87XxzjF/cfuy8LNb8p5ywDTlt/n5EHoE+tO8w73qfsaAbwFygg5CpkJHgwSEOgUrxUsEwsO/Q1MDjsOIAu7BI4C9wCu/2T/jPz2+oX3YfhO9xj2svcU+3X7sPeB+Y/7ugBPAt0FuANWBTkHuAx5Dq8NvA1qDdIQYhEOEeoOEwuaCx0MVwofB3wHzQHe/4UBzv2//AD+O/oU/TT9Av3R/rj73/xw/Vn6KPtM/PP/AAEB/vsBjAfkB+0GVwh5DL0OLBHhEV4VPRjvFwkWBhSNEksWNRhLEfUMNQhFB5gFfv8b+1H1zvCi7ffrE+n+5evhbOFc34Pfud/g3mziZuTi4xLn2Of97oPy/+949HX4Ovr4/KYA+wBCA5kDVgacCFoGwQaBBbcEmwRjBQMGGgSEAzIEnwPEAk4CTgKwAV7/Ov1p/48DnwBt/XwD/QGmAtAIbAjRAXAJHxDJBNsD3hHfCW8Hew40DMoMqBFFEA0IJgzpBnkI6Qis/xv+HQGl/DH7GfV/9in5lfbs9sb0AvXR+4bzdPJR9Gz6XvlT/Bz8Kfm+/VcAIvzR/fgB7gHxAC8BZQeqBN0ETAb0BWUDfAW0B6UGRQLAAOkEAwWiAYoAnQFfA34CjQK0AjgEkwMaArL/sQIJBNUByAMTAu4AfAHFAHYBGQHV/xL9Rv9kAUX//v9r/9P7G/tT++763fjy9Az19PKq88/wcPGd8i70rfP68Cz0LfWt8oD1wPa89Tr6NfvTAaP/Gf5uBr4E3AQLCgkKXwyrC0cO3g1UCp4RNg62BmwKcQyjDLIJCAXeBk8EOQPuAwEEngEy/eP/WgEy/Ob/Ef8R/9f8BPkM/bEAq/3m+5f+OgPc/VkFawN2/LsBhwUDAez8qARABWEAPgXWBngD0P9VBioDY/wd/tsATf6A+m78X/u59oX0Y/t5+0n5n/Xy/Bj8ZfmE+Bj8evwy/jP+1QCXA4wBqwbuA0YJtwZkCR0NcweNB1EKoA0UCEkFBAbpBT3+rv7H/XD+//y3+SD3KPe0+u739/Wi8wr0G/RF+V7yEvJM+AH5Cvbp95P+8fhj+1ADB/44/cwELAFw/+0DzgWOBewEyQPPB2sJSgaUA5UIggqoBeEDrAG1Ad4D//6L/nT6tP4WAM7+I/qR+ED9s/kN+9j7cvlV+6MB4P1a+or/CQQeBD0DkgQmBKkEAgbvCU4IZgu5B4ILwwleCbwKywl+B/QGJwn3BUcGNQGO/4AHDQde+kj7mwFa/2b+9/yE++0BJQd8/Eb6jfuNAx0ENv/U/7H8EgWDBfn7OPlu/mkBBAX9+9X9y/vD/lkDT/qf9nP4DADl/0nzW/Wh+L79tPvg9OvydftK/iP3uvQP+8H52v4y+K71hQKs/mn+ewAcALz9YQFL/skBLfqDAMkDz/3q/vb/jwIXASkBGf+w+5P9mglxAWf9Vv8QAmAG6wDi/9ABqQZ/CsEAef1rCEcQgglw/jgERwx8B9cFEQE4+MoKaQ48/Mf9iQFQA5MJuwMA/hD9Cwf1BGUB+fwC/KoAewdvALH7jP1F/A4AaALAAPD50f2JBGQCtfw6/rwEvQPDAqj+4QUvAJf99QJfAHIAAABA+1P96f5n+tD4Vfi6/1sA2flH9PYAs/2c9Gf8hPuw9yr/tgCA9oj8CATJ+3785P8/+dQBOgdaA3D/nvzdAikIAgVf+zoABwdyBoL9sQBsANgC2Qfc+673YwZXBuz8xvdk/kn+LP87/kL1Uvq6/PL+d/9W+Mv0W/3yB0r7i/SCAHYBUwDt/bgCrgDx/kz/bAEbBLH7PAKKB5IEAv3WC3ULpvxdA9QL3QAvBfcNJgDOBBYIcAP3A8wFsAGgAEwFq/6W/EEEGQRy/eH9Wf6H/MQD0wPCAtr2w/pjBpAEivpG/vj/LwBV/r/9FvwJ+R8HwAXz+bD5XgJhBar+4fje/cH+/Qi2CM7te/pHBSYFYfxZ+vv5Nv9PB3L+O/iF+wkHzvveA4P7iPgMBVcApf73+5b9Qf+jAHMD+vklAaYIf/5J/c4BygA3BZIB9ACz/dQD6PyK/aUCIPne+v0EIQCF/w78hP12AVT8EfxN+wAD1ADG9owBjf/Z/NEBt/sx/msBiAB6/1EEKgAk/+gG4QDe/SMFgAu8AM0ATwHO/6gHxgL7+koBtgSHA5j7wPqABIgEO/8rALYAFwITBxMAR/wUCpkEDwA1/I4C1wnPAwv/Vf2k/lkDAwf1/5T4OwP9CGX7J/fe+4QDzQUx9O76Yv73/fn/av/6+0f56gIuAQr87fn0AYP9qfwKAn79lQDrAMf8E/xXAdT/HPxjA04CmgHxBP78+f7GBIMDff03CBoEgfY8/1oId/+V+SL/cAHW/cr9uADF/dwAjwWJ/Qf6tf1lAGX+SPoY/FEAKf5WAcT9XwBT/asAHgGv+pj9tv4y/dT/HAFD/W0A/AIkAMkAdwNk/yL+LgQGBtr+WgBD/jsFGQQOAIUFDf/cAQcGLgAyAZL9ewYQBSP5NQMOB7v+av+oBOj4bAE9Cfr/6/yv+9sDLQJGAgAAaffeASoDrwCj+6P5VwHSCC7+cPeR+FwGBQTT9xcAp/uh/woHDPgh+H7/vQU/Aff3/fsFBW/+lgF6/dX9t/07AksFsv2J+v0CXgVT/gT97/0iARD/2wQX+4j5fgT++1/9NwKEAKX79f5iAHD9bvwXBE39PP4ZCdf7dfgbA8gBGv0cBpQCT/qwAkEI1P3F+dICzgilAbb6AQevATwBXQb8/ewB/QfRBTz8JwGaBjr+JQLwBOn1vP5yCmP5Xvpu/BAF2wKv+yD9Kv8cAkQByfhuAIgAj/35AowCgPzn/c8EfAJR/Af9DQA8AEUDwAAS/Bf/S/7m/y0Eyv9Z/TEE8vkWAJX/J/tx/sD+egGv/eD/iwA+/QT9ZAAt/tIC+/6S/T4Ar/1a/4r/xwCYAn79Zvzc/Vb+lwGw/mj9BgDE+1b/hADU/Cv9Gv31/Bb/5gBs/OH/1/p8/kUAEfxB+8UBvP9r/J//av68/eMAiQD5ARwCsPt6AZcDvf5C/+YBMgJZ/aYE6wS3/kACUAUZA+YBcP4BBc0DvwF7A8r87/2KBCEFJgBRABYDHAK0/yEGYwGA/EYDqwQrAXP8a/wgBJgGzgCH+AAAOQaW+9b/AgDn+E/9lwWg/kT5mfyQ/LL+/f+O/BX8Zf80/x4BzfvA/g0Cofzn/c39XQD0/NEDKQVW+TUEOQP9AMYADf53AmT7pgRz/4H+BgZoAf4ExfixAGYKVP8j/Xj+yfw7/QYDZQQt+eX8VAbUAof+4vscAYL90vz1BD/8afnk/scBAAGz/9H39/xZAjEDJQAd+Vb/zQKd/hj8fPykAUH95/9KAET6agG+Ap0CmP7XAaYHeP9RBiYAV/7nBIAIewKP/on/bgJGB13/Dv7oAH0F8QP8Agb/T/yGBnYDwf4/AJD+wQDhA97/kPsB/gT9+f9QB1D+cvp1AFn/SP9eADEBW/9y+xwHwALG8wIBQARR/Ov9qf7e+Ij8AAZJ+Jb5KAT2+RH9cQWN/BT1uf6dC8v/M/knAtL+JQL8AcH9Dfr0/tcFNAOn+nj++wAVBw0Aqfif/3EBQgcTAuL80f8TAS8GDQdn+DkC4Ad0/28BEvtzBP0AKgEwArn6Uf6hBIn9qvoI/FIFnwNW+wH/FQBLAsz9wf1WAG//HgGrADf6sPk3Bm8JIfuI9wf6RwayB3j7JPo994cEMAdU/Wz8HvlDBF8Iwf+8+yP99QiYAdcF/wGB+ZoH/Qzf/GD7E/5vAMYMEf188xX4iwLVCVgCSveN9rQHYg5jAeD4rf49AHkO7f7S9iz5hwaiBtb6a/cG/BANzAXk+zP29PtDDZMCz+7F/FMC7AKA/wf96Pm9+UUHmv8R+If8rAEmBpr/g/uT/WkBCwQPBND77fiZBGwEt/8O/SD97gFVAJH8JwGc/LH7CgIXA+/+n/4eAev/0P0m/pH/SQUcAYz8Pf8KA/j/jAT5Aqf6OwAbBMICHPzq/FMBiAGVBXX/AvuNBHUGCgRl/j75awguAuAAKPyY/F4FxAL8/8P+G/xEBKgEtf4F/WgAzQE+/G7+oP+7/vkF7f7N9S75CQlUBH31J/2C/wX7eAeCBV73OPnPBoUDqvkeAU0BJAJqAi39m/4Q/b8GAAKB+Zv+XwAfAU/6+v07AXn+HgAKA9f+y/xJ/sADgv/Z9kIBmQKoATj9nv6VA08CKQMiA9n75wJ0A0EAiAHW/Un9lAASB1H5Nf5eBfMAxP32/eACLfuQBfcEov+A/VAAwf/YAtkA8/+b/28BIwLQ/4UAn/w1/ywFagJt+uL8JAMlBtr92/vf/EIExgKxAWf6AflkAi0C0/1H/eL9GP/3BH0D4/hx+jQCFAHg/z//z/yqANMAIgUe/b762ANAAvoAxgEh/TQD/gWIAc7+B/3DBo8HbgLi/Wz9QAS2BBz+t/mmAlEDx/5m+/3/0P3bAasHGPoO/34F7fv4AV8Cbvpf/xb+0f22/h7+lv2T/BwBof7SApz/i/j2/0AH3f+d/Vz7kfzHArX/DwJa+LAAEwiv/F75agJZBRMD4gHC+tz5mQZcDq3+6/6R/1H/JQ4FA+P37vpIAo4L8wMF8R770AStAuICAv12+fkBPgSAAiUCSgOL/hsBwwMa+x8AUwXS/rT7rwA3Bdz/bP4/+gEAmQKu/aUEEPrPANv/4/2hBLv6Df81BX3+vP0z/j76yv79BXf+Zfa6+0kF/wKm+zwBGf2Y/REJzQD794r5JQnlBL36eftZ/UkE2PyhADIDTv23A6sJEQFg+0YGYAb+/kL8mwU1As/+hQIDBNH7K/17B04ACfxCAvYAVv7t/cv9Kv/MAJD9Sf2IAK39BPtXAuMA3f0m/CADGP93+Rz8M/qf9zABcQI7+3/9D/4kAIIC7vqa/y8BlwWF/zD/Xv5S/OwG8Qcc/KP/BgECA2kJef4hADkEoAeECEf8a/vIAeIGJQTSAP35Yf6vA1YGVv+i/ZQCl/0EBDr/Bv+T/sP+5f6J/sb80f8Y/y7/vv7V+NoBdP8ZAS78e/4n/3ME4AB8/i3/E/33ApAF0gDH+aP/qQI/BdH6/P+IAYcCnv90+236BP+3BtD+e/rv+EsBIwMpAln71f0CAd0EMALE+XL4oP6XB1oEGvyw+x//6QM6Btj6vgD0AlgA3f8TAVYAyQGvA0YBjv/b/b0DJAF/ALoDdP4f/4kBNQHVAr4Ajfu3/mUARwDd/Kv8JQDw/Gz9BwEn+xb9U/35/K0CIP1M/XwA4QH2ATH+KPuDA3QBpwAMAkj7nv2UBXEDXgJ4/G8AkASF/6cCIwBJAIMC7AAP/w4BOAIIBeT+9QDGAtP9zARIAlkB2f+iAB//uf6i/58DlQBl/oj/ifvlAbv7cPwzAyv+m/qY/14B/vyy/GwAw/n2+zwDfv9SADr7Uf6WAWv/fALWAHT+EQF0Af8E1gPb+2UCgQXeAxEBsP18AyQEhv8JAaYBbf4gBDcAhPtQAHz98fy0/v76IP3T/c/+6P6L+/D7Xv3fAAr+ifnc+Yj/fQDC/m7/xf7n/tEBrgH0/5wBAgKoBLH/ZgHFCez+TAEDBNT/4gNFB8gEof9XAGcDgALTBWcEfwFKAlMBaQJCAHj/MQK+AKj7uP56A6gBgv4X/mL98/wG/bn+V/6k/Tf/OADe/T38Af99ABsAVP4e/Wf+wP5nAQb9Tv/c/KL8GgArAJ7+evu7AKIDAgMn/u79ZgTSAWwAHwPa/iL+5wM9Af76bf7NA9f/gv7t/ML78f8kAhT+iv8u/7L+HQA0Adr+q/7y//L+wQDu/Uv/xgBuAmICzv4UAUcAYwB/AooC9gDZ/oMC9wE+/qD+7ARrBhIAjv4IAAoEhwhEAln8hv4LBJMAAv7w+of+FgEw/0L6ffpv/t8AQQDZ+yf6w/xh/2gByf36/Ab/jgLoBJ7+O/52ASgEKgEKAXUAJQNQAiYDkgIm/03/+wEbBe8CRQPR/10Egf+L/5IAKwTTA9n/Iv85/1YCcwAn/Q7+EgJL/+MBxPwp/HP86P6c/5781PhX/df9kf7o+9T5IftE/SH+0/2P/SX8AwLa/qL/OP3v/wQCvAAL/if9xwAUA6UExgD7AFcCMANtBQsDpQFjAtcCmQHV/6MCHgOeAiYAvAAeARUD4gF4ACQBFwJXAacA//34AAX/Zf/sAr//ngAA/b79S/5R/Qb/qv5l/wgAxALE/qH+GP1iADEBnP7q/kwB9wBL/AIAVgEyAFoBg/6WAJoCGAKR//D9RwACAYD/kv8NACX/TADw/Vr9s/79/5T/6v/a/7b+If+DALj93fyp/6b/nP5s/c4AhgBrAZ4Apv6U/ZP/xQD6A0b/7QALAZIBCQFr/9UCdQF4AV0ClALJAHoBOgGp/ysBqwK/ALf/fP1tAk4BBQAp/u7/mwDb/0T9qfwb/Zn+t/5AABf+Tv4o/sr+QwCv+5gAqQCTABT/pwBpAVv/fP8FAk0CJgMp/4r+QwBGALcCSQEDAMv/BQCGAJv/4ADY/4EBuQA0ANL9iP/FAHMBbwF7ANv+1P3CAJj+d/+N/83/nf8kABv+mv/4/xz/z/1z/rb/UP/K/t7+RgCb/6r/7gGNA0r/Sv5oAH0C3AGS/xb/cgIoAQ3+pAFdAbIC7gCi/wL/DgGEA5sBbADN//8BVAC1ATf/BgBsAHn/rf8kAPr9V/+C/UP/of7H/bsA8Py+/KL+uP4J/Q38Ff6w/xn/3/9R/Jn+1f7lAAwACv9GAckAewExAJv+vv/0AI8ByADT/8H+GgE3/gsAf//dAD0DJACi/3cBHQMSBV//DP9bABgBZwS1AecAdACbAfkADP+OAFT/CgHc/mf/6v+SAAX/tv88/8kB7v+2/07/Lv/sAJb/Nf+G/7z+P/+A/ssA2v0OAxf/T/+J/xP/c/8FAKP+1v+u/jz/2f40AMQBHAAZAKn/IwDE/5QBr/w8/90AX/6P/zD71/3//qUCDgBA/Vv+RwVWA8b+//1f/vIDhwLOAK772vyE/q8B7QHf/bP/QgGBAoz9j/6t/TIA2P+HAAv+rv/i/j8Asv+1/U4B8f1/AhkCSP7U/xn+Wv9g/kv+kgBFAB8A5f5S/7AAx//p/gkAkwLWAUMCcwBzAJH/V/8QA13/UP/J/t3+dQEVANwBpP+vADMB/gNIAyb+YP92AhUB8P7o/wP+cgHGAlAApv4BAMMAvAE+A/n/nv2O/2oATALJ/koANANP/xP/a/5gAcYAtv/o/Or/VgCvAFD/pvys/f3/BQEv//L+hvxa/tj/1f9BAQP+If7A/pT9sQA1/7z9pv+rAd0Am/4T/yoBmAEjAvP/i/66AQwC1gOwAGj9TP97A94DGAFt/4IBtwGCAQwB0/1y/mEC9AIhAZ79vv3+/HABVQKtAJ78W/1L/kEDpf/iAV4ATAD6/skANwRJAOb/TgMNAhICTv9DAOb+GAPqAor9yfoE/xUCAf6U/Pb+Z/7k/rr+pfuO/pEAAP+F/qT/L/+WA/7/5f/9/qYCtAUY/1H9GP+rBFsClv7y/qn+HgHQAE0BYv9S/AcBTgLe/0cBdv6K/fYADQFKAXf/6/4N/2n/bf9P/gb+wv45ALb+KP7e/k/+kP8u/xv9bv2A//EBif+0/QL6rP9JBBEC9vu5+p8A9wKp/wv8NP+6/+QDb//8/FX/SAJdAeMAiP5SAIEC+f9v/rT8L/78AEYDcP9w/d8AOgTSArYCXwNpA34CvQJlAi8AZQKSAnUAXwFwANf8C//2AZkCTgAV/in71v5QAeD/f/8M/jD/EP6FAJ3/LP/5/uz9UAHHAc3/Wf+iAMz+5QDj/sIATf4Y/+D+//xx/tz/xv2E/U3/vf+w/d7+X//n/X39uP4qAaQCZQHqBckH6P//AGoDeAblAWX+a/6z/MT/xwCG/MP9VQGUAob/Af/O/6YBGP8U/Gb/DP1+/jMBwgBPANwBKwMxAp//B/4aAocAgf0O/m784wAgAI8BMQDg/vgBngMUA1IAGwAkA6f+9f5uAFACIgJl/wAA6QHfAhUC2QBQ/+oBjP+q/j7/N/69/t38HP6S/nn+TwFO/8QAF/25/nH/KP9hAPT/k/9AAmAAVgAQAff+HQGM/zYAQP7TAI8AD/85/2/+ev5B/zwAIgD6/JL+IP3F/pL/hf81AKIArQHs/mEAFADc/iT9FP5t+8H6SvzD+oj87fsV+6D7rvxg/C//Rvy9/f77lf9y/2P+cP/bAScCpgKsATcEoQTnBsUF7ASeBckFHQdbBsUHTgcACusMlwt9Dg0QnBFhEkQTRBREEXkRTQ6mDRMLWAjvBmYEQ/4w/3r6TviO9kfykvBf72DukOwQ69nqP+777rrwkvLL9V71bfVp+bv57PkD+vr4Efzv/FD6k/uj+uD7Tfo3+Tb5Z/Zb9nX0kfTd8jnxbfNm9o3z9PJJ9W72l/VF9iH5m/bI9Tb1n/W993z4+vcj+uv7vwGjAbgBWQbqCF4LJA0jDqMOSQx/DpwOew+PDjcOSBCDEWUQ6hExEtEVkxmfHF8goCSnKKMvpDOrOgVDlkccR0pD5T9tOnk1IjGFJGgTSQFK+LPwNun03XjOBsPJwXe7mbgSsdCwZ7CGr2OvMbE+upHGPs2S0WjY0OGu8Gb79f6bA+oK3gzkEd4YfhwfIPch3h5dIe4gUiALHt4ZThPPDvEJ2wQ3AqH/pflL8+Htzu4i8KjvrO3358DmwuWx5y3pVe1a7iPy//cG/AIF0Q0REKERHhX+GLkezR6QIK8eEBziGtgUJxcpFosR6QslBxwDswEn/7v7m/Tc8a7unO6o8SbwhO/28OHu0e8Y9S/45PgR+e33F/oY/P//JQIGAvH/fAHBAmoBxQRvB7wJcg4YF/Ibqyc4MLY0Cj+cR6pTzVMHTApDbj85PqE15icaE+MGsv0J89DlHtoWz6PGHr4ftB2sMKqmqDmmOaRXpDSq8bdyweXI5NIx3WTqE/RE/mMI5AwvEQEYWB0oIpQn2ClHKaol4iAKHtsbExccD1oDoPvp9k71DO+u61rmZ+Ub5gDld+c15ELlyOe55pjmkOzD89D53frb+4UD0gtuE/8WiBdjHFgd+x0iHsUgrCCVIqMd3hwLHEEbXxpYFC0NqQlMBNoCAQBL+lD4CPdg9knzGvaU+LH63Pqw+9H9iQCJA6cFqwWfBc8IdArmDdsOaBKRFLAdoR9YJ88tejL2Nuw9Qj2lOYszVi7YKVgiMRQ1Bb35zfI47SHi5NSVymrHycGJu1SzSK8dsW2tTqsFq7qy670VxsXItdIP3tvq6vUcAC8JyAshFOEXFh9IJS0nZiQNH1Ic4hqlGswR4gj+/6z9nfdf9PPwc+6U70zs0+gf61PubvAn8PHt/e+A9Xr8Zvyt/kUBzgcECAYM2w8vFYQTHBXRFHcXRxppGjQX7xUpFZ4UKBRyEooOXAxACb8ErAHZ/yT9iPyH+XH6HfkV+h77HP2z/Ob9Af6kAXQCewX0BBoFeQeRDHoSKRtyHjsiDyUiK9wyujqyO+9AiT+qPog5IDVYLqgoDh8JEcoAxvEX6s/hMNfcyv29drfCtNa1obDprkyvfbIltXe6Y8GmyNnSANlt33Lo4vI3/cwEFg3fEC8WfRisGlodsxxtH0Idoxc8ExwQgQ7ACIcBI/xP987ywuqD59zl1OUD4tjel9444tblUueW6bPtt/Jm9Y36a/9FBcMM7RGTEa4WDR94IUMlIyVUJX4jKyQ/H8wc1BgoFYcVdhAFDVMJPAdvA379B/0y+Ur5pfgC92D29vZp9lX5oPgM+dn7tf6zAaYBtwJtA/UHnAhvCTgLfwqgCbkK8g8VEecTkhicHC0fqCJVKKkuuTN4Nc4zjzKXLwku1iYYHJwWGQsl/QXwY+pp3rrZV875xPXAT75Cuiy3PrbGtuG53byevpnHZ9B42zni9+WS7DD5pQPWCuwMcBBAFe8ZuxshH88ayRt7GBkS7Q58CqcE7P559rrv8OsM6Xbn4+S/48LhOuSw6HHoSOrW7Vjww/HQ9zr4D/4iAtoGOQmQDhITghVJF+caCBvqHKIePh2gHpwewxupGfoWvhLcEE8OHgynB3MD1f/3/D38r/d59o/2aviQ+p79U/3WAB4FDwmPCmQM6xGnFV0VRBIOFmYXrhdKFu4U5hnWGm0b6RkPGysg+yP1IwUklCWrIwQglReqEqkOngq9Auf2Ke3t5uTfX9vO1I7LpcgPx2vHtMMQxE7BwcOpxvPIqs2+03TZhODC40DsDvIc+ZoAaQZqDcoRcxFaEGESrhKzD24MigIh/fr6zvrN9q/yNfCM60/qDexW69nrMfC37rPvZvCg9TP6Hv2iAKACngSdC2kP7RCREO4QahM0F6IW+RW5FgwX7BcFGJYWhhd8E5QSIRFLDRIJ+wp4CPAFBgb+Bc4BhQKMAa0AhwPrBDwE5AUQBp8FfAbwBbcG9AY8B70HUAthDdwPchYGGkocWB3PIakn6S2ELuYtRC7TLdkuBCobIwMc9BhlElQIVf0570/mH+DD2eXNlMRXwhnD68GtvC65Jb3dwcfBxcEaxyzQ9dcv25Tfe+Vi66f3cv5PAh4HPQ6FFZIZbR0RImAd0hZzErMOUg/UCo7+mu/B617uDPB56ZTkwN/54yzp5OW/5Tfp1fGd8vXtSfHa+XkGCwqwBhkIPQ+uGJYbuhjoGYcaOx2OH64a3h3PHkUfiRm7FN0TBBYtFUkOPQRmAiwCnQRw/AL75vqL+nL6JfqS+2oAvgHvAKwDlAWVDPcPXRJTDnQQWhZvFnsUeBPGEL0S2Q8IDPIHLwrjC0cQWA1yDHIQQxOrGIQapxlXG4kcXByhGS4YoxMcD44JmP8l9wjw0Old5O7crtViz9bIn8iTxqvDnMEhxWHGjMY1ykDM7dRe2kLfceQ26Yrwwvd7/ccBWAXABzsMVQ4UDowPhw3sC/0GrQECAAv98Puw9l704vK28l3wPu9U7QjwAvEL853yQPec+oAAdv+vAewHHwvEDm4SzxLyFJgWYhumGLkZdRlEHP0ZDhijGFgY0RaSEzUNOQ5AC7QJkwb3A4ICtQLgAbUDYf9WA7AF1wXuA0QGsQuPCycPaQ/pDxoQnhHnEjkQmg9sDRoM9gwGDqcPSQ5mDr0PyRGtEtMSdhShFVkYhhj9GD8aqxhoF8wP4QwlCk0EVPzW88/sAeiv49zar9a2z/zN2swLy8fGGcUTxILHNcnayZfMW9Pk15/cQ95A5tTtv/Pn+9D9lwJhBrgIbAiLCPoGOQZUBZUBl//d/RT+/PkE+oP2kPZv9qD3mvY4+Cz3b/t9+wH6sPpgAE0BOAOeBQEJFAr/DNwMGhGAEZwTRBWXFcEUxBdXF9wWhhStFBIU/xN7EpARKBIkEbkPdAzGCwUM/guRDBgL/Qr0DWUMhQv/CzINjw1HDEQNFxAuDhkMsQu7C3MMwAr1CmALgQyGC6ULdg3QDUEOiw5gCn4MLQ3GEVsSyRJ8Ej8RPRH9D8EM3goUAn38KvRc8F7sLuiy4GnaOdUC0jTOhs5SzGXI9si3xoPHeceIyfLP9tLt0yve2+J26fPu9/Co9yb7fgE3B3kIMwxZC/sJoQvACyYKmgbpBQ8CCf1d/JX6A/wM/Av7svbK+Z/7Df00/XH+2f/VAhQEXQW4B68LGQ+CD6ENlBAaFLEU0xRmE0QSzBXRFd8VKhfPFU4UhBPaEf0R6g32DIUMlgjPCD4L0QmiBmMG/AcTCF0IxghgCBEJIQqsCjwJCAsTCx8KvAweCacJGAkVCngK3AnuBu0DlAWNA7kESASdBd4D6ASmBvQDKAeeBUAG4AXoBLIG4wmlC1IKQwUxBXICpAHK/Yb3qPGO6tLooOay4CXfgNs72mTY5tTe0DzUDNQA1RzVmNR12G3cKOQA5VPp7e5p8zH4UPiA+8f8OPxP/BX+h/87An4BFv+fAWT/ngGvAx4FvwFXAp0DjgMOBvsDsQeKCUUG9wPtAzMInAmfB1QI+QfFCHYLEgwgCtANWgt7DisPHg9/EaUQ/BEOEDcPKhBrEQoSzhAYEAgQLRCOD/YNFA7NDnYNFwzdCscMXAs6DBkKWQwSC5AL9grUCFALWwqPCakIvwdRA2QDmgRNA2UAQgFFADn/UP6Q/Pr6vvrt+hT6Qfl6+OD5tvl6+Kv6tvdO+c/7sP8M/oL/kv4//o0Bbv4DAI3/dvyR+Qv82PhP9jPyK+0w6Cbqcef14o3fqt+Y4EDgA+AZ4WbjsOTl5vnluuvz7OXvjfG983D0APik/ED9Tfqp/I3/JwA6Au4BxgQYB7wGpgaGB7cI/An1CHEJXglsCscJugnvCgoL1AeMCO4JdwmOCp0JOAr8CqsJtwszC8sK2gkgC4kLFA49DqcONQ5XD+YPjRFVDzcODw3EDP4LFQwGC7QHgQeKBz8GtgVUBYAEtgPoAjYAQwEMAMQB5ADsAFH+c/wbAbz/+/5W/a/9+/50/q7/4wB6AfoATAKzAskC0wReBOsGtAiTBpEJ1QhGCFAH4QYCBmUIgAYhBKEFuANOAkgAlf/p+l73HPcs9oLyBvF77GjsOO3J7R/nBOSJ483ks+TO4yzjnuK/5QPobecN6CzrW+pN7ZXsg+6l8Q72Vvfd9YP5I/vY/GkBbf50/QMDZAOBBIkFFwS4BZUFigUGCK8I3guPCtYLigxyDDAOfg4qDe4NExEnEpgQUxN5D08PuRHCEE8PJxBuD4UOpg0wDgwQcw1tDJwKPgyWCNMK8gjtCpELggnIBj8GBwh0B0YI9Qr8BXgDPAODA2oHgwnPCEABzwN/AF4ETgj4BbkCUf8U//cDDwNEAjr6ufmJ+2/8NftO91DzXPE59Bb3evXw8+Xzpu7I7ars1e4q737sF+p75wPpruoy7kvqM+a15ivpX+xj6wXp7+aZ6jHwdPTm8d7wEfOW9ef48vaP+WX+rf5TAJgAu/xlA64JbA2VBq0EjwdpDB0QUQ3JCckL3xPYDpcONQ5cCvwQWhQfEGALaw3GDpIP0Q9nDLkMNA6lDkcMkQzPCWMNhQ+qCR0HGwnJCx4M+QgcBpkHvQz/CvsGTwXKBTkGMAV5ArEAYAQDBbgDjv5t+o3/bgIkATr/bf3r/BP/Kv/F/tH7tvojApb7Hv2Q+n35jP22+qD23PJ/9v34n/er8iPzpvWg9Wv0OfA18L7vRvS28yPua/Dq8mP0VfWY8ILyGvQx9xn3jfcD9VL5zPi8+/L6/fWp/Vf/Hv+O/Er4s/q3AUcDK/53+3T+6AOtBIsCEP9cAW4E2QQ3A0MGrgYVCHgGTgQDBY8IGAuoC74IPQXmBwEK6gi8ChsJaAg/B6UNuAwVCMIJiwsZCgEOWQtSDIgNAApvCyQKwQpXBB4HhgjuBa0AMgFFAfcDGwDx/j0ALPxB/B8Af/3p+oj9fP7R+vT6zPoK+gP4Qfx2+3b41/YQ+CL5r/qe+Wv3KPob+cb5QP45/GP5W/pu/9n+n/zs+SX5lPun/Mz98fsQ+Gz1k/0D/4f6Nfeo97X7sPzo/DX8aP1u/Xn+IAHN/YL9UwJfA6/9VwNLAQwC2QPS/kb+//zsAUQCjfkuApv/QAB0AzUBXwCy/PL/jwNc/tn/rf8KBkcEgv4l/jUC8QHbA24D2wAPAvkDWgJnAcr92v5JAb3/ewBJAfYA5/8+BQMGgQFQAIMBIQRqBMEDfQEkAYIAGAZXBscCPwHlAZMDewIvBhL+hv6A/Qn/0/1tAOj+R/ypANkD2P6k/4j9MgGaAez+uwCqBZb+5f8tBpgAOPsIADYEvAES/1/8Jv6S/6UArv87+1L4OAL5Bo7/P/xA/Gr/wgTjApX+7Ptr/nEDcgOL/A/7Rv3X/1D/l/zE9iP8cf4u/aL7/fdU/UkAjgFx+zD6svyD/5cDIP8W+00B7ALxAFIBgAED/oEAMgMqALEBgwFB/lb8LgNtBaP/i/6B/icBJgVdAHgCYQUAACoEhgZoBOoAigBUAEoAVAnaAz4A2v4e/VECOgCMBVL7P/i3BSgGef7RAbT/bQHaAjgHQv88/eIDBQcyASv5evx7BAYEdf7X/Az/0f5zAdkBGf32/DUBRP4y/vb7t/4g/9b94/9e/Oz/AgSq/c38Xv0x/ioDMAI8AoL74/dxAf8AB/2H/Hj/XQKF+6b+/QKm/5L9oAFK/Tj/xP5WAcsBu/9KAUf7tf2H/wUEWQQd9671zQLMA+ABAfsn+pH9UQEJAzz8pvyHAOwB3ARlBNj90AAFBeMD4/5vAoIBGAPnA3oAHv2BAIQGIgPcAZICsPvCAaIHwQSk/1b+nQTKAfQDPwbY/9n+Rv8kAIQHuABEAD//Ff+uBaQCdQGF/GAAMATg/cYAvf9r/qn96gFiAav/FQFsAzX/7Pma/pwERwWEAd346PwD/pADrwUQ+6j1VPu+ArEDLfwN9sD6IAWA/mz/3wAE+z39kQOZAOL47P+EBScBw/4b/Ef+KgWQBbv/Jfr/+YUCVgb1Aib6OvyK/lICMwFsAUMAcvrkAGUCrf3U/C8ENwbe/+H8RQD3BR8Fpv6k/mj9Af7HBnkBJfgjALUCFwC7/w7/Cv5uAgf/rvoNAwEEewN4Au/4Tv/IBWUDbgHOAJ0AJf7PAEMDfQAa/p37Uv/i/nv9a/43AQr/Q/34AND+mwAkAMn+Bf+s/h8B3f8e/2EAif/XAPT9AwHAAzn/4/+H/vAAXgBKAUkAsvrXASAD4f/VAJr9QgAnApP/Yf3b/b8DDgGN/+f9nv87Ah4DF/++/pT7/gFfAXr8cf4C/ub9XvwwApP/Kv0wAFP/nf7eAm0AsgCO/6b/r/0OAAT/3AAYAlkAu/9QADwAjv4xAsn/0/4sAX0AKgA1Aob/n//PAHP/4AGk/jsBCQP3/w8AQ/8jAYT/PP5PAlf/zAOPAkT9tAAnAPH/u/8QAGD+rPzpAskAKP3cAdH+EwCy/3wAZf9FAqwBhP64Ahj+Xf9kAkz/Rf8bAdsCoP90AGQA7v3w/fz/vQJHAOUBhADz/pcCJQFt/+MAmwECAWEAcwK6AXkAfAP3Aa7/6fxo/3AEQQCC/pf+HAC9/+r/3AHj/IP8pv9eAogBUwA7/8QCJ/93ALX+5f///z4BUwE8/XP/wQAQ/6wB7/+1/Z4AKQBY/xr/LAFz/+799AKe+6D+/wMhAlkAx/8H/oEBkwS4/4r9H/9IAdX/GAL7/cj+zf12//T+ywOl/3D7pAD+Anf+4wFN/tj8wAEbAlAAqP77/3r9vQCgACUBfgIa/3ACJP1dADYBVABMAkf+HgAkAzv+xv9rAXT8lALtAWMBKP88/i4DtACNAjf8Bv48Ba8Cf/0s/wwB5QGkAGb+K/36/osCrwD6/wH+zgD/AQcEVv5n+xgDaAJZ/8T8Mv82AOgAg/0J/ST+ZQPdAm8AGfyR++ABhgetAef6tf3b/ysA6gLA/xb7wPwBBRn/QP8sAan/LfzJ/oP8YP5OAdr+HAD++oP6+wAHBbv9pfy5+ur/3AH0A/EDBf7x/MoAfQW/AFv+Ov6Y/WUAWQC5ArL/uABkAun+gv+pAzAEdwAW/hwAkwBhAgcDh/2Q/tADBgLu/0UAagBDAE8BFQNe/+cAmf1aAP4BRAFC/wEA2QBTAaUAlv7x/lgCIQKQ/iz9Lfwm/uv/qQK4+0n66P0e/2MBJ/7e/av+b/1LARMElfxe/XEA0wGAAef+WABJAeX8Iv+R/10BAP2K/2D/kvvV/fQB2f7z/pIAogD0/4sCGAOSAYr+mADe/6UCnQB6/zsCbQCP/AsCuf8k/yP/pQG0/vr8XAESAzECWwHN/0T9bwNdA+YAMADP/d4DpwIQA1b/5gELAwAEBgRAAS4Akf88BPkAw/7G/Lz9U/7A+gH/tfm1+pn9rP33/MD+xQF3AHIBPAADBKAEswCUBaII0wOUAbQCof89ARP/YP0O/P36F/wS+6D7Hv1/++z6Vv4y/xIAfP7W/yADSQEWATYC8QNvBP0CxAIQAigBNQLGAKv+LgAOAQv/jv9Q/lkAC//d/WUBXv/Z/ob+7gGfAWAC8gC/ApIBSgHVAFkCCgI8AFoAuf4IACf+GP/T/NX/fv4K/wP9SP1b/pD+GP0KAEUAd//XAWkCRQDD/QQB8gCY/n8BpQIQ/5wBtf80/8H8sQGt/+/9L/5i/2D+1QGb/3T/HAC1ArwCVgEoAZH/yAM8A9wAPQKT/pH+jwPnAof6dfwsAI8AZ/4zABv9nvwDAVj+tP/t/nECCQFY/2QCCADSArMEVAET/tsAMQFyApb/dv4d/BUBj//1/uL+Z/8A/5kAfv5e/WD+WP6L/xn/6f1tAY0Fqf6oAc0BZQF1BPoApP0T/3YDywPg/tL80v70AuIDuf2Q/Ab+of1qApQBW/tZ/lD/Zf9UAeUBWACT/IgBNQEaAGUAtf+C/Dr/MwO7ANf/TP4T/5v+lP8vABT/ov4//jj+IgKG/Mz8gf/5/JQATf3n+yP9PgPDBRwAkf2w/Vv+pgNIA24BvPzIAIoCRf9D/i4BhAHI/H3/jwEIAawAxv+g/hb+sv8FAosBOQCg/g//xQBvAX0CRADu+//+twGgBEcAr/97/VX/KQO+AGr9t/ynAfL/wgD4AGcARAG6A1oC8QDfALUBwQIc/3UAjABd/20DaQDI/kQAP/6lAW0DAAOAAPb9hgGdAZ8C1wIs+8wBRgGf/Or/dv6iAMoADAFi/VX+zwFEA4UAVP+v/YkCrQLHAS0A3/2r+w4C6QHb/X78Afwl/VQAeP5O/iP8Nf10//QA3//0/p7+Gv7wAZD/GQFZ/97/9QBj/8f+HP5a/BsCRQUV/W3+N/48/9kAHAKH/xj//P08AOUEIAA4/eEBqgIuAoUA4QEvA6kDe/8FBKMBh/+oAzsFzP65/e8BywCZAfj+cP3k/8EAiQLm/i8A1f9u/0ABgwHN/7b+3v22/9r88gE+Ax//ivyBALMA7wK9/2X8Hf8u/0cCWf+OAAkBpf+cAeAAgf0e/VsCXAGCAWX9EPzJ/ov/aQKnAcf8FfgOADAEKAB4/RH9YgBfAKEADf8N/vH9QAHkAJr9Z//2/gYBef/s/Fr9ef44AMIA/AAl//r6E/9yAUQBWACp/y3/NgB9BVkEPQEp/rb/ZwI5As//TP7k/ngAmwHLA6//Uf7y/DUEGgN3ADD9vP8dA4ICwwJ+/8L9SQGmAYYBQwHs/uX+7AEXAZwCuP5u/aIBOgIGAckALPzo/QoAzwC/AQ/8L/6o/8cD6QEJ/y3+/v0RADwDBf5w/M8AsAEBAzgAAfwb/Y/+2/9JAmX9fvvd/lb/NQErAQr/5vx7AEkAOAAkAv3+VgCiADoAMP+M/tT+SAD1/9T+uv7k/cj/ZwF3/w7/zv0O/WoBrgSp/rb+FwE3ALsBHwHZ/xoBEQHvAfwALADW/T0D5wQWA7QBPP+C//EBaQTW//3+CgA2AA0AFQGG/4n9Gf4CAFIAQgC0/MT+KP8rAF7/G/+u/iAAcgDV/x7/g/0w/oL/9f4C/4P9ywAn/qH/V/7P/40Agf5jAYcAYf/AA+3/swFQASD+qgB/ARMByQAa/gcBFAI+AbYBFP/z/53/6/6J/o7+lAB7AiAAwP5l/17+/P+zA8sAUv52/SgB2ANV/iT8Xv8fAPoAaf0R/QkAh/+T//n/jv/a/ZP+YP6l//0BUv2iAdEA7v5F/6UBdAHqAqn/RgEIAsz+3f0cAZYA3AGhAIgBlwGmAVUCLQL3//wCwABGAjEB4gB4AFL/hv6WAgAAxwAnAegBEf9QAPn/MgCa/3L/jv/Q/rT+Gv5I/b3/QABA/of98P2O/zQBDP/q/pX+a/5K/jUBcf/PAAT/0gDj//D8QP5qAPcB9gD+/p0A/P0v/9kAnf/5/yj/tgE5/zAAv/5w/3wAuQErAWb/mAAyAHz/cgBMAdX/0gBs/73+ggAz/yUABQCmAer+5v8R/jv/vv6t/mIACwLyAgH+K//N/+YAYf7KAKcBdgAsAmYAgf9dAL8AKQJW/14A+/5WAY0BIwOxAxwAKgIAAnsAhQGTATT/AABiArn//f+j/yQCZP+WAIAAw/9X/LL/6v6d/iQAaf0U/WkAhADn/X8A3/2w/rP+cgH+/2oAtgDTAtwAFv1k/0H/3P8zAEIAXP8H/ggA2/5kAUEDKgBZ/6j+jP4zAPn/bQAi/7H8I/4S/2gB+P2oAA7/wwAdAe7/swB3AUIAJgAe/jgADv83/wkCdQJQAr0AOwArAPUAcgISArn90v8HAucAcf/Q/j7/5/2g//n/mwHY/8/+SP6O/7v9Q/6a/bv/Sf9N/hT/af2l/Cf+8v/dAIL/5/2PAPD/AQH2/2n/RAD2/53/Af/VAMUB2gDMACj/GwAAAAABEv8uAMAA0v4D/gcA5QAJAUkCX//iACcAVwBw/9X+TwH7/Xb/hv/b/UX8QP8JAE39/v/X/gP/yv/2/6cAXv8u/+H/hwELAY7/ywAX/7kAaAFRAegCjf8rAjACif4HAYUB/QCE/zsAnwDm/fr/HwGVADr+qgBnAFkAo/+R/5b/+P6A/m0Au/1Q/7T/NgAb/9/9Ev8D/qz9AP9V/7T9LwCt/2EBqQApAAn/NwByABcCaQCRAeUDsAEoAyUBsQIwAo4CHgJC/wkBkAIK/6MA2v9dACD/g/4yABQCMf/U/979Ef8RAc8AiAC5/VAAaf/6APn/igCX/wABlf1t/xb9twKf/7j9GP6sAJj/IAH2AHwARABp/yoASQLB/7YC/gBl/8n/ZQAqAQMBWP/VAJoARP91/u39Rv+y/tQATwFPABH/5v5h/2n92f0a/tH/mv2f/Gj8Rv74/hL+3P/4/nL+BADvADcA/QH7/lgAcwJFAdoBdf98AEwAZAAKABT/rwCP/pIANQIcAHACRgI+AusAUwBN/Q4BfwBkAFoBMP/I/g3/UP6j/3X+vv6d/s/+y//t/u//jP+p/03+JP7z/kQAWwDq/zEA0f8y/4X9Qf8dATwAagEJ//4AGACOAGgAIwA2AtwBKgKi/6MAGwISAooBqQE0/1MAOQAZAdz/ogHr/uP+GP8BAbj9/P6UAJgATP6D/QD/vf32AeH/hQHk/2z+d/6Y/nL/K/8V/7T/CQDF/iT/O/58/g4BwP5DAVP/5/+j/2MCbP4tALn+kQCi/ygBIwG4/yz/RP/u/pUA6QDJ/WH+L/8A/Tz/0P/R/v/9GP0n/VT+TP+vAKv/yf8HAbT+fwDy/3L+aQEI/9cBDwFM/wUBgAET//H//f/j/gz/SgDPAcUAS/9VAK4ALwKi/7b/xv++Al8A1/+6/xwAQQAeADcBMwJ7AMsCHQGwABf/uP/ZAIv9YgAGAXz/5wCtAeUAfABlAVsBKgI3AVACtv/rAc3//v9kAVoATAKF/rb/VgDp/ygA/f78AFr/vgDBAZv/KwGdALP/vv+vAOkAVv3O/Q4C1P8iAe/++/4x/0j/6f0R/wX+dPzO/3T/xf1C/Z/8e//Z/XD+Wv6g/m/8fP7K/63/YP81/+YAiP9EAHr/g/31/3b/jwBn/6YBogHKAE/+qv/PAA3/D/9l/TsA0v6c/UX/hv94/mX+pv8s/4j/Dv/5/uX/s/0R/pT+Nv/+/PP9I/+K/Sr+XP8XADn/QwD3/sr9S/8qAAUAgf9+AO7/6/8GALYBDQAPA8kBlwL2AGQCIAQzAfsBpAGtAU8B8gIwAmgBKgFRApoA6/8oAXAAoAAa/m0Bb/+2/n0Bcf9AABEAzQAR/vgBKQDD/4kA4f+O/yABCgAoAZYBKwPgAdUBWwNLAhYEtAGWBEIE1AMQBaQDMgL9BesFSgMJBZ8ELAIlBPYDXwCPAcEAbAB7ALf/Fv+r/s7/lf0U/GX+Qf+d/aj7Rfsz+5v8n/yf+Z36RvpY+m38Nfzt+977WPv1+f77ufpS/M/8yfv/+hH/vfx0/WT99f56/xYAcgBp/WX99gC0/kUBEgBu/9IBdv+X/60AcQKPARcAjgB7AY3/KwFzAdMBoQJ+AmgBugLDAQ0EkgFiAh8BWAIUARYB4AG5ADIBJAAGBZsB9gCOAcoA6AEPAcgAvAOOAb4A4gAaAWAC5gHUAGMBnQCj/z8AMf/ZAcACgAGAAS4BtQB8ACcBowINAUQCfwL2AOoCSgBmAOAA7AGNAA8BNwJWAfgBdAD5AG4A6P71/9T/6/8ZAB0AYv1E/0T+Kf/I/ZP/Rv6bALf7//vT/gj+pf2//BP6Gfu5/fD7OPxR/hj7kv0H/Wb87f22/iv7qfs5/qX+Ov1U/i/9zP1T/SL8L/5U/Zf+oP51/tL9Cf4JAIUB6f2z/nwAYQA//qf/y/+a/4kBvgITADQDcgNAAV0COQGPAqoBewDQAVEDBgNfAnsDdQL7Av8DzQK/A3sDNgSaAaED2ANxAo0DRQJrA/sClQMLAkgCTgEpAjQAJAADAOn/AQH7ABT/cP9v/nH+wf59/+X+3f4g/rD/+f4xAN39nv0V/3/+Ov5dAG39uv4A/gj/dQDs/7r/if6z/QH/DP87/hQBgf9yAeT+1/++AFYA9v9j/zoA8wC6AncBqQC6/9oAkv8IAUMAvgK2Acj+bwAhAUf/hQHM/1EBHwKoAFT/vwEIAV3/VwBoAbUBWgFFAgIAdQG3AtgCev31AIr/HgIVARAClP/ZAK3/2P6EAB8A4wDwAEwAdwGmAB0AJgK3/1ACgwDsAH3/q/82Adb/LAHX/qT/vP9A/zX+G/51/n38Iv9O/J7+q/9v/az+Qf7N/kr+s//X/FT+ev7U/xj+0AATALj8JADiALX+Fv9Y/gv/0ACk/zr+w/5P/bj+uPyp/d78yfww/qH8a/yL/J77AP2x+5P+yf06/tT8a/5//Yn8rfwh/sT83f5i/hL/tf6C/l/+LgDeAbUARv/gAgwCPAI8BLUDvgOHAVcE5gP1AgwDagMkAc8DMAQaB90DKwRiBXIDOgM8BFEDEgRIAcYCRQMzArECHAG+AmAC0AB5AB8A2v8gAaoBUv/W/oMANAAd/TwBh/4EAKz+Ff/1/yH/UP+m/3r+VwCoAD//Uf/J/5QCT/9J/yUBIAFmAWEAXP+BAeAA8f9PAXAB6gIdAp8CRALtABUAxACm/9IBEgEwALn/BQDg/4oArwCfAHgAUAAEAV8AJgFMAvIA0f2fAAv/qv7J/+EAAv8m/sn+p/5vAET//f0W/kv9zfwq/gn9yf2l/538pv/5/qn9Mf9o/cL98/uI/nT/fv2I/3n9iPxQ/VP9pf7P/ZP9OP+L/Qv8yv4c/QP+tP5z/jkA8/2v/ib/Ov5d/vQBTv8OABUAy/9w/u7/7/65/oj/Gf/F/rP+/vxW/4r/sf/M/RUCSQEx/0MBTQFdAGsCNgIwAHYAMf66ApgA3AGcAmkCvgE7BJIAogEmAj4D6wFAAnUDYAEoAWwD9AMWBHoDhQKOAAUDEQQyA6ABuALrAAgBzwImAgEDmwA6AmYAkAGAAU4BYQGj/xv/dv8H/iz/egAoAK0AJf++/9//dgDcAO7/4f7B/wcBFgBu/5cB4AC8/igBVf9c/7EAYAD5/yACTAHwAK0AsAFuAAsDQgKgATX/XP0hAtb/cQCn/qf/rP9O/6D+GABE/qT8KPzr/vj/jP4k/Z7/+f7z/iX9OP8OAEX/if46/gD+v/1q/un/A/+hAEL+8P5pANb9bPwr/5X+RgAZ/k7/2vzu/ZYAXv9C/33/fgAMARgALQBXAMn+5/4AAdMB1gCa/43/DQEY/4QAMADBAM3/Zf2kAIn+Kf06/iH+Kf/V/Sz+of7k/7n+AP/e/hAA2/8XAcj+Wv/m/0AASQCsAukB2gAIAs/+EQD7/4YCaAJYADAAEALgAfYABwH5AOX+WQBIAMUCsQE3AkIDoQE6AgoBsQCfAuAA8gLfAq8AnAC/AJ0CDgEnAcH/2v6DArEAnwB6AEj/7v4OAVAB4v9BABUAAAClAG3/a/0N/jD+bP7j/gv/RP5Z/oj/Gv7K/ub+Mf8tAIj+Cv5T/4MAegDdAPn/qP/C/03+pf46AMT+yf/OAEj/PADy/+r+H/5e/mf+Rv/dAKb+WAANAOz+2v8W/6cAAwAO/5r/eP/Q/qf+8f7e/eb+Yv45AG79zP4x/W/+8f2JAN3+A/8s/bj+tv37/nL+wP4J/uL+n/7C/t8Axv3iAbYA6QBp//8AxgADAMT/6f5hAGb/pf6s/wP/mAGp/rf/TgA3AAgB+QAbAL4BowEKAHsBjwCa/1gDTf8XArEBr/9cAXQAmALMATQAsgBXAY0B7P9kAdcAL/6/AVb/2gOzAoUBHQD+/kkASwDKAXsBQQFvAN4Axv8eAQkAV/+L/zIA3AFKA2n/rgAkAfUAPwHCAGsBBACMAKABYgHLAcb+AQG4/wD+HABO/0v/TP/+/lT/iv7b/U//9v0BAJj/2P6M/YX/ef/0/en+Tv6//eL+ff5e/lP9tf8Y/j7+Mv8M/17+Xf/o/pP9Lv98/af+3f7l/hoAdQC//pgBQwCnArgBswF6AlAArgC0AfsAQwEPAKcBTQLEAcUBaAAtAP8AQQGwABoB1gF3AEwB8P9ZAKX+fgKtATP/cP7mAPX/gAD7/l3+g/9pAJ7+Qf8Y/qv8HP46/gP+0/3v/ZAA0v5Y/zIAe/9f/+z8o/6c/kH/w/so/sT+MACh+4f+5v9R/gL+q/tV/Uz+S/7y/pP/Jf/O/iQADf89/1v/zv+J/RkAE/+3/rz/p/9NAE4AjAAPAMQCSQOtAlkA/gBGAQMCAQIaAQ8BFgLQAs0BDwM8AoEDMQEuAv4DBgIZBTECwgIvAoABkALIAl8DHgFxAwMCcwL2ALICtQAtBA4DtgB3AKz/9P54/jYAXwCn/HwAewCk/bwA+/2V/H3/IP+0/rv/Hv9X/lb9A/43/Yn/Y/99/cL8hAAX/gT9W/7j/bf/Af7M/vj9OPzq/b3+Ov8o/WT9wv58/Sf+i/2q/IH/Qv6N/gf9Df0g/cb+E/8B/1EAhv+C/5f//wBUAMcAxwAvAL39jQCUAWkAy/5JAZcCIgKlALABjQFBAfYCyAKPAcIBIQPtA94EEwUIBDEFgQOmAvMERwKaAosDaAIQBgkCQgPrAjgDj/8YA5L/JwMMAosA4v4AAasBwQB/ADIAkP/K/1IAfgFJ//3/ZQC+/63+rf+V//j/wv1X/an9a/4d/rn95f6h/ab/1f7A/A7/Lv8X/T3+Tv0i/gL+c/xG/R38pv8H/oX+Hf1x/nb9fvzl/R38t/uk/t/81QA3/p/9xP9ZABcB8f+bAD3/rwHeAj8AWAEjAIgBeAEeAdUARf++AlwALP/OASQAsgAw/y0B3gDh/xgBUADu/9gAvP5WAdH//f9tAEf/TwFfAC0BwgB6/zb+IwF0/9j+af03/+AAf/7V/gYAPQFL/wQA/AAgAeABEwAgAfEBaQHr/8IB8wBS/zkAOAHOAXf/3gAWAVoBZgIAATkAbQGGAosAZP+dABAA5//4/yT/Lv/Q/7oAqACiAN8BDgBuAO3+Cf+X/9z+WQDH/wgAXwHf/38AKwFDAgf/oQDB/8sALP4QAIj+VAByAHoCggF9ALAAaf9rAjoAOQA1AUoAFgODAdYBUf/h/lUBZgGe/ysALQGoAMQAzgDkAakBuf9oALT+gQBx/5H/FgAq/vb+9fy0/Tr+/f4k/sD9O/78/1b/pv5W/3z/z/1B/h3/Mf+nAKT9Ef9l/vb9OP7d/6j+hgDr/c/+LwBcANv/HwDA/rH/k/w//UL+0/4e/+T9sv9B/Un/mv6v/Gf+FP5b/kP+ywD+/1j/RACt/n0BMABGAVkAIAJi/3L+8/2WAED/HgGb/bv+IAA/ARgC3P3iAHj/qv9vAqgANAJoAJL/GQD9/jQAFP/XAEYBEAHnA+sAYgD7AJ8BOQMTAGkBsP+VAnD/+AEcAmkCBgJ8AIAA6P9vAcMABgDsA5YCGgKsAIoB+P68/8gAxQABAcz/Rf9bAeL/WgHh/1wB7v5f/qD/AwAu/8X/Tf4e/p//AABVAHL/DQDN/vX/OQBqAJT/GQBAANf/6//mAE0A1AAQAUP/0v5g/5z/fwCM/4r/FP/D/+7/TQAY/oH+ff5B/isA4/8oAMr+tP+y/9j+s/0M/mb/tv8OAdv+8P0lARz/4/93/1ABYAHiABkBgf+gAKcBuwDQABwCrv+h/4IAQAFCABQBvwA2/hwBGAAUAZ7/Hv6xABwBLwEkACYAcf8XAMD+oAFCASj/qP3T/8/9Wf9L/pkATf6o/jH/2v8GAd3/gf8DAKr/6APlAAYBxv7iALwBegH9AKQAi//TAUIBdAErAbn/pwDgAAICUwGTAm4AcQD9/VcB3/0C/w8AcP4Y/xv+EwCv/zD+cf9v/ev+e/3m/nYAjAD6/wb+hP7kAIX/RP6/AIYBGf9g/14BGwEI/5IBwgFf/xsAqgJQAi4C8wA6/psBbQCxAE4Axf8r/oT/Cf/t/4wAQwDc/db96f6y/hEAGP0r/nr+u/+F/rYAB/4M/5gBdf+k/tAAVABDAJz/DgC+AVQC8gCD/wIA+AAvAKgAjABpAHsBcwDpAKMAnQBRANAA0v/E/zEBkgFLAQ4Bpv74/yMB8P+6/2H/CwDjAOD/8QDn/z3/DQFG/5kAiQFnAfQBUQBPAXcAXAGSAM0AsACrAdsA8wDZAJECUwG2ALH+0QCx/6EAOf5x/xYAb/83ALgAFACx/yIBYwFq/1j+1f6J/gn/TAH+/f/+2wC5/7f/Uf8M/23+WgABA7b+Nv+7AUT//v78/0T+gAC7AKv+tP6HAE4BLAH1AC7/cgER/2r/vAGn/7v/i/+K/zwATP/q/47/d/6z/of/I/6M+2T+3/ww/LL+tf0vAJ3+pf1b/Sr/nf84/w7+bgAf/mEBaABlACICIABUAewACgDb/34BkQFJAqMAOADCAAsDAAC3/q4CrwHs/7YAywIqARMC9wBKAJ8BRACa/7UAEwKf/9r+Of8LAB7/0P6m/jkAAADk/nb+Xf7lAO3/QQDK//n93fzZ/6wApf6wAPAAGAIGAKL+OP/YAkP/5QBwAcAAiP9u//z/WQHYAi4A6/+OAL8BQf+u/w8BKwCZAVH+8/7W/hP/Xf88/yz/ivwE/rr+O/8J/iz/qAJC/6P8MACFAC0ArP4JAXn/tQDNAs0AnwEV/24A3gKz/vIB+gHZAAMB0QJtAQIC9QDGAEwB2P///4IB7AB3/23/MP5X/6L9If0p/+7+4v4D/7L92P6F/oT9K/97/wr9Hvxn/xz9ov1r//D+KgBn/v3/If84/8398/1T/jf+0v8TAX79cQAa/u/+BABt/TH+e/8OAbL/dQD9/wQCpv8jASsAaADXADgA+P+nAc3+YAELAYYBV/8gAXsCLAJ+AkUAugLkAVQDFwLAASQCbQIDAroBowLHAdoCLgIdAdUCUgK8AV4BQwKcAg4CRgDj/9//FAGy//0AZACA/U3/TP4A/2z+7v6//i3/q/+h/I3/sPzS+9j7q/x3/rX86v/W/i/9OP+m/43+Uv83/usAcgA3/wb+xABtAIgBRAAaAZ7/jv8m/i4Au/7q/5n/xv/Y/5X8Qf4u/33/7P6TAEv/Lv+4/tn/RP85AAz+qwBc/i4Awv1+/kL+FAAoAlwAOgDX/jgAwQLTAP0B1AGnAncByQGVAWEBaQPOAJkAxwIBAxME/AIlA1UEIQOsALkAVgE/AKb/JgEAAvcA4f/n/+P/gf9X/54AQf/0/Yr89f2y/pP9FvyQ/pf9S/6oACj+Tv6P/nX+kv48AMEAuQD9/tT+cwF6AWH/lv0d/nD+PwCQ/5EBLQGOAQYA+P8TAqQAB/+B/3YCMgC+/nL/Bf+g/nsAZgDw/w0ArP5h/979uf56/eAAgwC7Af7+zAFAAfn/jP89AJMAFALd/3QAq/4/AKsCAQKa/4cBIgH2AFr/DQLaAnQD2AGgAGUCEQInAVcARQC1AZYB3P4l/3gAyv+OAFkBtALsANf/fgDl/w0Az/9Q/4j+wQATAXICSv6EAcoAtP9w/xP/pwE///z/3v+b/df/pQDo/14C+/9U/3QA8f3CADj+wf2Z/af9if6L/mz79/4L/l78a/4E/D7+Nf0X/zT8MP8Y+7n+9f7+/sr8yv97/+v+9/6h/zf+fP/x/Zb+XQG3AaX/GwDjAWv/OAG0AkwCNAGbAfMCEQP0AS8BiwM9AXwCVAMxA+UClQGPANABDgHMALYBwgInAe4AZgFmAYkAnwAqAKgBgABOAJ7/Yv44ASUA0v6VABv/ZP6h/4z+3P4+/5H/kQC1AMn/CwEdBZf+VwE5Abn/LP/aAcn/DgDB/zYByAAOAp78IACe/0QAxP7Q/kIBpACP/vz9OwCcAHH9Nv6K/xL7NP5S/BL+kf5k/lP+vvxu/TD9p/04/+P85v/5/jn+nf0Q/sr81vxa/uj9o//E/wD/Av8TAPoBQwBZACgBuQLYATMApwLaAHYAaAFEAvj+ZQBSAiABfAD1/4QBtQE2AEAALf8NAu8BLQE2A/wBhwEPARUAeQIuAnb/wQC0ANEC0v9GAHsA1wDv/tkASwD0AQoBpgAoAA7/Ef5LAPD/VQDt/5D/uAGz/7cBPgAo/34BrQDK/oz/CwDm/uwAKALwAH//9v21/8MABf4KANcAtACGAfz/E/8FAf//8f6Q/jj+jv3B/6L/Yf6Q/wX/jwDa/vb9AQDt//f91wDt/xH/fv8BAC7/bgC4/jUBiv3SAGgBsv/FAMf/Gv+r/1oAtP6y/6v/vv+v/kL/IgAh/yEBkgBvAY7+QwGa/WD+Ev92AE39hP51AEH/ZwAhAFcAYwCtAjAAvP+AARX/MQF4/7UCWQGCAEgBXABFAJv/8QDBAPT/LPz2/9T/CACY/0D/7f9mAez+Nv+d/4EBdf43/AkAHv/o/+D+Jv8p/67/8wCGAUMCzgCd/8YAQwCQAHsAQgPXAioCof8sAfn/dwGzAP3/3QBLAs0BXP9kAMkBcf6qAbn/mgA0/qX/1v7r/8r87v6C/2v/zPx9/pL/fACe/wAAsP4o/zIATf9fADQBDf8bADb+F/4cAWgAwACnAfz/RP8AAEn//QBF/tMAQwFoAbsBMwJWAkkCqAArAGwACwJA/wAASAAJAIUA7v+j/wz/Uf8HAEn/oP8k/sD/0f71AML/Cf/tALD/dAEx/2j/Kv2r/r/+rf9tAGD+if6P/6T/oABn/30AVwH8/3UAfgLyAK8BXv+L/zr/LAHEANT/IwI2AdoAegElAggApgDy/7wAbAGqAZsAagD5AbUAmP/cATkANf/HAPD/3f8i/1X+0v7G/lf/LQAy/5L/Gf7O/LX9Of+//Xn+z/6k/ZT+5ACT/8H+7QHb/83+ff9lAKf/a/7i/xwB+AB4/ycBjf9mANn/Mv4IAk4AFQBQ/579P/98AP7/af6uANgAIgFD/dYAUAC+/9X/jwD1/+D/KP/l/hn/aQBo/4r+Of/i/2YA3Pyt/1r+vP4V/pMCqf/QAFMAAwBH/h8AgwA6ACf/NgEfAYf+ov/8/7UAo/+v/c4BZwDAAdQANQFm/+YB7gAqAV0Bh/6qATUAEAASAlYD+v+2AGAC1wDoAAIAJQBfAMwAtABi/x0ArP+sAIT+Bv8nATgAuP6w/jwAS/6V/f/9ngAAAAr+Tf8xAQz+xv5RAN//c/51Ae/+/v0e/4kATP+1/i0AH/6t/wAA0f6fAMv9P/4HAMwAswAR/5r/tv1UAPAAEgDq/xsAYv8T/zAAj/6N/8b+YP7h/Qr/Jf0a/+v+n/6n/1QABgJs/98AZf/yASkCCQG4AskBsf99/+kD+QD6/6cB/QCTAOAB7ACoAAgB5wAQARACIwG3A/0A5P9HAHwBKwAp/wb+R/+4/TQAKwHlAOn+iQBpAW7/OgALAZQA1QDKAXoAawD8/rj/kAB//5oBU/9t/60AV/58/5P+H/6L/+z+MwDa/6j+9/9F/hT/AQHT/07/s/8RA8n+6P9Y/QH/Mv9u/W7+tf33/pf+wP4uADkA1f6nABAA5/8RAHEBOgDZAKsB/QFDAJH+ff9MALb/JAEU/x0A+AALAEgClwLD/kcAGgCaAVcAx/+bAVsC2gD3AC4At//a/9P+8wC3/j8BfQBT/uECTQHIANUBhf/A/1sA4P/7/wAAI/7p/sr+FwGo/qX+MQFJASz+5v71ABn/r//I/kX/9v6wACH/YP/0/6MAUwIaALv/v/+WAfn+tv4HADABSwDHAFr/lgBAAKoBGQAwAPn/KP/S/13/VP4lAAAAVQCZ/zkBH/8W//T+GP8aAAb+MP9xAN//fgGR/+r/OP8GANkAwgBCAL4Abv4RANICUQF2/8gAKgC0/xcA8QAU/wr+ygEnANYAyADd/3f/AQHz/u7+4gHp/mIA0P/R/YL/mv5R/hr/8v21/+f/zf/W/lEARwCq/77+/v7i/8D/eQGOAWT/f/8E/8n/gv9X/yz/mP+n//P/5v8gAZAB5QDn/ggAGv8BAPb/3fxeAJAAvP47/6H/3wCuAbMBaP7JAeICNgEkAEAAfQFcAIv/xwB4ACkAnQMTAZAAGgBRA8j/hQCbAegAqf+6ALcAuwBy/w8AUv7z/ggB7wCgAU8CLf8rAOn/lv5+ALL+KQFM/4EAzP5CAZj+4v5HACf/a/7N/sEAxgESAH8AJwCsAbv9YgDh/BMA8v+I/8P+vACYADL/LP6WAO/+rv0l/xYAz/7C/UIAD/4PAEwArv43AIn+df60AOz+4f7WAP/+LADJ/on/vP8EAML+gQGm/zgAMAC+/h8ANwDV/2oAUgA9/2UA5P/t/ksA+P/e/lP+dQDzAMP/bf86ANEAFgC2ANr/tABFABoAfP82AKn/fwAHAlkAp/+q/3oBvgErAAcATQAAAeAAQP+MALgAzwFcAaD/vf5F/0EAtP4A/8oAw/5MApMAVQHIANgADwBoAA//x/+a/5r/VP96AFUAwP7l/0gBMv7dALf/v/4i/w7+1v7rAOv+ggDXASz9hP4gAF3/0f2oAGn/5v+W/yUAkADz/wYAyf/2/gAAlf91Aer9WP9zANL/ggIHAA8AGgBg/4EA+f8B/1b+SP9C/pIAfP4p/gX+nQCx/1kBogBD/m4AW/+vAA8AJgDk/Vz+DwC0AAX/OQFRAPv/5P9VARX/rQBHAVQC2wG7/lUAPwBj/Xr/xAHdAB8AUQHxAPP/bQCPAO7/sQAtALUBlABZADX/PQBSAOgAYf81ASEAagBC/4L/yv4v/xYCwP9/Ac3/qf6oAEABt/+S/lP/SwEqAMz/8f+7AKkB5P9hALb/4gCV/yMAXAG+//AAPACG//3/6v49///9qv+FAPX/Lv97/6b+0ALjAEcACf4iAYz/sP+7//j+GwDD/+D+ZwC9/zT/kAA+AZf+6/8gApwA3f+K/83/PwGx/4ECXv8LAFsAWf9x/pMB6gA//8YBRv6Z/zgAWgCm/RH+sgG3/mn/mwBBATr/7v9Q/9//2f+n/mX/5wC7/jX/m/82/5z/Ov29AGIAzQC8AWT/tQH7AFYAYgBqAB8BGf8g//D/zP9N/xQBhv/E/+4AhP9cALT+AQAm/0kA/AE3AAEBAQGzAiMAfgF4/2UAqf7dAOf/RP9d/nEAif/m/1/+lv/XANH+mgD//bn8uP1f/vb+3f6e/zf/nP9A/wD+gf8j/3AB8v+sAWr/K/6M/zcDlQCnAEgBjQISAV7/Sv/w/3MAgP+BAfsANAEoAHAAF//t//f/TAAz/2wAxgFrAMD/5gEJAa//ZAD2AT7+6P9xAGb/xP6cAY3/pP49AKj+lP58/wcA5gEu/3UAhP5w/5IAfwD6ARQBXQCs//EAj/+G/2gBWP/Q/nsADAHV/tr/Dv/D//gAsP8OAYUAAAAMAE4Bev4WAqj/RgBY/+3+L/57/4gAw/3R/2f/KwDV/ukA7P9b/57/+P/B/lj/dP9cAFAAnQAY/icAOf8MAJcBdP9J/y7/+/82Agf+s//s/73/nAB3/y0BQwCq/w0BtABBAMv/9f87/6wB2f1cAbH/ZQGl/08AeP8zABYAxQA9/0v/JP+n/wL/v/6g/5H+G/+L/1j/4v5m/8r/5/63/tb/Sf9LAY0AcgA/ADr9vwD4/jP/gAH9Aev/SwA9AkICFgHPAO3/NQJJASP/fwDl/+IB2AENAx8BcP9t/1MBCAFIAR0A7/77//D/4f2l/xb+igBbAh8BjwCEAGz/2wBrA3MA0f9CAfb/2f8QAYAA6P45AKMAof7i/gMA0/yH/VD9+/8FAKsB+f8lACb/HP9N/f7+jwBj/tL/uv98/s//hv+D/gH/ugAkAEP/+v4tAJ3/pgBO/4EACQCVAMj+4P4k/43/8v4dAGD/8P5W/9f+3P2m/zoAXwAN/kkBbAC4/tj9NgF7/4v/WgAV//b/Xv6a/j7/agIY/60A4AGo/un/JgDWAP3/fv82AOn/bAH1/xYAPAEU/4sAzP5S/4gASQGmAOr+JAAjAW4BYwC2/0AAf/9TAFIBEAH1AaEAZf+//6MA0f6hANL/bf/c/nX/dQAb/mL+rwB1/tf+ugCL/+v/UwDN//z/cgCdAp//AwDK/3r/cwA7Ac7/i/8wAJAA2v/yAAUAtf/w/zn+5/7v/wsBU/5//zMASAB4AGQBIACD/wkBqv9VAPP/OwIV/7T/lQEx/i0A0/9DAPL/Kv/x/jsA5P1y/4IAnPx1AvX/MgEeAdQBsv/+AJv/EABX/5j/9wB//un+bwB8AZ7/qQHM/rP/MAJQAB3/UQFFAIwAEwA/ADQBpgP8AM4A+gE3AVgBV/7AAHIAfwFV/8sAJAE0/wAA9QEj/8j/uACWABT/JwBQ/1YAB/+X/7j/0wDD/3UAZgF6AVMAuf6F/88ANf9r/4D+b/63AAj+MwDG/6wBWP6l/mf/UQGwAKn/K/33/7H/4gByAE//3QCFAGP/T/8lAK4AkP+z/+3+Xv+AAMz/nABC/gUAz/86//T+nf+l/Xf/Lf/K/z3//f5IARn+GwDX/5gB6v85ALv+UwDAARX+8ACD/wYAXAAOATUA5ADIAfQAEQCN/6L/G/+j/9z/aQCX/zn/zACm/1n/UwC0/j8CvgK7ABIB8ABeAbb/aP8LAGMAzP89AoEAOQA3AXD/OQBs/l3/xf6EAF8Aff7mADMATQAg/gj/mv8k/2IB5f81/s0A6QD5AbX+KgGj/gEBnQAnANwC0v8z/mT/bgDJAKP+ZQG4AGMABf9I/+v9HQFU/4z/+QLN/18AbQDd/YgBtP+Q/iv/kQCu/9b+mwCN/XD/iv9R/j4Bnv8EAXj/2v/S/0v/Rv5m/5P/XP9k/2f+LQBSAIcCiAClAdz/aP70AKD+3f58AHH/vf9e/+f9iv87AWwAMP9g/wX+jP9i/z0Al/7B//z+YfwAAG3+eACb/oP/4/7g/sUAU//H/iz/SABm/+T/f//u/7X/QQGA/vIBOf/eAGIAqv/aAdv/JQMCAUb/QADC/zEAegC7AM4AdwBw/3IB6gAYAOb/KwGrAeb/7f97ADMAU//R/5sAev9mAcoCmwCq/0EAi/2l/wkBjf/9ADT/CgBdAHj/WQD5/vf/Mv5Y/8b/f//9/UX9sf/q/8f+xP/1/aL+rf9HAN4AYf/Y/YIAtP/k/f7+I/9X/x//Dv/u/T3/tv7m/yf/nv6l/Yn/2v4s/4AAdv98Afn/xwA9/9IBsv6hABkCjwEtAN7/JgMZAd0AFgCyARgAbQCeAVoABQLZAe4AbgHrAZABAgMZAOwAVQJb/wICCQIqAZQBnQCQAbD/5wBL/cQAUwDh/ugAh/9i//T9Uv90AGj++f68/j7+RwCF/Yn8rwFJ/03+nv6G/aX/fwG3/+D/Z/+Y/93/AQDNAG4A6ABAAP0A6//1AMMACQN5AYD/SQK/AIwC8/7x/xwB3P+u/xAC1ABE/ooBqgDy/l/+zP55AUsBhwAfAN4AWP++/xgAzf+8AN8Byf9ZAScAiQDo/+T+zf8W/yD+AwAw/5//rgAwAWMAHAJk/l//awC//8MBDQLO/xgAQQK9/3UBkQFYADMBEgDBAj3/1v/O/6z/fwEvALD/7/5q/6r/oP/N/0AAqP8z/6n/2wC3/7H+HwCL/jL/tfxw/yr/cgDD/LT/nv80/qoAd/81/m3+2/3Z/9z/rf9+ABD/JQH4AMz/XAAHAUsADv8D/tsA4QGdAQMAlgCy//b/9QAXAW0A//8c/zIABABUAWr+GgBr/Xn/NQGL/zkAUf8pARj/A/+xAKz/PQFY/9P+GwC3/RAB7wAZAToBHgC5ANwADP9fAtn+igElAaUAN/58AMgA4ADy/Uf/XAEUAXEBPwD9/+H+DwEeARQBPP8PAL//KgHqAPj/PwH3ARMAJAF1//UAPv+x/iwBkP0d/33+RP4jAGX+7v+dALoAjwC6/rz+kgGG/3X+e/42APwAFAEw/4oB0ADp/hv/mv+k/00AJQCs/8v+Hf2D/yUB4f6n/9T9FgDU/nD/9/7M/0r/AAFbAFIAJgJ6/v0BNQBZAE0BQQDSAM8AugAgABn+QgAL/xMClgBaAKv+lACcACkBW/+B/0cA9v4MADoBjP7WABoAjAFG/1sB1v7M/cIB0v4FAeQA1AD7/lr/zv+d/7MBSwAt/hQBGAFP/4MAqwGcA4IANQCQAMACYQENAQYBzgEFAbMAQP9sAU4AuwHq/+EAQP5T/sf/kQDz/rsADgAw/vP/wv9U/8gAUP+1/i3/PP/2APj+S/9S/W79rf5P/qn9k/2F/kv9K/50/dr+Z/7C/aj9IwHT/nAAl//UAIz/LgJ1AMIByv/JAJD+ef4rAbAAAAHTAFoBFQKMAL4AXgNUACcBEAESARYBYwNiAqj//v8dAyoBhP8vAKIBPgEH/wgAdwEG/33/SQDFAaj9Gf9FAfP/7v/A/iD/ggDE/zX/Nv+V/5z/XgD1/7IA0v99/0UAnwHZ/0z+sP2jAXT/xQE3AMn//wHe/wAAKQBYAHEAkgEKAasBQAEtAPH/3P4gAHsAIQCN/5AA9wAS/w7+U/5L/nn+EP1i/ab86v7T/UH9af2BAL79sv+0/tsAKv0KAhD/W/2U//n/1v/ZAPsBSv/a/s//if8cAVH/Yv2RAEf/nP+NAAf/bgFAAAsAq/+C/oEA4P5i/7//XwBJAPr9HABAAOj/uP9QAJwBawFLATIBfwBbAjABwADAASID6QF2/7sAfQAIAJ8AygFtADX/EQDiAIr/YACB/6v/qQG3ALf+af8rAKkAuf8D/w4Cnf5h/wYBm/4dAG0AjP8XAN//P//DAUn/P/+M/879oP8z/pD/5f5s/un/vv7+AhoCTQAE/5IAnv9//7EAT/+1AD3/4P+x/Vz/L/9DAHECif+9/9j/AwB2ADMA/P38/mL/owDFAdj+sQCS/ZD+VP/8/mH/EQCw/zT/k/4h/mb+EP4V/0P/VgETADcDpgAKALYCKQEYAd8DNABMAY0CdwHPAC4BzP93/40BPv+aABcBgv+j/qz/tv74/twB6v+FAKUAWwDg/i4ATf9NABYBvgBA//kBQf9mAGwA6f///4sA9f+nAOX/fP1y/9sAhP6oABn+zf3PACUAJgG1AMsAnf+GAdwASwBQAIIBUAByAcIAIAC6ADoB5gCcAcwAaABkARMACQBr/h//AwDd/rn/SQA0/c4AWv4T/t3/RwCE/pb/qf7E/eT9k/+i/zD+mP93/kb+Rf+L/q0Alf5u/PH/8QDR/vL+UQBS/2wARwD+/+EAogB2AGABkv9JAzsBCAE9//0B7v5bAWwBxf7T/oQAWwCsAHMApP7c/+7+VgF5AgcCDAEJAakC7gGWALUCCAGHAocC8v9vAakA8gDhANf/vP8OAboAz/94/5r99v/J/wj+XwA+//j9BQCtAFj+g/9LATL/NP8D/6IADP8DAMz+7/8CABoA4/6S/7X/qv/I/9cBigCv/30BngCK/3T/e/1N/979QwAZALMBwP8kAEn/Bf+pAKoBnP88AkH/bv9pAZH/hP5m/wz9W/+y/tX9Tv6h/4P8Uf7o/VP+nf9F/xH+4/8d/SoAY/5YAET/h/+8/wUATgDt/+D/bAK7/bv/lv+b/y8AAwFq/6YAXwAPAdf+tAHH/ZAAjACHA6kAPQDNADcC0ADN/Xr/wgAyAVYAtwCa/sr/RgEP/v/+6/8HAlsAxf6MAF8AYwCIAPT+CgBf/nQAdACN/gwARwByAHD/UgAk/vL/x/8S/o/+TgA2/6X+XwAh/yIBjwHm/qf/8P/h/2UAPf8ZAbcAGgH7/1j/8v+qANIAf/2qAB7/AAB0AL//YwDu/0IAHADT/8n+6/4Q/4n/tP8D/cEAewDP/4L+nAF1AI8AggD6AE8AigAbAt39TgCWAK//twFDADQAmwEH/zX/rP+cACsAhf/i/0X+hwC9/2P/bf8k/XsA9/+q/sb9e/9tAPwAQQC1AAEC8P+V/rYAJQG1AJgAbwB7//YANwAzARIB/QBRADD/PP4EAAMB3/6jADoAJP+J/k8B2wCm/vQAlAEzAIgAQQCa/fb+yQBK/7b/ugAB/+3+xf6m/yAANwBk/dH/R/8eACf/AAATAFAAtv/rAGT/mP4d/40BF/+dAAYADf6/AA3+5AFXAQACSwFVANcBnwJk/zMDTgBDAKn/kQDCACsAggBtACoBU/7o/VYAT//y//j9Uf5eADT/zf7i/pv/JQHp/3wAWQCZ/mb/0/4g/wL/aP/o/KP+OQAcAaEBCP+AAVsAfv+J/4//YQGWACX/mAD5/rABhwEjAGsBXADQ/yIBogFb/64BGQH6AG8AYwIg/2ABJgJoATIB7AK1AA4BGP6f/2v/qP7xAYX/6gCF/Yj+2QBL/nz/Bf/7AOwALQAdAewAHQEZ/3j/EwB1ADYAVf8/AKr/2/3AAHgAdv7KAHP+Ov+T/kj9tgCP/n4AYP62//v/yAGU/wD/1f5B/sMB8v8k/vX9iP1T/jUA9AAUAFj/8wAm/7j/JAKQAhD/8vxe/24BvP4RAPABMgFg/i4AKQBPADD/Cv4K/kkChv7s/74ApgA//+r/IAEuAF3+fP1JAjUAQQBF/yQA+/4L/3r/yP/Y/8n+3wATAVcBt/+rABD/sf5w/wD/Xv6vAL7/fgAmABwAU/6k/8sAhwBFAOD/uv/3/4EAVwJx/1gB2QGiADMBywArAnIAuwDG/hIAwwC7AOP/gf9ZAsEBugA6AIf/Bf97AB4Bs/7x//r9/ADE/0f+Xv8ZAM3/x/0I/7j/LP9i/yz/RP4dAcIAigA2/3wAVP/n/7X+eACNAJ4A8P7//4r+ZQL7AAz/AgAu/87/sv7e/n7/9f6J/7H+Mf5b/10AK/4qAdIAyAAaACMAIwEWAc8AjAG8/zAAnQBkAdYBXACNAez/dgDRAGn/iQBgAnUAGgBOAgwBlgB7ASwBB/8OAeL+BAIwAc0BtQCnAJP/fwAUAKL+ZP49AZf/kf/Z/9T/UP5y/CcAKf8CALP+Fv6U/3z/2f5S/rsBfv4T/3L9df9f/XX+CAF6/R3/vf8i/jf/xwBrAEz/Mv9eAsL/9P7MAcIAuQBGAHUCXQBRAEwADgPjAGcCXQDmAIv/+/+5ACICQP/AAbT+cgCpAMcBhQFYANz+0gC7AUcA1wB0/68ASABh/1UASP7ZANr+hv5pABYAnv68/bP/lP+7/x3+vP+sAIz9VQFi/sIB+P+6/swAcAAMAuIAggHSALoBkv8+/ycCcQGG/8b/PwGd/0AANf9NAewApQCv/+r/J//4/s0Aov+w/wIBv/0H/0z/pwHt/8EA/v2IAJ3/Vf+Y/xABcf6BACH/GQHBABj/dQCDAjwA/f53AQv/Ov8iAZsABgJW/3IA+/9a/7f+cgGm/6D/UP/1/Yj/5P/UADkBwf9V/vcBYABE/8ECfwFcAFP/nwDD/78BC/8T/10AHAFSAIsBi/2VAFL/ZAD7/xv/aP/cAHD+ngFqACABdgDx/3wCMQCyANv+aAD///YAh/+ZAZr+2P5o/68A0P5q/o79h/6I/mf/IP7B/zL/e//B/jz/DP+jACMAsP2bAOn8w/33/xAAcQAB/+n/rf76/7v/df9R/7n+WP4WANf/jwA2Apj/iv4aANT/oQCg/9D+1ADF/rD/B//PACgA7v9eAdT/D/8JAaD/LgDuAC4A2P46ABsAfgAg/8AAlwFRATwB9P9AAFn/OgF4AKkBIQCu//oA8//UAVMAzgAJAk0BhgB3AbX/RP+l/5f+QQE5AGUBnwCg/zQCIgHkALEA8P8AAKv/VP/8ABD/NAH5/5D/V/7d/UYAAP7u/CIAy/6uAAoB7f/O/xEAGAEsAZYC9QCe/2z+s//KAAIBaQFTAAX+bf/Y/Sj+6f+9/jj/5ACWAF//RABk/zX+uv6N/wAA/P+TABoAkgDvAZP/qwBzAMEAaf+V/3IBXQEI/6UBRv/RAGP/Tv/q/wAACQG3/0gAy/+EArMBdAAsAXD/Nf8pAbkBP/+u/5wBZ/+e/1MBDQM5ACsAbwGTAGkBtwEdAeAB9wP//+r/NAJvAmf/ef/9/tEAJQLhAcYAewEjAWb/LP1n/xX/R/8s/4P93/5g/qv+KgHH/mj95v43ANn+5fzO/Yb/+v1w/1cAhP46/4EC4/+X/yT+kf/M/nf/bv/A/7IA1f9c/4z/LP+//rwByAHo//z/dwBCAVgAPv4HAd0AIv8SAY8AAv/3Atv/aALHAEoC7P8sAlICMv/g/9X/iAD0/1YAm/86AKH/QP0y/2P/of4a/8gBNAFu/1gBGf8y/6T/m/4//9L+pv9AAEv/rgBc/yoC8P4wAaD/EP9aAXn/BAH3AMEANQCgAAD/Rf9oAbEB+f+T/zkAFv/W/w4CAQBs/sL/tv5o/rwAQAGRAJj/xP75/zsAqP9S/5j/v/4V/67/FQA3/93+7f9+AKwApgBgABf/mgEEAU8Avf57AMv+egAv/2YB5P/RAU3/sf9o/+P/3/6p/9v/DgDJ/y8A2AA9AZIAsgG9/kv/kQDsAYAAfwD+/jIChf80/1MBVf9FAU0AowCI/6f/tP+tAIr/Uf98AOH/9gDh/nkAjwCsAEcASADm/33/7gDF//AAVQBvAAQBAAAb/28AAwGpAGD/Cv61/Rf/BP8Y//IAcP8j/p3+/f5W/VH8sgBpAMb+igG5AO7/+f0h/4v/Z/8P/t4ABP6D/0kBPP9V/zQA1/6J/7r/pP8SACUBLP/Z/kYALAErAVQA6QDFACcBNAHh/vf/yP8l/0wChABWAE0APwG9/ukA3v7z/3gAEwLu/ZgB0P8sAO7+PgFC/9r+/QD8AccA0wAl/xQAsADM/+L/jgCr/3oADwCBABwAGgBGALn/Zf+j/nv+4P5p/17+av9h/3wADADn/8f+OAAGAKj+k/6V/sL+UwFbAAMBOAG/AJb+dQCeALUBWv98Ab8AbgBMAEkBlv53/4wAPACA/wMBbwCJAD4ChABRAM4AqP/2/oj/KACnAHQAFAJCAKz+YwAA/y8Aov/l/hb+Ff4jAK7/hP87/37+i/8G/wAAUQBh/zEATQGs/kEAGAAKAqcA6f4pABgApwDq/jABiQCCAMcAiP9QA9ABhgGK/0kBc/9FAfgAWP9N/gQA1ABG/w//bgDQAKn+YgBp/kD/gP9DAZX++v8E/Wf+0f9cAOb+0P+B/y7/0P5U/73/t/5jAEf/ZQCk/zkBXP+OACf+AwB0/jwAxf9LATICYQBEALL/qQDRAR0BcwDX/hAAfAEuATgA7P8AApn/jP7C/jgB5f8hAUcAkP8qATD/V/+JAAMB1wCSAZYBtP+7/28Bt/4zAbz/7QAF/3MAwwCh/hP/9P62/9EAHAN7ALP/4f/5/zYA2/47/9r/MAFn/2oCNAKL/8H+nf77ANkBLgB5AdL/+gBM/qr+lgHH/hQA1P/G/zYAUv4b/l3/ewBLAV8BiP9aAN3+DABvADz/WwBs/Qv/CAAhAb3+uv7a/5n/9v/dAHj/N//Y/2P/pv/MAJABLgO0AFr/3wAaAHQBqgAyAaABrQE3AZ//s/9vAi0BtgBGAOoBmv8z/64ADf4h/uL+iP/o/rP/m/8zAA/+EwCf/03/xwA5AMn+t/8A/yH+iwBp/m7/IQD2/2v/kwDAAez+yQDyAKUBrv9vAMoAhgGsAPL+9QAgAHT+c/8H/2kAwQC7/Y3/bgD3/UYArwAaAPwA7/8jAZn+w/6G/23/Tv8rAPj+7QBkAX7/1v7b/iEA8P2q//z/zf8O/4z+IwE/AC8Aiv6BAC//VgCNABsAkP/t/2H/z/5j/cP++f4zApUB5/0cAVcAdv66AMwBtv7A/ngApQCJAcH/vgD9/kACiv+9AdIAd/9Z/14AKQI6/xkADQFv/4MAC/94AcT+Of6UADz/qf9r/gb+HP9LAMf+cf93/qX9CgGh/v7+3P+jAY4Biv8O/vj/XgBx/lsBgwAe/+ABFf82AGgAQv6MAOv/XQAf/+H+7P45AUMCCgGUAA4CXAJ7ASn/CwGvAFkAkQEhABYCyv+i/3j+UQBq/wv/Jf+w/1n9CQAIAc39DQFRAIT+0P+Q/VIAlABO/xf/PP/8/AQAIP6BAA3/mQAQABoBrgHZ/okALf7+/qsA9f82AZsBjwCpAKwAjgBX/0IAxf2ZAFkAdQDGAG3/wP4GANv+TAEr/+r+7/6pAZkA1f8M/yj/sv/uAMX/TP/mAIb+Sv9tAQYADQI3AgEBmwAqAAoB+P9n/o7/1gEWAML+4wAM/2YAKgCiAG3/XAF2/7j+j//U/4IAVwC8/+D+pv/7/xwAOgB+//L/n//+AWz/tP++//r+3P9c/sgA3vzl/2oAYf9qAQwAu/9z/8j/cgBvAG/+eAANAan+5/9iAMUANv8hAHoBoQJ/AFMBrP9gAGwBCwJKAgv/8gCT/zEACgGqANv/JP8DABcAZQGzAVUBagHAAOgBFv8rAQoCLwBl/54BGf80/nUAjgArAckAHwHr/yAABQLkAvz/ZAAqAUsAugCRAa/+mQBL/3D+UwCB/00B6v+J/5D/NQAbAKAAlQCj/+0BjwAHAvP/5gGk/+D9IwCi/6j97QGl/2QB4gCL/zcAp/1OAED/6/9GAIQAGACjANv/yQEOAUQAFQCPAPn/tv/e/v7/df8H/ioA4f9S/3P9Hf8gAOn/7v9tAXMAXAJEACABX/8lAeL+XwBS/z8AXwDMAKYAbwFZ/i4AzP/2/v0AawJDAHYBW/4FAfj/wv4P/zcA6ACBAOL+sP8H/hYBXP+u/wMAhQCEAPoA1v9wAWMARAAQAKj/UgA4/sf/r/+CALL/4ADQ/qT/CAF4AIIBZP8iAPv+KQDTAGn/tf7+/xsAmf+8/8n/GgIGAS7+Y/73/yQAEgCz/aD/DAHY/g0AlP40/hP/f/9LAMj9QAB9/TH+Uv/Z/j7/wv00/5IAX/+gALD/F/6uAJUAyP0kAEsAkgDt/5v/of/Q/i8BXAB5AcAB7gFhAA0BeQGuAFz/8wDPAHMANAIxAIf/egBuAbUAqgDcAGgChwF+/8j/HQB5AEQBlf/bAPL/WAHrADYBPQGEAHH/Gf4KAM7/Bv8jAOr/of56ApQBqf5/AHP/AwCU/5T/Wv7l//MBKP/pAOr/F/5IAJL/hv9D/wkBvgBlARsBgf9l//P+6P6g/hEAuQCB/mH+aP93AGcB+f8h/+7/o/1u/h4ALgDV/gf+DgFC/9sAbP7V/i//dQC1/lYBhwGi/0UANf8rAG4ADgFrAAAAOv/W/zUCAABQ/17/T/9h/wf+aAGo/+z/Xf7EAMYBkf5PAfABPgFE/kUAagFR/zsB/ABW/wUC9AG8/wj/ewHG/9//zP2bAAf/S/7y/yv/+v8bAUsAZv8vAR8ATf8jAKIArwC3AEAAoQKGAMkAu/+E/vj+sv4MAGcATP/D/or+Cv+0//P9gP94/kgAZv9w/nkASQBk/64C+gBq/1/+Vf+5/93+Nv+r/4n/ZQAc//gA8v+i/uIAYQGt/ur+AwFx/7D/Y/8K/1EBOv58APX+IgBEASUAbf87AFD/AAHF/4T/DwAbAl//IwBwAXAAy/5+AYj+4P4AABX/3/+B/sQAFQCfAYz/lwAdAJsB5P/SAe7+BgAhANH+5/9mALL8FAH2/ir+uwBp/2QA+v4//s8A+v+G/1v+gf/8/lX/mv4KAlcBmwHBAIgBiQHhAPb/8v6TAej/8gBv/6L++gAhAHv/zf6oAI//BQLn/+z/y/6p/3L9tgDI/1IBc//lADv+tP4WAL7+kv9B/yoAdACY/5L/sf8JABT//QFjARwAaABe/hsCKf/E/20A0/+h/13/YP9t//H/dgAQAuMAoP8SAJ8BBQHWAbUAS/+c/xQA3ADa/1gAzQCNAXcAUwBj/3//WADU/WD/YP97/zj/Sf+tAfP/OwE3/fX9sf64/gP+OgKK/7D94f9S/7X/twEaAd//gv43AWYBvwB1AKwBp//P/yj+gf9+AOT/bP12/+v/lP9z/yb/D/9cABr+KQGxAKb+LgEz/ukATv9m/hj/0QDM/1IBiP/P/kYBBwA4AH4AEQCSAHgAbABoAV4AQf+l/gj/8gCYATUApf7v/67/qQFG/0IB6gCx//7+m/79/gAAN/7CAAb/9//W//EBdgKf/z8B4wGq/80AtAHHAUf/7f4oAEEAUgAxAOL+EgAJAEf93AGkANv/WgEjAHoBp/+p/ykBqf6P/2P/u//Q/2j9/P2YAHb9MP/H/w3/hv1//VMBPf9NAMH/cwBDAl/+7P+T/wwAz/80/1ABv/+U/x8BywDXAvQAqv98AdYBJgHeAKj/Uf5nAWcA2wFVAY8A2QBhAFIAaQGoALYBpQGNAVz/RgF6/wABwwBxAb4BLgDg/2j/XQCH/4X/dgC1/1EArP6B/8v+z/9XAAv/c/9K/z4BSv/t/sX+P/6G/yMAzf81/2D+QP8X/4IADv9I/xMAlwCnAgoD3v+Y/9IBcwGb/2UAXP4UAzoA8/zFAHD/SgGyAcMBif7qAFX/kwA+ABADKwHJ/vAAfQDy/hMBIwBIACj/0/8OAGgAy/8y/ikAXf/aABL/JQALAKP/y//A/UwAZgDk/tH/SwA9AQMAOwCbAZsACADCApIAzv+P/60BKgCq/3oBcAHrAeIBKwBcAMMBkP8yAaMA4AAy/2kBsf88ACn/Fv8FAf3+PgK1AD7/HwC0AG79JgDL/g0B7wAx/Y8A/f6b/mz/7gCf/hH/Z/2W/7n+t/80AY7/if9Q/4f/e/82AEYAp/++/7n/XADk/4b/kADKANEApP6x/goCV/9+/1kATv5M/+j+eAC1Af3/9/8rAHMBPP++/8L+jP6u//j/xv+iAHb+//3n/xEAuf94/rT/QQGK/4D/iv/C/10ALwLa/g8BIQDp/t4AmQElAAQAcwDqAKIA8AB8/hIBEAGA/w7/BwCx/nIAmAErAO7/1wBnAS4AqwAu/0f/8/+1/jr+wP+L/l//i/4tADv/+QAtAN7+wAA9/08A7wF2ADIACQFWALX/U//eAHUAVABzACQAsf6JARoALAA7AM7+Mv3rASQAjv/zAD4AEgD8AEkABP5h/or/8v/P/gj/aAEc/3AAKgAdAZ7+1QCA/4r/vP9o/yoAyf7M/xEATQCD/8UADgGM/7T+agBeAVMA4QCaAI4AFAAZAdP/+QHw/iIAaQF9AXIBs/+zAJL+sABn/lv+tgAC/oMBdwBIAFP+UgA5AMsA0P6GAJf/nP9uAbL+lAHK/8b/Bf/3/qj/0f7d/2H/AwBFAcwBAv9AAA3/MABEAQUAxACYAgAA9/3q/8v+AwE2AO0A9/54/woBoP75/7IBDQC9AHcAbP6QATcAJADm/2UBzwEHAcgAPgDWADkATAFM/0T+nADb/8P/TP/4/70AdADVABf/jQCY/iH+fwEQAeD+Dv8PAQL/mv8BAWf/of8+ADj/fQGuAOMBfAHqAHgA7QGe/8X+4f/x/S4AGf9n/6//aAAh/jQBrf6fAJgAef/T/9QAtgCmAJoAOP5Y/tj/LgCqAbz+nQBF/8L/sv6CAGn9O/7x/SL/o/7R/pUAxwCAAND/+/8rARECxP6cARoBwf9rAcv/rP+2AMv/6gDt/9YAqQBH/5sAKgGEALQA0gI5ANQAbf88AMwAqgC2/8MAnv6ZAHkBt//T/nMAD//R/+z/rgD7AHcA7P7PADYAPwH2/xkADgBh/LT/8/5k/pz+Rv9i/7T/dv5X/8v+cQF8/+//JgHw/9YAWgGNAJUB9wD1AHIANP7n/+YAIf9DAW7+yAAoAFT/2f9qAAQBSwEyAMIAqgG7/xMAdwGu/tkA7gGw/27+CAD7/qQA1f4WAdMAlQFM/0ACiQAYAdAAdf2LANsAu/9I/i//4gB5/0gAUwAqARYAKwCc/67/p//D/lcBOgIl/13+MgB4/m4A+wFLAXz/9f5MAHoAIP1O/w0A8f+2AIAAYQEv/+P/fwLd/uf/+P+c/3z/If/8/rj/SP/f/5sAov4AALj/5/65/yn/5/9rAC3+nP/W/1v/4f6D/ioBw/8HASD/GP4T/+UCdgCM/0/+6/4gAo4Awf4o/20B6gGCAM0BAACv/34B0P89/zv+D/8Y/9QADQAhANMAqv9IAJH/zf2KACIAG//i/tT/UP/XACABNwC2AdQAjf9YACX+Qf9q/hf+dAC4AAwBVf89A9f+qP8jAPH/qP83AOP/QP/b/wECFAKbAGH/FgBvAIX+zADEAHcB2P6ZAbP/GgFMACEB3f87Apz+PQAaABECfAGc/jn/4P+YAfr/jv9TAEn+JABH/iUAwP+s/uv+nQDmAGP/fAC0AWEBc/66/VP/FP9CAR0BUv9nACoA2QDN/9IA0P4HAMYALgFK/kcAsv5B/zL//f+u/qX9NP6KAXgB7v8fAAgArv7o/8/+3v5vAbH/dwFG/zj/v/5o/7r+Rf4UAfj+oQEJADIAQP/4AbX/KQBD/6EAywEnAS8BQAFd/34AmgI2AOYB8P5s/ywAfgLFAWUAsf8AAJz9Bv/9/Wj/f//W/rn+aADU/qH/Sf/N/zkAQv+L/sL+3/9X/4sBCv+kAf8Auf4ZAB0B+wD3/vD+kgJp/wUBS/6V/sP/of+D/0UApv+yAcMATwD//9n/dAC4/w8CVgG4AQ0Bh/8oAcoAnP6XAjMDWAHDALL+RwFs/7QAgQH3ACT+HALc/4gADv9aAAD/Zf/CAHgAKAFAAAj/Bv8ZABEAWf/r///+o//q/0r+0P97/4b/5v6M/fv/6v26/0IA3ADD/oj/I/6f/3r/1gAi/8IAzP/+/Q/+DQBq/6X+r/5XATMASv9v/ysASwE9Auz/BP9//0YBYgCa/kQB3v/F/iUA9P5//4v/AwIbAXb/IgOs/88AXv8AACsAnwE0AVAA8/8lAdz9zP9S/tkAZwAMAIYAiv9s/ocAJ/4C/hn/yP7h/l3/SwBXAAIBjwHU/5kA/gB7AdgA8/54/wj/HgFJ//n/JQBm/tj/Nv6f/2cBzgFXAGQASP8MA9P/FQDd/zn/a/92ALj/P/4LAEf/1QClANX97QBYAK7+xQBj/4L+W/6Z/3AAwgAUAUUBvAAIAL0AG/+Q/gL/Av7D/wD/JP82/84AUf90//b+JQGx/aj/yf96AEoAef/l/7EA5QDZ/oMAKgA2/loAHf/x/5X+OgAv/yn+qPxZAEMAQ/+KAM4AlAHI/yoB5gDt/1gA0QAVABYBqwDw/9sAa/7pAO0ATAI3/w8Cq/+WAGL/2f+eADIAjf8B/xAA7f/8/gsAWf66/YD9mf8+/+b+jv8e/0b/x/9S/gT/IQB3AEYA9P/3/tQB8P+A/0oATAA+ACL/zv8U/8n9Q/+//08AJwE9ASMASP8YAc8A8v43AJ3+/wA0AeT/kQHKAKEA/gDY/2D/rALBAggBZQCY/ywCKADL/bv/WP87/jMBAP9r/5X/7QBo/+EAr/53/+f/HQHq/5r/V/7LACP/JP8r/hcAJ//r/oH+fwAa/yEASwCG/vL/K//C/sD+pf8SAAgCKgH+/8gA3AAaAEAC9gCvAQv/hABdAbn/yv+vAK8ADAFC/8L+EgHtAOr9I/+wALv+FACn//j++v+RAAIBYwHH/3v/xADO/1IAP/8u/z8Bfv6UAY3/aP+DAR8ADwBf/78A3ABNAM3/WQEA/4L/Wf/0AN//LABNAVj/WP/q/4L/IP9B/5QAGQFN/tX/yf/IAAoAO/8uAeb/nf/s/6L/bP+hAMsAPgEqAIf9wP87/2QArv/C/xn/JP8cAm3/4f7nAFAADgHz/1cAYwCj/vcA4f8qAOAAQgB0ACgBq/5V/ikAfQAXAb0A9P8PADcA6/+EAFUBN/8S/5r/Yf+kADn+mP6QAO7+YACMAGgARf9aAZ7+SP7T/5f/vv8IATIBuf5HANsAzf6u/34AeQDS/4//sP8AAEMAGQFkAO7/KP+e/+j9ZgEqAM7/UwC6AsAAmv+lAJ4A+gBc/07/fwBR/yn/HQBeAbEAxgFJAuH+bwAu/8j///8w/4//IgDQA3n/Qf+DABL/LAB3/3r/ef6uACUA8ACl/0z/S/9ZAcUBEgBF/ycAVv+3/sP+2ADn/pj+9/0IAN0AfP+y/pD/z//OAMX+w/+cAPD/3f6PACv/qP/T/0L+L//JAC0BLv/RAYkBygBIAKAAFwGH/7f/qv4PAR0AdAHf/8sAFAHQ/+L/GQDiAPn+PgA9AO8C5QHW/0z+xwK5/+0AOQKHAL8A3QHc/m8A5v6KAPr/QQPx/pf+Pf8OAQD/u/0gAMoBewEFACEAzP5aAUP+g/7T/8IAgwCW/k0AsP///l3+YgFK/4n/S/9JAdT9s/4mAGL+df4SAKf/h////00Ap/4ZAP7+sv5V/sD+6/62/kYADgLJ/QH/Uf/7/rv+Cv8RAXAAr//5/5n/NQHt/vX/VwD3AD4AnQBM/8z/AQDW/m8Bu/6jAGD/awBw/yAAKACcAF8A9P+ZARf/bgHg/rz/Af/o/2r/v//6/yUBAACbAE3/MQAaAPb/gAChARr/eQD4/zoBgf/P/64AHQDb/+f/rwDqAFj+1f+N/QIAVv/q/9j/cAE3AP3/gwFb/vr+fv/o/x0BLQEgAJYAawC+AVT/iP/V/1oBgQB3/y4B1gCQ//cAIQGLAL/+ewBa/3z/vQAVAM7/tgDiANkA0QBp/j0Cpv4w/vEA0f9T/8AAHwF6/+IAh//x/+n/Ef7O/3z+yfyx/yP/3wBY/6UBsf/O/gAAlf8V/2EA6f4LAHH/YQCLAV8A3P0IAGcArABs/6wAtABy/2kBBACjADr/oP+XALn/mv8NAPv/LgCbAXoA3QCM/20AHQFpAB4BGAE//sz+UQH1//n/r//J/wcCBgEvAMr/fgD8//n/Of9SADz/cAFG/ioATAAV/goB+v0qAXEBfQGw/lv/9v6e/xz/Fv9E/xf+iwBt/5oA9/8WAWEASv3vAPr/rQDB/zcASf4M/6L+UwEv/2f/dv4rAFoAqP9CAEsAFQNR/93/JwDU/+7+lP9UAZMAXf8OAGX/UAB1AN8AtgGF/vMAsf7r/9j+xwEa/6sAYAIFAbD/KP58/4QAOP/v/v0BXgDN/oX/0//RAGIAFgA5/qYA6wBBAbP/sP8qASv/XwDS/1T/igBY/wMAz/5tAej//QBXADwAkf78/3r/Iv64/pAAPgDp/77/sP+KADYBWP/8AAUAlv7+AEcA+AK6/3sAK/6x/38ARQC7/4D/MQCi/wgB0f7M/3L/V/9z/1YBzwGGAW7/yv9gAaQAmQK1AP4A/v8fAP8AaACqAaf++v4N/rH/6/8NAsYAEgAKAAcBWf8S/xH+pgAq/4n+hQD7/x4BaABA/yEA4v2BAC8Az/5VAJL+xf9pAOX++v9oALf//P9uAeH+ewBK/7v/W/8SADEAiP6a/7oANAE5/y0BPv6s/7v/ZADQ/3r/hP8lARQA2/6Y/x3/2v/R/yL/aQHVAXsARf/L/oEAkf9g/uj/vf9j/sr/wv4MAKwAxQCaAOIAHgA//13/EQGUAF7/GAAxAIIBaP7y/gcCBQFmAIsAagDtASIBjwDn/lv+tf5gAMH9LACAAO3/UgAB/tMA5f5R/okA+f5E/x//M/8sAJT/fP69/0wApP/p/lr/nADI/97/hQAA/3kAzgBPAL/+nwDTAH7/CAG+/pIAOQB0/xEBp/4DAPr/CwEhAKAAD/7O/8MASv9oATMBDP9JACb/cwJ7AHMBj/9k/1n/wf+HAK0Agf8tAdH+QgEKAYgAhv/p/8AABQHD/wUBw/9g/joBOgD+//P+XgBZ/37/lP+N/qIACgCI/wEBJACmAHD/o/+tAHIAuP6CAAoBcQBO/rH/mv9r/8oAhgA8/1//uQBdAMb9HP3jATwAsv8aAOv/v/82/9b+dv9GAMYAGwK7/j4Asv4gAGn/EwB+/88BQP+UAaUAlwIL/yb+LgBV/ncANgDQ/oEApP+uAH/+QgHT/sD//P9U/lsAqgKL/5kAq/9B/9EAzwCO/3QAE/8e/xwAS//DAN4BKwKbANUBgf4Q//z/bf5bAG4Ajf+fANb/OQCyANz/pgBO/nr7rP/f/pv9JwCP/2v/TQCwADX/ff6M/1gAyv7oAV8AYf4FAdEAi/9K/mb+xP8m/2YA//+MAMD+GQAKAIf/eQDZ/38AmP9tAMb/q/8r////UwBu/1b/L/6BAIwB8/+I/hj+kv/s/5cAGAD0/+X+qv/x/YEB0/7vAF4Ctf+kAGMAcgAHAV3+cACt/lr96f56/mMADf+mAJj+0P9y/0X/if+l/wcAtgEOAaH+sv+6APX8dAHW/0sA7wEA/6/+JgC4AGQAJwAJANT/vv/IAV4AWgAQ/6kA7//X/zb+FABwAGsA1/7q/vb/4f/MAAIA1v4WASUAmQGV//39kgFM/7EAoADBADQAvP8q/2cAmwBuAJ8AaQApADABCQCBARMBIP+q/+z/BgCMANP+nv/9/rgAF//gAYz/AAD1ALv+sv9OAE0AkgEPAWUBowA1AfQBpQB+AWEBKgFDAAX/Uf8Z/3b9NwAqAML+uwCM/isB9f5xAX3+8AC2AA4Bpv+AAD4AxwAZAD8BHwBd/wf/UQAg/0oA9P6AAPr+G/7u/xsAhwHm/pEAvADqAEP/KQA0/8f//P8g/6gAVwAH/3v/Qv+x/70AaAGlAUkAKwCuAKYAG/8H/23/rwE1/hIB0P9QAOb/Cv9c/xwAWwDx/k7+m/8V/2P/tv4S/0IAHwCjAPD+NACH/zEBjgGYAP/+ZP9+/v7/egLmAM4ADwLzAPYA3P/f/8H/hgDqAPz/y/+TAOIATv9H/lUBdABZABAA/v4TAFMAC/+0AS0C+v8cAeQAa/81AMv/dP+Q//oAQP/q/uj/Q/44ARQArf1sAE7+zv79AB//zwBpAqQAFgG2AHP/IAByAGH+pv/A//IAjgFM/1YBov1oAEwALf/s/6wCMgDK/7T/2ADC/1IAlf5a/+sBHQH+/3L/gP/+/joAWACJ/1oAKQF3AZL/yv8CAcf/4P8zAjEAOwIkAIj/3f6DAGAApv8DAA4ACgDQ/UUBigBtAS0BIgGwAO/+4v+q/1IBxP8JADL/t/9NAM3/DgHR/0H/igAC/wMCEgCH/9j9LAAM/0oBUQBdARoCEf8k/gv/NADT/ov+SP+q/mwAMgKhAdf+RwDJ/4kAwAH4ADL/VgEq/xj/ov87AGD/cgEX/xIBzwDqACz+xgDfACkBwf9RACIBjwD5AE3/lP5O/ygAXwEyATf+Xf+JATgA7AB4/tUAUAG//0H/QgGLAMX/gAG0//H+7P9F/wsAdf66/iMAKP+q/q3++f51ADsAeQEW/ysA0QHsADj+L/73/lD/Uv+Z/4gADwGn/78BKv9n/zYA7QAkAJYBj/6xAH//nQDD/wABXgCKALoAa/6fAHL/OwBb/lEAv/+//rP+KAEtAIj/Of+KAcD/cf8gADQAUf9a/5sAbgBJ/4ICuACSAJH/fgBQ/s0BxgAPADsCowB5/8cADv+r/8T+RAFE/6n/Kv45/yH9mP+r/dv/bACI/Ub/kv/4ALr/GwAmAJoBEAGhAGoA7v7+AL0AOf5D/qf/ev/T/74AaP7H/24B+QDy/y8Atv7O/kABbQEuAP/+Xf+jAGoBxQKX/xoAEQEMAfYBmv3l/ZYAvQGo/3IAZwHO/yEBEAEDAAD/QgG1AEv/f//d/4n/5/+w/7H/yP62/9v/MP+pABsADQIkATsAYf+AAGX+Of9D/n3+JQAX/8QArf81/o//HwC7AYoADP/N/SUAvf7q/pwB4v/c/sX/LAApAEsBDAKLAT4AWf+TAWX/SQD4/Sj/IgEvArj/kwBR/5cAjP8IALr+vf+/AYv/QP6y/Cb/xv/I/XsA5QAG/3MAjQBAAMsAMwCEAOYAuwFSAfX/u/7QANL+NQEDAnL/DgFgAK3/HgB5AjMBPAKxAGj/mgAuASIAWgAoADIAm/9t/ov+k/3r/2T/4QAT/zP/MwFEAE3/xwEs/yIB3/+Y//3+KACGAIT/bAAi/tL/CP9d/gwAEgAf/7H/cgJ3AMv/HAI7AJD+OAH9APIAgv+K/zT/+ADrAMX/qQDV/S4Amv+d/5kAsv9V/qgArf4fABUAAv+XARoAxf+oAE0AyQGwAPj+5P8EAdsA6P99/m0Auf9pAHsA6P/hAAMAHACxAJX+6v11/28BCf8LAYYBkgFJAFABnABmAHkBHP/6/6D+mQCJAOr+yf9XAVL/GwHYAFcAIf95AHEBhv/6/2D+gP5e/xz/o/+E/zkBVwDG/h0C6f6eALIB7wCRAJ7/NwHh/icCowDPAP3//f8vACUAYwDH/xIALgIT/8L/fwD5/0z+JwAM/p7/Of5v/k3/LP7N/6X+dP60/1wAigAF/zQAAQAXAF4BmABxAC//BAKu/60A3QBmAOj/Jf/m/ln/d//1/sv/Uv9U/+X9AQBTAZsAWgCO/tb/9f5l////Pf+7/+EA5QAYAIL+gv8uACQAZwECACoBLQDU/zAAAQCNAOwAxACZ/5j+ZQB9/2v/0P8EAJX/FADmAEgAEgDTAJQB8v/2/+IAkQAfAPEB+gH7AA4AhQB0Ac8ALwH+AAECNACB/5cA1/5iAH7++AB8ANX+t/8hABUByACI/98AUv/XACUBXgCZ/Zf/L/+E/7wAL/+jAFv+uAAhAND+AgE2/gX/4QHe/k7/NQGUAQH/IgBv//f+Fv+R/8r+Cv76/nAAF/7n/lL/MgBS/cH+EwA7ADwAIf+5AQoCJQGwArf/RwA6ApL+1wB0/4z9/f5WAPYAxgB/AGL+0P+fAID/mAFdADP/FwCs/isA5P/8/+f/hv/FAHEAkQGRAHz/KgE7/10CYf9P/qMBOf7mAKP+4QB9/9H+0gDg/sYAOv/wAPn+AAB//9z/BwDg/4//RADc/ksDz/+DAQoBfAAeAJUANQHS/t/+BgLmAHcA9gLwAHwASwBIAHr+QgD7/fD/a/0Q/7r+qQBg/rX/zP31/an++/0g/z/+gf/+/aEBhQDU/owAiv8IAKIBkv8sAPUA+wCAAMEAiv8u/6L+HgE5AcYAoQFXAQQBNAHJ/4b/WwAAAYH/tgCn/RIAf/31/+D/jv0oADwA5f5i/60AoAB0AI3/\" type=\"audio/wav\" />\n",
              "                    Your browser does not support the audio element.\n",
              "                </audio>\n",
              "              "
            ]
          },
          "metadata": {},
          "execution_count": 120
        }
      ]
    },
    {
      "cell_type": "code",
      "execution_count": 121,
      "metadata": {
        "id": "79AFpA3_ctCF",
        "outputId": "0df51fc7-654f-447b-ff68-772f9d435756",
        "colab": {
          "base_uri": "https://localhost:8080/"
        }
      },
      "outputs": [
        {
          "output_type": "stream",
          "name": "stdout",
          "text": [
            "[[ -7.4002237  -10.42145      0.6485869    2.7090223 ]\n",
            " [  5.139574    -8.378221    -8.142497    -7.4544535 ]\n",
            " [ -2.27798    -21.009687    -4.2276697   -0.24028982]\n",
            " [-10.300297   -15.761584     6.129218     4.010176  ]]\n",
            "3\n",
            "The main sound is: Pendientes\n"
          ]
        }
      ],
      "source": [
        "scores, embeddings, spectrogram = yamnet_model(testing_wav_data)\n",
        "result = my_model(embeddings).numpy()\n",
        "res = result.mean(axis=0).argmax()\n",
        "print(result)\n",
        "print(res)\n",
        "inferred_class = my_classes[res]\n",
        "print(f'The main sound is: {inferred_class}')"
      ]
    },
    {
      "cell_type": "markdown",
      "metadata": {
        "id": "k2yleeev645r"
      },
      "source": [
        "## Save a model that can directly take a WAV file as input\n",
        "\n",
        "Your model works when you give it the embeddings as input.\n",
        "\n",
        "In a real-world scenario, you'll want to use audio data as a direct input.\n",
        "\n",
        "To do that, you will combine YAMNet with your model into a single model that you can export for other applications.\n",
        "\n",
        "To make it easier to use the model's result, the final layer will be a `reduce_mean` operation. When using this model for serving (which you will learn about later in the tutorial), you will need the name of the final layer. If you don't define one, TensorFlow will auto-define an incremental one that makes it hard to test, as it will keep changing every time you train the model. When using a raw TensorFlow operation, you can't assign a name to it. To address this issue, you'll create a custom layer that applies `reduce_mean` and call it `'classifier'`.\n"
      ]
    },
    {
      "cell_type": "code",
      "execution_count": null,
      "metadata": {
        "id": "QUVCI2Suunpw"
      },
      "outputs": [],
      "source": [
        "class ReduceMeanLayer(tf.keras.layers.Layer):\n",
        "  def __init__(self, axis=0, **kwargs):\n",
        "    super(ReduceMeanLayer, self).__init__(**kwargs)\n",
        "    self.axis = axis\n",
        "\n",
        "  def call(self, input):\n",
        "    return tf.math.reduce_mean(input, axis=self.axis)"
      ]
    },
    {
      "cell_type": "code",
      "execution_count": null,
      "metadata": {
        "id": "zE_Npm0nzlwc"
      },
      "outputs": [],
      "source": [
        "saved_model_path = './registros_yamnet'\n",
        "\n",
        "input_segment = tf.keras.layers.Input(shape=(), dtype=tf.float32, name='audio')\n",
        "embedding_extraction_layer = hub.KerasLayer(yamnet_model_handle,\n",
        "                                            trainable=False, name='yamnet')\n",
        "_, embeddings_output, _ = embedding_extraction_layer(input_segment)\n",
        "serving_outputs = my_model(embeddings_output)\n",
        "serving_outputs = ReduceMeanLayer(axis=0, name='classifier')(serving_outputs)\n",
        "serving_model = tf.keras.Model(input_segment, serving_outputs)\n",
        "serving_model.save(saved_model_path, include_optimizer=False)"
      ]
    },
    {
      "cell_type": "code",
      "execution_count": null,
      "metadata": {
        "id": "y-0bY5FMme1C"
      },
      "outputs": [],
      "source": [
        "tf.keras.utils.plot_model(serving_model)"
      ]
    },
    {
      "cell_type": "markdown",
      "metadata": {
        "id": "btHQDN9mqxM_"
      },
      "source": [
        "Load your saved model to verify that it works as expected."
      ]
    },
    {
      "cell_type": "code",
      "execution_count": null,
      "metadata": {
        "id": "KkYVpJS72WWB"
      },
      "outputs": [],
      "source": [
        "reloaded_model = tf.saved_model.load(saved_model_path)"
      ]
    },
    {
      "cell_type": "markdown",
      "metadata": {
        "id": "4BkmvvNzq49l"
      },
      "source": [
        "And for the final test: given some sound data, does your model return the correct result?"
      ]
    },
    {
      "cell_type": "code",
      "execution_count": null,
      "metadata": {
        "id": "xeXtD5HO28y-"
      },
      "outputs": [],
      "source": [
        "reloaded_results = reloaded_model(testing_wav_data)\n",
        "cat_or_dog = my_classes[tf.math.argmax(reloaded_results)]\n",
        "print(f'The main sound is: {cat_or_dog}')"
      ]
    },
    {
      "cell_type": "code",
      "source": [
        "reloaded_results = reloaded_model(testing_wav_data)\n",
        "registers_type = my_classes[tf.math.argmax(reloaded_results)]\n",
        "print(f'The main sound is: {registers_type}')"
      ],
      "metadata": {
        "id": "02X7_92J3iEw"
      },
      "execution_count": null,
      "outputs": []
    },
    {
      "cell_type": "markdown",
      "metadata": {
        "id": "ZRrOcBYTUgwn"
      },
      "source": [
        "If you want to try your new model on a serving setup, you can use the 'serving_default' signature."
      ]
    },
    {
      "cell_type": "code",
      "execution_count": null,
      "metadata": {
        "id": "ycC8zzDSUG2s"
      },
      "outputs": [],
      "source": [
        "serving_results = reloaded_model.signatures['serving_default'](testing_wav_data)\n",
        "cat_or_dog = my_classes[tf.math.argmax(serving_results['classifier'])]\n",
        "print(f'The main sound is: {cat_or_dog}')\n"
      ]
    },
    {
      "cell_type": "markdown",
      "metadata": {
        "id": "da7blblCHs8c"
      },
      "source": [
        "## (Optional) Some more testing\n",
        "\n",
        "The model is ready.\n",
        "\n",
        "Let's compare it to YAMNet on the test dataset."
      ]
    },
    {
      "cell_type": "code",
      "execution_count": null,
      "metadata": {
        "id": "vDf5MASIIN1z"
      },
      "outputs": [],
      "source": [
        "test_pd = filtered_pd.loc[filtered_pd['fold'] == 5]\n",
        "row = test_pd.sample(1)\n",
        "filename = row['filename'].item()\n",
        "print(filename)\n",
        "waveform = load_wav_16k_mono(filename)\n",
        "print(f'Waveform values: {waveform}')\n",
        "_ = plt.plot(waveform)\n",
        "\n",
        "display.Audio(waveform, rate=16000)"
      ]
    },
    {
      "cell_type": "code",
      "execution_count": null,
      "metadata": {
        "id": "eYUzFxYJIcE1"
      },
      "outputs": [],
      "source": [
        "# Run the model, check the output.\n",
        "scores, embeddings, spectrogram = yamnet_model(waveform)\n",
        "class_scores = tf.reduce_mean(scores, axis=0)\n",
        "top_class = tf.math.argmax(class_scores)\n",
        "inferred_class = class_names[top_class]\n",
        "top_score = class_scores[top_class]\n",
        "print(f'[YAMNet] The main sound is: {inferred_class} ({top_score})')\n",
        "\n",
        "reloaded_results = reloaded_model(waveform)\n",
        "your_top_class = tf.math.argmax(reloaded_results)\n",
        "your_inferred_class = my_classes[your_top_class]\n",
        "class_probabilities = tf.nn.softmax(reloaded_results, axis=-1)\n",
        "your_top_score = class_probabilities[your_top_class]\n",
        "print(f'[Your model] The main sound is: {your_inferred_class} ({your_top_score})')"
      ]
    },
    {
      "cell_type": "markdown",
      "metadata": {
        "id": "g8Tsym8Rq-0V"
      },
      "source": [
        "## Next steps\n",
        "\n",
        "You have created a model that can classify sounds from dogs or cats. With the same idea and a different dataset you can try, for example, building an [acoustic identifier of birds](https://www.kaggle.com/c/birdclef-2021/) based on their singing.\n",
        "\n",
        "Share your project with the TensorFlow team on social media!\n"
      ]
    }
  ],
  "metadata": {
    "accelerator": "GPU",
    "colab": {
      "name": "transfer_learning_audio.ipynb",
      "provenance": [],
      "gpuType": "T4"
    },
    "kernelspec": {
      "display_name": "Python 3",
      "name": "python3"
    }
  },
  "nbformat": 4,
  "nbformat_minor": 0
}